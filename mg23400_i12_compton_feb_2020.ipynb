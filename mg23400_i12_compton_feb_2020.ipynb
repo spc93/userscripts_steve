{
 "cells": [
  {
   "cell_type": "code",
   "execution_count": 5,
   "metadata": {},
   "outputs": [],
   "source": [
    "import sys\n",
    "sys.path.append('/dls_sw/apps/scisoftpy/2.7')\n",
    "sys.path.append('/dls_sw/i16/software/python')\n",
    "from dlstools import *\n",
    "from dlstools.pdnx import *\n",
    "from matplotlib.pyplot import *\n",
    "from dlstools.quickfit import *\n",
    "from mpl_toolkits.mplot3d import Axes3D ########## was not previously required!!\n",
    "%matplotlib notebook\n",
    "p='/dls/i12/data/2020/mg23400-3/%i.nxs'"
   ]
  },
  {
   "cell_type": "markdown",
   "metadata": {},
   "source": [
    "# ProposalMG23400\n",
    "Visit IdMG23400-3\n",
    "TitleOperando Battery Characterisation with multi-mode X-ray Imaging\n",
    "SummaryThe capacity of Lithium-ion batteries decreases when they are charged and discharged rapidly, which is a significant problem for their longevity and reliability. X-rays provide several means of studying battery materials and complete cells, but it is still difficult to observe changes in lithium distribution, which are thought to cause the degradation in cell capacity. We will implement an improved version of a novel imaging technique based on inelastically scattered X-rays, which can be used to observe chemical changes inside complete lithium ion batteries when they are being charged and discharged. The technique can be combined with conventional X-ray imaging and tomography, providing complementary information on shape changes inside a battery cell. The new technique will be used to study the effect of charge-discharge rate on lithium distribution in complete coin cells.\n",
    "\n",
    "InvestigatorMr Matthew Wilson\n",
    "InvestigatorDr. Oxana Magdysyuk\n",
    "InvestigatorDr Chun Huang\n",
    "InvestigatorDr Enzo Liotti\n",
    "InvestigatorProf Steve Collins\n",
    "InvestigatorDr Thomas Connolley\n",
    "InvestigatorDr David Laundy\n",
    "InvestigatorDr Andrew Lui\n",
    "InvestigatorDr Kosuke Suzuki\n",
    "\n"
   ]
  },
  {
   "cell_type": "code",
   "execution_count": 9,
   "metadata": {},
   "outputs": [
    {
     "data": {
      "text/plain": [
       "99.86383262980577"
      ]
     },
     "execution_count": 9,
     "metadata": {},
     "output_type": "execute_result"
    }
   ],
   "source": [
    "def ECompton(E, tth):\n",
    "    #return energy of centre of Comptpn profile; E in keV, tth in degrees\n",
    "    return E/(1+(E/511.0)*(1-np.cos(tth*np.pi/180)))\n",
    "        \n",
    "ECompton(114.6,70)"
   ]
  },
  {
   "cell_type": "code",
   "execution_count": 1,
   "metadata": {},
   "outputs": [
    {
     "name": "stdout",
     "output_type": "stream",
     "text": [
      "········\n",
      "self.jsonPropertiesFile: /dls_sw/apps/python/anaconda/4.6.14/64/envs/python3.7/lib/python3.7/site-packages/datacat/config/icat.config\n",
      "Visit information: {'endDate': '2017-10-27 09:00:00+01:00', 'startDate': '2017-08-11 09:00:00+01:00', 'summary': N/A, 'title': I16 Commissioning Directory 2017, 'visitId': CM16772-4, 'proposal': CM16772}\n",
      "endDate     \t:\t 2017-10-27 09:00:00+01:00\n",
      "startDate     \t:\t 2017-08-11 09:00:00+01:00\n",
      "summary     \t:\t N/A\n",
      "title     \t:\t I16 Commissioning Directory 2017\n",
      "visitId     \t:\t CM16772-4\n",
      "proposal     \t:\t CM16772\n",
      "Visit users:[{'role': CO_INVESTIGATOR, 'fullName': Dr Rob Walton}, {'role': LOCAL_CONTACT_1ST, 'fullName': Dr Gareth Nisbet}, {'role': CO_INVESTIGATOR, 'fullName': Dr Alun Ashton}, {'role': CO_INVESTIGATOR, 'fullName': Mr Charles Mita}, {'role': TEAM_LEADER, 'fullName': Mrs Chris Markiw}, {'role': LOCAL_CONTACT_1ST, 'fullName': Prof Steve Collins}, {'role': LOCAL_CONTACT_1ST, 'fullName': Dr Alessandro Bombardi}, {'role': CO_INVESTIGATOR, 'fullName': Mr Benjamin Moser}]\n",
      "CO_INVESTIGATOR     \t Dr Rob Walton\n",
      "LOCAL_CONTACT_1ST     \t Dr Gareth Nisbet\n",
      "CO_INVESTIGATOR     \t Dr Alun Ashton\n",
      "CO_INVESTIGATOR     \t Mr Charles Mita\n",
      "TEAM_LEADER     \t Mrs Chris Markiw\n",
      "LOCAL_CONTACT_1ST     \t Prof Steve Collins\n",
      "LOCAL_CONTACT_1ST     \t Dr Alessandro Bombardi\n",
      "CO_INVESTIGATOR     \t Mr Benjamin Moser\n"
     ]
    },
    {
     "data": {
      "text/plain": [
       "[None, None, None, None, None, None, None, None]"
      ]
     },
     "execution_count": 1,
     "metadata": {},
     "output_type": "execute_result"
    }
   ],
   "source": [
    "import getpass\n",
    "from datacat import datacat_visit_info\n",
    "\n",
    "dcat = datacat_visit_info.DataCatalogueVisitInfo('spc93', getpass.getpass())\n",
    "di = dcat.get_visit_info('CM16772-4')\n",
    "[print(t, '    \\t:\\t', di[t]) for t in di]\n",
    "du = dcat.get_visit_users('CM16772-4')\n",
    "[print(inv['role'], '    \\t', inv['fullName']) for inv in du]\n",
    "\n",
    "#dcat.get_visit_sample('CM16772-4') - error (no sample info?)\n"
   ]
  },
  {
   "cell_type": "code",
   "execution_count": null,
   "metadata": {},
   "outputs": [],
   "source": []
  }
 ],
 "metadata": {
  "kernelspec": {
   "display_name": "Python 3.7",
   "language": "python",
   "name": "python3"
  },
  "language_info": {
   "codemirror_mode": {
    "name": "ipython",
    "version": 3
   },
   "file_extension": ".py",
   "mimetype": "text/x-python",
   "name": "python",
   "nbconvert_exporter": "python",
   "pygments_lexer": "ipython3",
   "version": "3.7.3"
  }
 },
 "nbformat": 4,
 "nbformat_minor": 2
}
