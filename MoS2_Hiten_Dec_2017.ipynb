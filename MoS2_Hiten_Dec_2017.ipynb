{
 "cells": [
  {
   "cell_type": "code",
   "execution_count": 1,
   "metadata": {
    "collapsed": true
   },
   "outputs": [],
   "source": [
    "import numpy as np\n",
    "import matplotlib.pyplot as plt\n",
    "import pandas as pd\n",
    "pd.set_option('display.max_rows',8)\n",
    "%matplotlib inline\n",
    "path='/dls/science/users/spc93/data/MoS2/'"
   ]
  },
  {
   "cell_type": "code",
   "execution_count": 2,
   "metadata": {},
   "outputs": [
    {
     "data": {
      "text/plain": [
       "<matplotlib.axes._subplots.AxesSubplot at 0x7f87f594aed0>"
      ]
     },
     "execution_count": 2,
     "metadata": {},
     "output_type": "execute_result"
    },
    {
     "data": {
      "image/png": "[encoded data removed]",
      "text/plain": [
       "<matplotlib.figure.Figure at 0x7f88274ee510>"
      ]
     },
     "metadata": {},
     "output_type": "display_data"
    },
    {
     "data": {
      "image/png": "[encoded data removed]",
      "text/plain": [
       "<matplotlib.figure.Figure at 0x7f882053af10>"
      ]
     },
     "metadata": {},
     "output_type": "display_data"
    }
   ],
   "source": [
    "file='MoS2_I16_MoS2_Point detector.txt'\n",
    "d=pd.read_csv((path+file),header=250,skip_blank_lines=False)\n",
    "d.plot(x='     Angle',y=' Det1Disc1', logy=True)\n",
    "d.plot(x='     Angle',y=' Det1Disc1', xlim=[59.75,60.5], ylim=[0,200000])"
   ]
  },
  {
   "cell_type": "code",
   "execution_count": 3,
   "metadata": {},
   "outputs": [
    {
     "data": {
      "text/html": [
       "<div>\n",
       "<style scoped>\n",
       "    .dataframe tbody tr th:only-of-type {\n",
       "        vertical-align: middle;\n",
       "    }\n",
       "\n",
       "    .dataframe tbody tr th {\n",
       "        vertical-align: top;\n",
       "    }\n",
       "\n",
       "    .dataframe thead th {\n",
       "        text-align: right;\n",
       "    }\n",
       "</style>\n",
       "<table border=\"1\" class=\"dataframe\">\n",
       "  <thead>\n",
       "    <tr style=\"text-align: right;\">\n",
       "      <th></th>\n",
       "      <th>Angle</th>\n",
       "      <th>Det1Disc1</th>\n",
       "      <th>Unnamed: 2</th>\n",
       "    </tr>\n",
       "  </thead>\n",
       "  <tbody>\n",
       "    <tr>\n",
       "      <th>0</th>\n",
       "      <td>0.00</td>\n",
       "      <td>8225090.0</td>\n",
       "      <td>NaN</td>\n",
       "    </tr>\n",
       "    <tr>\n",
       "      <th>1</th>\n",
       "      <td>0.01</td>\n",
       "      <td>8259520.0</td>\n",
       "      <td>NaN</td>\n",
       "    </tr>\n",
       "    <tr>\n",
       "      <th>2</th>\n",
       "      <td>0.02</td>\n",
       "      <td>7869910.0</td>\n",
       "      <td>NaN</td>\n",
       "    </tr>\n",
       "    <tr>\n",
       "      <th>3</th>\n",
       "      <td>0.03</td>\n",
       "      <td>6882650.0</td>\n",
       "      <td>NaN</td>\n",
       "    </tr>\n",
       "    <tr>\n",
       "      <th>...</th>\n",
       "      <td>...</td>\n",
       "      <td>...</td>\n",
       "      <td>...</td>\n",
       "    </tr>\n",
       "    <tr>\n",
       "      <th>10997</th>\n",
       "      <td>109.97</td>\n",
       "      <td>3.0</td>\n",
       "      <td>NaN</td>\n",
       "    </tr>\n",
       "    <tr>\n",
       "      <th>10998</th>\n",
       "      <td>109.98</td>\n",
       "      <td>5.0</td>\n",
       "      <td>NaN</td>\n",
       "    </tr>\n",
       "    <tr>\n",
       "      <th>10999</th>\n",
       "      <td>109.99</td>\n",
       "      <td>5.0</td>\n",
       "      <td>NaN</td>\n",
       "    </tr>\n",
       "    <tr>\n",
       "      <th>11000</th>\n",
       "      <td>110.00</td>\n",
       "      <td>3.0</td>\n",
       "      <td>NaN</td>\n",
       "    </tr>\n",
       "  </tbody>\n",
       "</table>\n",
       "<p>11001 rows × 3 columns</p>\n",
       "</div>"
      ],
      "text/plain": [
       "            Angle   Det1Disc1  Unnamed: 2\n",
       "0            0.00   8225090.0         NaN\n",
       "1            0.01   8259520.0         NaN\n",
       "2            0.02   7869910.0         NaN\n",
       "3            0.03   6882650.0         NaN\n",
       "...           ...         ...         ...\n",
       "10997      109.97         3.0         NaN\n",
       "10998      109.98         5.0         NaN\n",
       "10999      109.99         5.0         NaN\n",
       "11000      110.00         3.0         NaN\n",
       "\n",
       "[11001 rows x 3 columns]"
      ]
     },
     "execution_count": 3,
     "metadata": {},
     "output_type": "execute_result"
    }
   ],
   "source": [
    "d"
   ]
  },
  {
   "cell_type": "code",
   "execution_count": 4,
   "metadata": {},
   "outputs": [
    {
     "data": {
      "text/plain": [
       "<matplotlib.axes._subplots.AxesSubplot at 0x7f87f58f5dd0>"
      ]
     },
     "execution_count": 4,
     "metadata": {},
     "output_type": "execute_result"
    },
    {
     "data": {
      "image/png": "[encoded data removed]",
      "text/plain": [
       "<matplotlib.figure.Figure at 0x7f882053a8d0>"
      ]
     },
     "metadata": {},
     "output_type": "display_data"
    }
   ],
   "source": [
    "file='MoS2_I16_MoS2_Vantec.txt'\n",
    "d=pd.read_csv((path+file),header=221,skip_blank_lines=False)\n",
    "d.plot(x='     Angle',y='       PSD', logy=True)\n",
    "#d.plot(x='     Angle',y=' Det1Disc1', xlim=[59.75,60.5], ylim=[0,200000])"
   ]
  },
  {
   "cell_type": "code",
   "execution_count": 5,
   "metadata": {
    "collapsed": true
   },
   "outputs": [],
   "source": [
    "c=12.302; lam=1.5406; refs=np.arange(1,6); angles=2*np.arcsin(lam/2./c*refs)*180/np.pi"
   ]
  },
  {
   "cell_type": "code",
   "execution_count": 6,
   "metadata": {
    "collapsed": true
   },
   "outputs": [],
   "source": [
    "d['l']=pd.Series(2.*c/lam*np.sin(d['     Angle']/2.*np.pi/180))"
   ]
  },
  {
   "cell_type": "code",
   "execution_count": 7,
   "metadata": {},
   "outputs": [
    {
     "data": {
      "text/plain": [
       "<matplotlib.axes._subplots.AxesSubplot at 0x7f87f5555d90>"
      ]
     },
     "execution_count": 7,
     "metadata": {},
     "output_type": "execute_result"
    },
    {
     "data": {
      "image/png": "[encoded data removed]",
      "text/plain": [
       "<matplotlib.figure.Figure at 0x7f87f594a610>"
      ]
     },
     "metadata": {},
     "output_type": "display_data"
    }
   ],
   "source": [
    "d.plot(x='l',y='       PSD', logy=True)"
   ]
  },
  {
   "cell_type": "code",
   "execution_count": 8,
   "metadata": {},
   "outputs": [
    {
     "data": {
      "text/plain": [
       "0         0.696619\n",
       "1         0.697379\n",
       "2         0.698140\n",
       "3         0.698900\n",
       "           ...    \n",
       "19223    13.080988\n",
       "19224    13.081387\n",
       "19225    13.081867\n",
       "19226    13.082267\n",
       "Name: l, Length: 19227, dtype: float64"
      ]
     },
     "execution_count": 8,
     "metadata": {},
     "output_type": "execute_result"
    }
   ],
   "source": [
    "d['l']"
   ]
  },
  {
   "cell_type": "code",
   "execution_count": 9,
   "metadata": {},
   "outputs": [
    {
     "data": {
      "text/html": [
       "<div>\n",
       "<style scoped>\n",
       "    .dataframe tbody tr th:only-of-type {\n",
       "        vertical-align: middle;\n",
       "    }\n",
       "\n",
       "    .dataframe tbody tr th {\n",
       "        vertical-align: top;\n",
       "    }\n",
       "\n",
       "    .dataframe thead th {\n",
       "        text-align: right;\n",
       "    }\n",
       "</style>\n",
       "<table border=\"1\" class=\"dataframe\">\n",
       "  <thead>\n",
       "    <tr style=\"text-align: right;\">\n",
       "      <th></th>\n",
       "      <th>Angle</th>\n",
       "      <th>PSD</th>\n",
       "      <th>Unnamed: 2</th>\n",
       "      <th>l</th>\n",
       "    </tr>\n",
       "  </thead>\n",
       "  <tbody>\n",
       "    <tr>\n",
       "      <th>0</th>\n",
       "      <td>5.00000</td>\n",
       "      <td>241.0</td>\n",
       "      <td>NaN</td>\n",
       "      <td>0.696619</td>\n",
       "    </tr>\n",
       "    <tr>\n",
       "      <th>1</th>\n",
       "      <td>5.00546</td>\n",
       "      <td>226.0</td>\n",
       "      <td>NaN</td>\n",
       "      <td>0.697379</td>\n",
       "    </tr>\n",
       "    <tr>\n",
       "      <th>2</th>\n",
       "      <td>5.01092</td>\n",
       "      <td>234.0</td>\n",
       "      <td>NaN</td>\n",
       "      <td>0.698140</td>\n",
       "    </tr>\n",
       "    <tr>\n",
       "      <th>3</th>\n",
       "      <td>5.01638</td>\n",
       "      <td>191.0</td>\n",
       "      <td>NaN</td>\n",
       "      <td>0.698900</td>\n",
       "    </tr>\n",
       "    <tr>\n",
       "      <th>...</th>\n",
       "      <td>...</td>\n",
       "      <td>...</td>\n",
       "      <td>...</td>\n",
       "      <td>...</td>\n",
       "    </tr>\n",
       "    <tr>\n",
       "      <th>19223</th>\n",
       "      <td>109.98500</td>\n",
       "      <td>6.0</td>\n",
       "      <td>NaN</td>\n",
       "      <td>13.080988</td>\n",
       "    </tr>\n",
       "    <tr>\n",
       "      <th>19224</th>\n",
       "      <td>109.99000</td>\n",
       "      <td>9.0</td>\n",
       "      <td>NaN</td>\n",
       "      <td>13.081387</td>\n",
       "    </tr>\n",
       "    <tr>\n",
       "      <th>19225</th>\n",
       "      <td>109.99600</td>\n",
       "      <td>13.0</td>\n",
       "      <td>NaN</td>\n",
       "      <td>13.081867</td>\n",
       "    </tr>\n",
       "    <tr>\n",
       "      <th>19226</th>\n",
       "      <td>110.00100</td>\n",
       "      <td>10.0</td>\n",
       "      <td>NaN</td>\n",
       "      <td>13.082267</td>\n",
       "    </tr>\n",
       "  </tbody>\n",
       "</table>\n",
       "<p>19227 rows × 4 columns</p>\n",
       "</div>"
      ],
      "text/plain": [
       "            Angle         PSD  Unnamed: 2          l\n",
       "0         5.00000       241.0         NaN   0.696619\n",
       "1         5.00546       226.0         NaN   0.697379\n",
       "2         5.01092       234.0         NaN   0.698140\n",
       "3         5.01638       191.0         NaN   0.698900\n",
       "...           ...         ...         ...        ...\n",
       "19223   109.98500         6.0         NaN  13.080988\n",
       "19224   109.99000         9.0         NaN  13.081387\n",
       "19225   109.99600        13.0         NaN  13.081867\n",
       "19226   110.00100        10.0         NaN  13.082267\n",
       "\n",
       "[19227 rows x 4 columns]"
      ]
     },
     "execution_count": 9,
     "metadata": {},
     "output_type": "execute_result"
    }
   ],
   "source": [
    "d"
   ]
  },
  {
   "cell_type": "code",
   "execution_count": 10,
   "metadata": {},
   "outputs": [
    {
     "name": "stdout",
     "output_type": "stream",
     "text": [
      "#    (h,k,l)           Intensity           Norm. Int.        Amplitude                               TwoTheta (deg)                d_spacing (A)       \n",
      "1    (0, 0, 2)         5828.92727755       70.9761027269     (-76.3474117279+0j)                     14.3902010581                 6.147               \n",
      "2    (0, 0, 4)         477.57027121        5.8151483137      (21.8533812306+0j)                      29.0138233105                 3.0735              \n",
      "3    (1, 0, 0)         3279.72137362       39.9356228076     (-57.2688516876+0j)                     32.6793242057                 2.73664027596       \n",
      "4    (1, 0, 1)         977.958191777       11.9081363992     (-31.2723230953+0j)                     33.5024626442                 2.67125914202       \n",
      "5    (1, 0, 2)         1028.08643883       12.5185244591     (32.0637870319+0j)                      35.8716814179                 2.50007256324       \n",
      "6    (1, 0, 3)         6987.52281695       85.0837750494     (83.5914039657+0j)                      39.5460182113                 2.27583226991       \n",
      "7    (0, 0, 6)         4623.65777116       56.3001034862     (-67.9974835649+0j)                     44.1407547916                 2.049               \n",
      "8    (1, 0, 4)         120.355106529       1.46550745926     (-10.9706474982+0j)                     44.2576808379                 2.04385748166       \n",
      "9    (1, 0, 5)         5097.07119044       62.0646357713     (-71.3937755721+0j)                     49.7881103778                 1.82899885723       \n",
      "10   (1, 0, 6)         954.721947025       11.6251995884     (30.8985751617+0j)                      55.9900553638                 1.64020066734       \n",
      "11   (1, 1, 0)         8212.52091          100.0             (90.6229601702+0j)                      58.3238776117                 1.58                \n",
      "12   (0, 0, 8)         7868.88452445       95.815701545      (88.7067332531+0j)                      60.1315133081                 1.53675             \n",
      "13   (1, 1, 2)         2792.04504183       33.9974177531     (-52.8398054674+0j)                     60.4131223487                 1.53025828323       \n",
      "14   (1, 0, 7)         496.630280166       6.04723306776     (22.2852031664+0j)                      62.7824560536                 1.47808217463       \n",
      "15   (1, 1, 4)         370.285077498       4.50878702843     (19.2427928716+0j)                      66.4455905476                 1.40519690242       \n",
      "16   (2, 0, 0)         1780.97258065       21.6860644882     (-42.2015708316+0j)                     68.4802012006                 1.36832013798       \n",
      "17   (2, 0, 1)         625.893301762       7.62120801421     (25.0178596559+0j)                      68.9624855998                 1.35992293684       \n",
      "18   (1, 0, 8)         1716.5658576        20.9018141495     (-41.431459757+0j)                      70.1403948808                 1.33993944755       \n",
      "19   (2, 0, 2)         608.128399359       7.40489316281     (24.6602595152+0j)                      70.4001931836                 1.33562957101       \n",
      "20   (2, 0, 3)         4157.08860356       50.6189104309     (-64.4754883933+0j)                     72.7686622712                 1.29788184883       \n",
      "21   (1, 1, 6)         2910.09228019       35.4348233883     (-53.9452711569+0j)                     75.9512049069                 1.2512100071        \n",
      "22   (2, 0, 4)         80.3853601938       0.978814679131    (-8.96578831971+0j)                     76.0352184857                 1.25003628162       \n",
      "23   (0, 0, 10)        1681.69312229       20.4771852726     (-41.0084518397+0j)                     77.5468069338                 1.2294              \n",
      "24   (1, 0, 9)         773.550108951       9.41915542655     (-27.8127688113+0j)                     78.0899583594                 1.22220173731       \n",
      "25   (2, 0, 5)         3355.90329864       40.863254236      (57.9301588004+0j)                      80.1695479909                 1.19564773259       \n",
      "26   (2, 0, 6)         657.369134596       8.00447440925     (25.6392108809+0j)                      85.1553816276                 1.13791613495       \n",
      "27   (1, 0, 10)        379.912802975       4.62601930806     (19.4913520048+0j)                      86.7124180027                 1.12143628688       \n",
      "28   (1, 1, 8)         5610.33666557       68.314427775      (74.9021806463+0j)                      88.6747509163                 1.10161928062       \n",
      "29   (2, 0, 7)         345.389333708       4.20564327925     (-18.584653177+0j)                      91.0034562112                 1.07939514053       \n",
      "30   (1, 0, 11)        3609.56023567       43.9519153159     (60.0796158083+0j)                      96.1635876711                 1.03467626869       \n",
      "31   (2, 1, 0)         1331.76572152       16.2162840876     (-36.4933654453+0j)                     96.2035094963                 1.03435279972       \n",
      "32   (2, 1, 1)         454.995738313       5.54026885654     (-21.330629112+0j)                      96.655759301                  1.03071120635       \n",
      "33   (0, 0, 12)        288.518881183       3.51315855807     (16.9858435523+0j)                      97.4392880708                 1.0245              \n",
      "34   (2, 0, 8)         1293.6221904        15.7518282702     (-35.9669597047+0j)                     97.7682434765                 1.02192874083       \n",
      "35   (2, 1, 2)         454.135542326       5.52979465504     (21.3104561736+0j)                      98.0151286185                 1.02001295105       \n",
      "36   (2, 1, 3)         3165.2005118        38.541156199      (56.260114751+0j)                       100.291279952                 1.0028996881        \n",
      "37   (2, 1, 4)         59.7921096781       0.728060364574    (-7.73253578576+0j)                     103.506609594                 0.980326351756      \n",
      "38   (1, 1, 10)        1294.44331126       15.7618266723     (-35.9783728268+0j)                     105.025030116                 0.970277488571      \n",
      "39   (2, 0, 9)         594.050569555       7.23347405827     (24.3731526388+0j)                      105.575461123                 0.966727111693      \n",
      "40   (1, 0, 12)        67.1782464802       0.817997874421    (-8.19623367653+0j)                     106.724489157                 0.959469668394      \n",
      "41   (2, 1, 5)         2625.62024227       31.9709413351     (-51.240806417+0j)                      107.707018552                 0.953425250553      \n",
      "42   (2, 1, 6)         521.90467915        6.35498752294     (22.8452331822+0j)                      112.981204367                 0.923370406418      \n",
      "43   (2, 0, 10)        303.027059095       3.68981780888     (17.4076724204+0j)                      114.679079072                 0.914499428613      \n",
      "44   (3, 0, 0)         4619.51699453       56.249683199      (67.9670287311+0j)                      115.128441461                 0.91221342532       \n",
      "45   (3, 0, 1)         3.03520165338e-30   3.6958221314e-32  (1.74218301374e-15+0j)                  115.625843014                 0.909712595273      \n",
      "46   (3, 0, 2)         1583.72007565       19.2842136172     (-39.7959806469+0j)                     117.130788922                 0.902331736441      \n",
      "47   (1, 0, 13)        2068.67767028       25.1893138897     (-45.4827183695+0j)                     118.937769732                 0.893828107254      \n",
      "48   (2, 1, 7)         280.982907484       3.42139655488     (16.7625447795+0j)                      119.498164895                 0.891268155738      \n",
      "49   (3, 0, 3)         5.23406366447e-32   6.37327286205e-34 (-2.2878076109e-16+0j)                  119.685650975                 0.890419714006      \n",
      "50   (0, 0, 14)        2442.63004825       29.7427559092     (-49.4229708562+0j)                     122.502862001                 0.878142857143      \n",
      "51   (3, 0, 4)         214.733223623       2.61470535023     (14.653778476+0j)                       123.377041886                 0.874508540535      \n",
      "52   (2, 0, 11)        2936.72309332       35.7590942599     (-54.1915407911+0j)                     125.608987004                 0.865591057689      \n",
      "53   (1, 1, 12)        242.627228755       2.95435751597     (15.5764960359+0j)                      127.182695964                 0.85960645637       \n",
      "54   (2, 1, 8)         1054.85664949       12.8444927087     (-32.4785567642+0j)                     127.593074114                 0.858085933912      \n",
      "55   (3, 0, 5)         3.47671285255e-28   4.2334295287e-30  (-1.86459455447e-14+0j)                 128.370076381                 0.855251650679      \n",
      "56   (1, 0, 14)        575.318490984       7.0053823581      (23.9857976933+0j)                      134.07792447                  0.836149742469      \n",
      "57   (3, 0, 6)         1849.94881363       22.5259555976     (-43.0110313016+0j)                     134.99278903                  0.83335752108       \n",
      "58   (2, 1, 9)         500.994583473       6.10037513405     (-22.382908289+0j)                      138.021019531                 0.824618502638      \n",
      "59   (2, 0, 12)        58.4103508812       0.711235338348    (-7.64266647716+0j)                     139.698628463                 0.82010033367       \n",
      "60   (3, 0, 7)         1.29563364129e-27   1.57763207605e-29 (-3.59949113249e-14+0j)                 143.99681572                  0.809530060128      \n",
      "61   (2, 1, 10)        256.927413797       3.12848413554     (16.0289554805+0j)                      153.178717453                 0.791483407646      \n",
      "62   (2, 2, 0)         3843.32090065       46.7983088599     (61.9945231504+0j)                      154.096599903                 0.79                \n",
      "63   (1, 0, 15)        190.185116362       2.31579460736     (13.7907619935+0j)                      157.383556045                 0.785144261614      \n",
      "64   (3, 0, 8)         3746.53693222       45.6198160502     (61.2089612085+0j)                      157.916666621                 0.784422997291      \n",
      "65   (2, 2, 2)         1339.42320218       16.3095256238     (-36.5981311296+0j)                     158.576514896                 0.783555558781      \n",
      "66   (2, 0, 13)        1736.79236115       21.148102759      (41.6748408654+0j)                      163.484396738                 0.777967984337      \n",
      "\n",
      "(h,k,l)\t\ttth\tIrel\n",
      "-------\t\t---\t---\n",
      "(0, 0, 2) \t14.39\t70.98\n",
      "(0, 0, 4) \t29.01\t5.82\n",
      "(0, 0, 6) \t44.14\t56.30\n",
      "(0, 0, 8) \t60.13\t95.82\n",
      "(0, 0, 10) \t77.55\t20.48\n",
      "(0, 0, 12) \t97.44\t3.51\n",
      "(0, 0, 14) \t122.50\t29.74\n",
      "\n",
      "(h,k,l)\t\ttth\tIrel\td\tE(tth=90)\n",
      "-------\t\t---\t---\n",
      "(0, 0, 2) \t14.39\t70.98\t6.147\t1.426\n",
      "(0, 0, 4) \t29.01\t5.815\t3.074\t2.853\n",
      "(0, 0, 6) \t44.14\t56.3\t2.049\t4.279\n",
      "(0, 0, 8) \t60.13\t95.82\t1.537\t5.706\n",
      "(0, 0, 10) \t77.55\t20.48\t1.229\t7.132\n",
      "(0, 0, 12) \t97.44\t3.513\t1.025\t8.558\n",
      "(0, 0, 14) \t122.50\t29.74\t0.878\t9.985\n"
     ]
    }
   ],
   "source": [
    "import sys\n",
    "sys.path.append('/dls_sw/i16/software/python/crystal/')\n",
    "\n",
    "import Crystal as Cr\n",
    "cifpath='/home/spc93/spc_cifs/'\n",
    "mc = Cr.Crystal()\n",
    "mc.load_cif(cifpath+'MoS2_icsd_49801_cifbib.cif','49801-ICSD')\n",
    "\n",
    "energy=12.4/1.54\n",
    "refs=mc.reflection_list(energy)\n",
    "\n",
    "#(1,0,l)\n",
    "#look at 10l 20l 11l\n",
    "shortlist=[ref for ref in refs if ref[0][0]==0 and ref[0][1]==0]\n",
    "print; print '(h,k,l)\\t\\ttth\\tIrel'; print '-------\\t\\t---\\t---'\n",
    "for ref in shortlist[0:25]:\n",
    "    print ref[0],'\\t%.2f\\t%.2f' % (ref[4], ref[2])\n",
    "\n",
    "\n",
    "#refs=mc.reflection_list(energy)\n",
    "#refs=[ref for ref in refs if ref[0][0]==ref[0][1]==ref[0][2]] #filter refs hhh\n",
    "print; print '(h,k,l)\\t\\ttth\\tIrel\\td\\tE(tth=90)'; print '-------\\t\\t---\\t---'\n",
    "for ref in shortlist[0:25]:\n",
    "    d=ref[5]\n",
    "    E90=12.4/np.sqrt(2)/d\n",
    "    print ref[0],'\\t%.2f\\t%.4g\\t%.3f\\t%.3f' % (ref[4], ref[2], d, E90)\n"
   ]
  },
  {
   "cell_type": "code",
   "execution_count": null,
   "metadata": {
    "collapsed": true
   },
   "outputs": [],
   "source": []
  }
 ],
 "metadata": {
  "kernelspec": {
   "display_name": "Python 2",
   "language": "python",
   "name": "python2"
  },
  "language_info": {
   "codemirror_mode": {
    "name": "ipython",
    "version": 2
   },
   "file_extension": ".py",
   "mimetype": "text/x-python",
   "name": "python",
   "nbconvert_exporter": "python",
   "pygments_lexer": "ipython2",
   "version": "2.7.15"
  }
 },
 "nbformat": 4,
 "nbformat_minor": 2
}
