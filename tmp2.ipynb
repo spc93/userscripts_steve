{
 "cells": [
  {
   "cell_type": "code",
   "execution_count": 2,
   "metadata": {},
   "outputs": [],
   "source": [
    "import sys\n",
    "sys.path.append('/dls_sw/apps/scisoftpy/2.7')\n",
    "sys.path.append('/dls_sw/i16/software/python')\n",
    "from dlstools import *\n",
    "from dlstools.pdnx import *\n",
    "from matplotlib.pyplot import *\n",
    "from dlstools.quickfit import *\n",
    "from dlstools.dirty_fit import fit\n",
    "from mpl_toolkits.mplot3d import Axes3D \n",
    "%matplotlib inline\n",
    "\n",
    "#p='/dls/i16/data/2019/mm21716-1/%i.nxs'\n",
    "p='/dls/staging/dls/i16/data/2019/mm21716-1/%i.nxs'\n",
    "\n",
    "plot_folder = '/dls/science/users/spc93/plots/'\n",
    "plot_type = 'png'\n",
    "\n",
    "\n",
    "\n",
    "\n"
   ]
  },
  {
   "cell_type": "code",
   "execution_count": null,
   "metadata": {},
   "outputs": [],
   "source": [
    "figure()\n",
    "for scan in [789530, 789572]:\n",
    "    n=pdnx(p % scan)\n",
    "    plot(n.eta, n['sum']/max(n['sum']))\n",
    "grid(1)\n",
    "xlabel('Eta (deg.)')\n",
    "ylabel('Normalized fluoresence')\n",
    "title('0016 standing wave lam/3 vs lam')\n",
    "plot_name = 'standing_wave_lam_lam_3'\n",
    "savefig(plot_folder+plot_name+'.'+plot_type, bbox_inches='tight')"
   ]
  },
  {
   "cell_type": "code",
   "execution_count": 4,
   "metadata": {},
   "outputs": [
    {
     "name": "stdout",
     "output_type": "stream",
     "text": [
      "=== Error loading file /dls/staging/dls/i16/data/2019/mm21716-1/789530.nxs\n"
     ]
    }
   ],
   "source": [
    "n=pdnx(p % 789530)"
   ]
  },
  {
   "cell_type": "code",
   "execution_count": null,
   "metadata": {},
   "outputs": [],
   "source": []
  }
 ],
 "metadata": {
  "kernelspec": {
   "display_name": "Python 3.7 [Conda DLS]",
   "language": "python",
   "name": "conda-env-Conda_DLS-python3.7"
  },
  "language_info": {
   "codemirror_mode": {
    "name": "ipython",
    "version": 3
   },
   "file_extension": ".py",
   "mimetype": "text/x-python",
   "name": "python",
   "nbconvert_exporter": "python",
   "pygments_lexer": "ipython3",
   "version": "3.7.3"
  }
 },
 "nbformat": 4,
 "nbformat_minor": 2
}
