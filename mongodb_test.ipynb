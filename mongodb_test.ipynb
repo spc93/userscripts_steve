{
 "cells": [
  {
   "cell_type": "code",
   "execution_count": 1,
   "metadata": {},
   "outputs": [],
   "source": [
    "import pymongo"
   ]
  },
  {
   "cell_type": "markdown",
   "metadata": {},
   "source": [
    "install mongodb and start server\n",
    "\n",
    "import (restore) all from a folder:\n",
    "mongorestore -d magdata /home/spc93/data/database/mongo\n",
    "\n",
    "#/dls/science/users/spc93/databases/magneticmaterialsdatabase/database/mongo\n",
    "\n",
    "in mongodb shell:\n",
    "#find all posts and display nicely:\n",
    "db.posts.find().pretty()\n",
    "db.posts.find({Type: \"Curie\"}).pretty()\n"
   ]
  },
  {
   "cell_type": "code",
   "execution_count": null,
   "metadata": {},
   "outputs": [],
   "source": []
  }
 ],
 "metadata": {
  "kernelspec": {
   "display_name": "Python 2",
   "language": "python",
   "name": "python2"
  },
  "language_info": {
   "codemirror_mode": {
    "name": "ipython",
    "version": 2
   },
   "file_extension": ".py",
   "mimetype": "text/x-python",
   "name": "python",
   "nbconvert_exporter": "python",
   "pygments_lexer": "ipython2",
   "version": "2.7.15"
  }
 },
 "nbformat": 4,
 "nbformat_minor": 2
}
