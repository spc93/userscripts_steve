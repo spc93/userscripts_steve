{
 "cells": [
  {
   "cell_type": "code",
   "execution_count": 1,
   "metadata": {},
   "outputs": [
    {
     "name": "stdout",
     "output_type": "stream",
     "text": [
      "=== Importing dlstools package\n"
     ]
    },
    {
     "name": "stderr",
     "output_type": "stream",
     "text": [
      "/dls_sw/apps/scisoftpy/2.7/scisoftpy/_external/tifffile.py:284: UserWarning: ImportError: No module named '_tifffile'. Loading of some compressed images will be very slow. Tifffile.c can be obtained at http://www.lfd.uci.edu/~gohlke/\n",
      "  \"ImportError: No module named '_tifffile'. \"\n",
      "Could not import plotting routines\n",
      "No module named py4j.java_gateway\n"
     ]
    },
    {
     "name": "stdout",
     "output_type": "stream",
     "text": [
      "=== Need to obtain specfilewrapper.py and compatible specfile.so from ERSF PyMCA package in order to load spec files\n"
     ]
    }
   ],
   "source": [
    "import sys\n",
    "sys.path.append('/dls_sw/apps/scisoftpy/2.7')\n",
    "sys.path.append('/dls_sw/i16/software/python')\n",
    "from dlstools.dataloader import *\n",
    "from dlstools import *\n",
    "from matplotlib.pyplot import *\n",
    "from dlstools.quickfit import *\n",
    "from dlstools.dirty_fit import fit\n",
    "%matplotlib inline\n"
   ]
  },
  {
   "cell_type": "code",
   "execution_count": 2,
   "metadata": {},
   "outputs": [
    {
     "name": "stderr",
     "output_type": "stream",
     "text": [
      "/dls_sw/i16/software/python/dlstools/dataloader.py:44: UserWarning: Pandas doesn't allow columns to be created via a new attribute name - see https://pandas.pydata.org/pandas-docs/stable/indexing.html#attribute-access\n",
      "  setattr(self,'nx',_nx)\n"
     ]
    }
   ],
   "source": [
    "p='/dls/i16/data/2018/mt19890-1/%i.nxs'\n",
    "n=pdnx(p % 709993)"
   ]
  },
  {
   "cell_type": "code",
   "execution_count": 3,
   "metadata": {},
   "outputs": [
    {
     "data": {
      "text/html": [
       "<div>\n",
       "<style scoped>\n",
       "    .dataframe tbody tr th:only-of-type {\n",
       "        vertical-align: middle;\n",
       "    }\n",
       "\n",
       "    .dataframe tbody tr th {\n",
       "        vertical-align: top;\n",
       "    }\n",
       "\n",
       "    .dataframe thead th {\n",
       "        text-align: right;\n",
       "    }\n",
       "</style>\n",
       "<table border=\"1\" class=\"dataframe\">\n",
       "  <thead>\n",
       "    <tr style=\"text-align: right;\">\n",
       "      <th></th>\n",
       "      <th>TimeSec</th>\n",
       "      <th>count_time</th>\n",
       "      <th>delta_axis_offset</th>\n",
       "      <th>ic1monitor</th>\n",
       "      <th>kap</th>\n",
       "      <th>kdelta</th>\n",
       "      <th>kgam</th>\n",
       "      <th>kmu</th>\n",
       "      <th>kphi</th>\n",
       "      <th>kth</th>\n",
       "      <th>maxval</th>\n",
       "      <th>maxx</th>\n",
       "      <th>maxy</th>\n",
       "      <th>path</th>\n",
       "      <th>rc</th>\n",
       "      <th>sum</th>\n",
       "      <th>sz</th>\n",
       "    </tr>\n",
       "  </thead>\n",
       "  <tbody>\n",
       "    <tr>\n",
       "      <th>0</th>\n",
       "      <td>80353.347533</td>\n",
       "      <td>1.0</td>\n",
       "      <td>8.8</td>\n",
       "      <td>113.049822</td>\n",
       "      <td>-133.111303</td>\n",
       "      <td>128.298723</td>\n",
       "      <td>0.0</td>\n",
       "      <td>0.0</td>\n",
       "      <td>145.98665</td>\n",
       "      <td>120.84892</td>\n",
       "      <td>55.0</td>\n",
       "      <td>477.0</td>\n",
       "      <td>35.0</td>\n",
       "      <td>1.0</td>\n",
       "      <td>300.111847</td>\n",
       "      <td>2362446.0</td>\n",
       "      <td>2.92644</td>\n",
       "    </tr>\n",
       "    <tr>\n",
       "      <th>1</th>\n",
       "      <td>80357.080736</td>\n",
       "      <td>1.0</td>\n",
       "      <td>8.8</td>\n",
       "      <td>113.063560</td>\n",
       "      <td>-133.111303</td>\n",
       "      <td>128.298723</td>\n",
       "      <td>0.0</td>\n",
       "      <td>0.0</td>\n",
       "      <td>145.98665</td>\n",
       "      <td>120.84892</td>\n",
       "      <td>53.0</td>\n",
       "      <td>445.0</td>\n",
       "      <td>20.0</td>\n",
       "      <td>2.0</td>\n",
       "      <td>300.077789</td>\n",
       "      <td>2361447.0</td>\n",
       "      <td>2.93644</td>\n",
       "    </tr>\n",
       "    <tr>\n",
       "      <th>2</th>\n",
       "      <td>80360.307213</td>\n",
       "      <td>1.0</td>\n",
       "      <td>8.8</td>\n",
       "      <td>113.054097</td>\n",
       "      <td>-133.111303</td>\n",
       "      <td>128.298723</td>\n",
       "      <td>0.0</td>\n",
       "      <td>0.0</td>\n",
       "      <td>145.98665</td>\n",
       "      <td>120.84892</td>\n",
       "      <td>52.0</td>\n",
       "      <td>340.0</td>\n",
       "      <td>163.0</td>\n",
       "      <td>3.0</td>\n",
       "      <td>300.051239</td>\n",
       "      <td>2369548.0</td>\n",
       "      <td>2.94644</td>\n",
       "    </tr>\n",
       "    <tr>\n",
       "      <th>3</th>\n",
       "      <td>80363.536235</td>\n",
       "      <td>1.0</td>\n",
       "      <td>8.8</td>\n",
       "      <td>113.031811</td>\n",
       "      <td>-133.111303</td>\n",
       "      <td>128.298723</td>\n",
       "      <td>0.0</td>\n",
       "      <td>0.0</td>\n",
       "      <td>145.98665</td>\n",
       "      <td>120.84892</td>\n",
       "      <td>51.0</td>\n",
       "      <td>87.0</td>\n",
       "      <td>67.0</td>\n",
       "      <td>4.0</td>\n",
       "      <td>300.020660</td>\n",
       "      <td>2362702.0</td>\n",
       "      <td>2.95644</td>\n",
       "    </tr>\n",
       "    <tr>\n",
       "      <th>...</th>\n",
       "      <td>...</td>\n",
       "      <td>...</td>\n",
       "      <td>...</td>\n",
       "      <td>...</td>\n",
       "      <td>...</td>\n",
       "      <td>...</td>\n",
       "      <td>...</td>\n",
       "      <td>...</td>\n",
       "      <td>...</td>\n",
       "      <td>...</td>\n",
       "      <td>...</td>\n",
       "      <td>...</td>\n",
       "      <td>...</td>\n",
       "      <td>...</td>\n",
       "      <td>...</td>\n",
       "      <td>...</td>\n",
       "      <td>...</td>\n",
       "    </tr>\n",
       "    <tr>\n",
       "      <th>27</th>\n",
       "      <td>80441.804589</td>\n",
       "      <td>1.0</td>\n",
       "      <td>8.8</td>\n",
       "      <td>112.785138</td>\n",
       "      <td>-133.111303</td>\n",
       "      <td>128.298723</td>\n",
       "      <td>0.0</td>\n",
       "      <td>0.0</td>\n",
       "      <td>145.98665</td>\n",
       "      <td>120.84892</td>\n",
       "      <td>116.0</td>\n",
       "      <td>244.0</td>\n",
       "      <td>96.0</td>\n",
       "      <td>28.0</td>\n",
       "      <td>299.337616</td>\n",
       "      <td>2191894.0</td>\n",
       "      <td>3.19644</td>\n",
       "    </tr>\n",
       "    <tr>\n",
       "      <th>28</th>\n",
       "      <td>80445.034924</td>\n",
       "      <td>1.0</td>\n",
       "      <td>8.8</td>\n",
       "      <td>112.766210</td>\n",
       "      <td>-133.111303</td>\n",
       "      <td>128.298723</td>\n",
       "      <td>0.0</td>\n",
       "      <td>0.0</td>\n",
       "      <td>145.98665</td>\n",
       "      <td>120.84892</td>\n",
       "      <td>109.0</td>\n",
       "      <td>244.0</td>\n",
       "      <td>96.0</td>\n",
       "      <td>29.0</td>\n",
       "      <td>299.309662</td>\n",
       "      <td>2192312.0</td>\n",
       "      <td>3.20644</td>\n",
       "    </tr>\n",
       "    <tr>\n",
       "      <th>29</th>\n",
       "      <td>80448.265404</td>\n",
       "      <td>1.0</td>\n",
       "      <td>8.8</td>\n",
       "      <td>112.762242</td>\n",
       "      <td>-133.111303</td>\n",
       "      <td>128.298723</td>\n",
       "      <td>0.0</td>\n",
       "      <td>0.0</td>\n",
       "      <td>145.98665</td>\n",
       "      <td>120.84892</td>\n",
       "      <td>90.0</td>\n",
       "      <td>244.0</td>\n",
       "      <td>96.0</td>\n",
       "      <td>30.0</td>\n",
       "      <td>299.281494</td>\n",
       "      <td>2195124.0</td>\n",
       "      <td>3.21644</td>\n",
       "    </tr>\n",
       "    <tr>\n",
       "      <th>30</th>\n",
       "      <td>80451.499235</td>\n",
       "      <td>1.0</td>\n",
       "      <td>8.8</td>\n",
       "      <td>112.755830</td>\n",
       "      <td>-133.111303</td>\n",
       "      <td>128.298723</td>\n",
       "      <td>0.0</td>\n",
       "      <td>0.0</td>\n",
       "      <td>145.98665</td>\n",
       "      <td>120.84892</td>\n",
       "      <td>68.0</td>\n",
       "      <td>244.0</td>\n",
       "      <td>96.0</td>\n",
       "      <td>31.0</td>\n",
       "      <td>299.252960</td>\n",
       "      <td>2198268.0</td>\n",
       "      <td>3.22644</td>\n",
       "    </tr>\n",
       "  </tbody>\n",
       "</table>\n",
       "<p>31 rows × 17 columns</p>\n",
       "</div>"
      ],
      "text/plain": [
       "         TimeSec  count_time  delta_axis_offset  ic1monitor         kap      kdelta  kgam  kmu       kphi        kth  maxval   maxx   maxy  path          rc        sum       sz\n",
       "0   80353.347533         1.0                8.8  113.049822 -133.111303  128.298723   0.0  0.0  145.98665  120.84892    55.0  477.0   35.0   1.0  300.111847  2362446.0  2.92644\n",
       "1   80357.080736         1.0                8.8  113.063560 -133.111303  128.298723   0.0  0.0  145.98665  120.84892    53.0  445.0   20.0   2.0  300.077789  2361447.0  2.93644\n",
       "2   80360.307213         1.0                8.8  113.054097 -133.111303  128.298723   0.0  0.0  145.98665  120.84892    52.0  340.0  163.0   3.0  300.051239  2369548.0  2.94644\n",
       "3   80363.536235         1.0                8.8  113.031811 -133.111303  128.298723   0.0  0.0  145.98665  120.84892    51.0   87.0   67.0   4.0  300.020660  2362702.0  2.95644\n",
       "..           ...         ...                ...         ...         ...         ...   ...  ...        ...        ...     ...    ...    ...   ...         ...        ...      ...\n",
       "27  80441.804589         1.0                8.8  112.785138 -133.111303  128.298723   0.0  0.0  145.98665  120.84892   116.0  244.0   96.0  28.0  299.337616  2191894.0  3.19644\n",
       "28  80445.034924         1.0                8.8  112.766210 -133.111303  128.298723   0.0  0.0  145.98665  120.84892   109.0  244.0   96.0  29.0  299.309662  2192312.0  3.20644\n",
       "29  80448.265404         1.0                8.8  112.762242 -133.111303  128.298723   0.0  0.0  145.98665  120.84892    90.0  244.0   96.0  30.0  299.281494  2195124.0  3.21644\n",
       "30  80451.499235         1.0                8.8  112.755830 -133.111303  128.298723   0.0  0.0  145.98665  120.84892    68.0  244.0   96.0  31.0  299.252960  2198268.0  3.22644\n",
       "\n",
       "[31 rows x 17 columns]"
      ]
     },
     "execution_count": 3,
     "metadata": {},
     "output_type": "execute_result"
    }
   ],
   "source": [
    "n"
   ]
  },
  {
   "cell_type": "markdown",
   "metadata": {},
   "source": [
    "print n.nx.tree"
   ]
  },
  {
   "cell_type": "markdown",
   "metadata": {},
   "source": [
    "# test.h5 has scandata fields of shape 20, 666 and 20x1024\n",
    "what to do with these?\n",
    "scalars - pad out\n",
    "multi-dim - ??? .... return field value of remaining dimensions? e.g. image for each point?"
   ]
  },
  {
   "cell_type": "code",
   "execution_count": 4,
   "metadata": {},
   "outputs": [
    {
     "name": "stdout",
     "output_type": "stream",
     "text": [
      "=== Failed to create DataFrame from data - create empty DataFrame\n"
     ]
    }
   ],
   "source": [
    "n1=pdnx('/home/spc93/data/test.h5', scandata_field='/entry154/measurement')"
   ]
  },
  {
   "cell_type": "code",
   "execution_count": 10,
   "metadata": {},
   "outputs": [
    {
     "name": "stdout",
     "output_type": "stream",
     "text": [
      "mot09 ()\n",
      "ct12 (20,)\n",
      "oned03 (20, 1024)\n",
      "ct10 (20,)\n",
      "ct11 (20,)\n",
      "mot12 ()\n",
      "mot10 (20,)\n",
      "mot11 ()\n",
      "Pt_No (20,)\n",
      "detector (20,)\n",
      "dt (20,)\n",
      "pre_scan_snapshot"
     ]
    },
    {
     "ename": "NeXusError",
     "evalue": "'shape' not in /entry154/measurement/pre_scan_snapshot",
     "output_type": "error",
     "traceback": [
      "\u001b[0;31m---------------------------------------------------------------------------\u001b[0m",
      "\u001b[0;31mNeXusError\u001b[0m                                Traceback (most recent call last)",
      "\u001b[0;32m<ipython-input-10-3b84b2a00e2a>\u001b[0m in \u001b[0;36m<module>\u001b[0;34m()\u001b[0m\n\u001b[1;32m      1\u001b[0m \u001b[0;32mfor\u001b[0m \u001b[0mkey\u001b[0m \u001b[0;32min\u001b[0m \u001b[0mn1\u001b[0m\u001b[0;34m.\u001b[0m\u001b[0mnx\u001b[0m\u001b[0;34m.\u001b[0m\u001b[0mentry154\u001b[0m\u001b[0;34m.\u001b[0m\u001b[0mmeasurement\u001b[0m\u001b[0;34m.\u001b[0m\u001b[0mkeys\u001b[0m\u001b[0;34m(\u001b[0m\u001b[0;34m)\u001b[0m\u001b[0;34m:\u001b[0m\u001b[0;34m\u001b[0m\u001b[0m\n\u001b[0;32m----> 2\u001b[0;31m     \u001b[0;32mprint\u001b[0m \u001b[0mkey\u001b[0m\u001b[0;34m,\u001b[0m \u001b[0mn1\u001b[0m\u001b[0;34m.\u001b[0m\u001b[0mnx\u001b[0m\u001b[0;34m.\u001b[0m\u001b[0mentry154\u001b[0m\u001b[0;34m.\u001b[0m\u001b[0mmeasurement\u001b[0m\u001b[0;34m[\u001b[0m\u001b[0mkey\u001b[0m\u001b[0;34m]\u001b[0m\u001b[0;34m.\u001b[0m\u001b[0mshape\u001b[0m\u001b[0;34m\u001b[0m\u001b[0m\n\u001b[0m",
      "\u001b[0;32m/dls_sw/apps/python/anaconda/1.7.0/64/envs/cctbx/lib/python2.7/site-packages/nexusformat/nexus/tree.pyc\u001b[0m in \u001b[0;36m__getattr__\u001b[0;34m(self, name)\u001b[0m\n\u001b[1;32m   3166\u001b[0m         \u001b[0;32melif\u001b[0m \u001b[0mname\u001b[0m \u001b[0;32min\u001b[0m \u001b[0mself\u001b[0m\u001b[0;34m.\u001b[0m\u001b[0mattrs\u001b[0m\u001b[0;34m:\u001b[0m\u001b[0;34m\u001b[0m\u001b[0m\n\u001b[1;32m   3167\u001b[0m             \u001b[0;32mreturn\u001b[0m \u001b[0mself\u001b[0m\u001b[0;34m.\u001b[0m\u001b[0mattrs\u001b[0m\u001b[0;34m[\u001b[0m\u001b[0mname\u001b[0m\u001b[0;34m]\u001b[0m\u001b[0;34m\u001b[0m\u001b[0m\n\u001b[0;32m-> 3168\u001b[0;31m         \u001b[0;32mraise\u001b[0m \u001b[0mNeXusError\u001b[0m\u001b[0;34m(\u001b[0m\u001b[0;34m\"'\"\u001b[0m\u001b[0;34m+\u001b[0m\u001b[0mname\u001b[0m\u001b[0;34m+\u001b[0m\u001b[0;34m\"' not in \"\u001b[0m\u001b[0;34m+\u001b[0m\u001b[0mself\u001b[0m\u001b[0;34m.\u001b[0m\u001b[0mnxpath\u001b[0m\u001b[0;34m)\u001b[0m\u001b[0;34m\u001b[0m\u001b[0m\n\u001b[0m\u001b[1;32m   3169\u001b[0m \u001b[0;34m\u001b[0m\u001b[0m\n\u001b[1;32m   3170\u001b[0m     \u001b[0;32mdef\u001b[0m \u001b[0m__setattr__\u001b[0m\u001b[0;34m(\u001b[0m\u001b[0mself\u001b[0m\u001b[0;34m,\u001b[0m \u001b[0mname\u001b[0m\u001b[0;34m,\u001b[0m \u001b[0mvalue\u001b[0m\u001b[0;34m)\u001b[0m\u001b[0;34m:\u001b[0m\u001b[0;34m\u001b[0m\u001b[0m\n",
      "\u001b[0;31mNeXusError\u001b[0m: 'shape' not in /entry154/measurement/pre_scan_snapshot"
     ]
    }
   ],
   "source": [
    "#look at shapes...\n",
    "for key in n1.nx.entry154.measurement.keys():\n",
    "    print key, n1.nx.entry154.measurement[key].shape"
   ]
  },
  {
   "cell_type": "code",
   "execution_count": 14,
   "metadata": {},
   "outputs": [
    {
     "data": {
      "text/plain": [
       "<bound method NXfield.dir of NXfield(array([[  2.98023224e-09,   3.18894876e-09,   3.41183047e-09, ...,\n",
       "          3.41183047e-09,   3.18894876e-09,   2.98023224e-09],\n",
       "       [  2.98023224e-09,   3.18894876e-09,   3.41183047e-09, ...,\n",
       "          3.41183047e-09,   3.18894876e-09,   2.98023224e-09],\n",
       "       [  2.98023224e-09,   3.18894876e-09,   3.41183047e-09, ...,\n",
       "          3.41183047e-09,   3.18894876e-09,   2.98023224e-09],\n",
       "       ..., \n",
       "       [  2.98023224e-09,   3.18894876e-09,   3.41183047e-09, ...,\n",
       "          3.41183047e-09,   3.18894876e-09,   2.98023224e-09],\n",
       "       [  2.98023224e-09,   3.18894876e-09,   3.41183047e-09, ...,\n",
       "          3.41183047e-09,   3.18894876e-09,   2.98023224e-09],\n",
       "       [  2.98023224e-09,   3.18894876e-09,   3.41183047e-09, ...,\n",
       "          3.41183047e-09,   3.18894876e-09,   2.98023224e-09]]))>"
      ]
     },
     "execution_count": 14,
     "metadata": {},
     "output_type": "execute_result"
    }
   ],
   "source": [
    "n1.nx.entry154.measurement.oned03.dir"
   ]
  },
  {
   "cell_type": "code",
   "execution_count": null,
   "metadata": {},
   "outputs": [],
   "source": [
    "print n1.nx.tree"
   ]
  },
  {
   "cell_type": "code",
   "execution_count": null,
   "metadata": {},
   "outputs": [],
   "source": [
    "n1.nx.entry154.measurement.ct11.attrs\n",
    "n1.nx.keys()\n",
    "n1.nx.attrs"
   ]
  },
  {
   "cell_type": "code",
   "execution_count": null,
   "metadata": {},
   "outputs": [],
   "source": [
    "n1.nx.entry154.measurement.keys()"
   ]
  },
  {
   "cell_type": "code",
   "execution_count": null,
   "metadata": {},
   "outputs": [],
   "source": [
    "find_key(n1.nx, 'measurement')"
   ]
  },
  {
   "cell_type": "code",
   "execution_count": 17,
   "metadata": {},
   "outputs": [
    {
     "data": {
      "image/png": "[encoded data removed]",
      "text/plain": [
       "<matplotlib.figure.Figure at 0x7f4dff360890>"
      ]
     },
     "metadata": {},
     "output_type": "display_data"
    }
   ],
   "source": [
    "n1.nx.plot()"
   ]
  },
  {
   "cell_type": "code",
   "execution_count": null,
   "metadata": {},
   "outputs": [],
   "source": [
    "n2=pdnx('/home/spc93/data/xanes_new_py3.h5')"
   ]
  },
  {
   "cell_type": "code",
   "execution_count": null,
   "metadata": {},
   "outputs": [],
   "source": [
    "print n2.nx.tree"
   ]
  },
  {
   "cell_type": "code",
   "execution_count": null,
   "metadata": {},
   "outputs": [],
   "source": [
    "n2.nx.plot()"
   ]
  },
  {
   "cell_type": "code",
   "execution_count": null,
   "metadata": {},
   "outputs": [],
   "source": []
  },
  {
   "cell_type": "code",
   "execution_count": null,
   "metadata": {},
   "outputs": [],
   "source": []
  },
  {
   "cell_type": "code",
   "execution_count": null,
   "metadata": {},
   "outputs": [],
   "source": []
  }
 ],
 "metadata": {
  "kernelspec": {
   "display_name": "Python 2",
   "language": "python",
   "name": "python2"
  },
  "language_info": {
   "codemirror_mode": {
    "name": "ipython",
    "version": 2
   },
   "file_extension": ".py",
   "mimetype": "text/x-python",
   "name": "python",
   "nbconvert_exporter": "python",
   "pygments_lexer": "ipython2",
   "version": "2.7.15"
  }
 },
 "nbformat": 4,
 "nbformat_minor": 2
}
