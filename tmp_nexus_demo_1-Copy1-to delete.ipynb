{
 "cells": [
  {
   "cell_type": "code",
   "execution_count": 2,
   "metadata": {},
   "outputs": [],
   "source": [
    "#cd /dls_sw/i16/software/python/userscripts/steve; module load python/anaconda; module load scisoftpy; jupyter notebook\n",
    "import sys\n",
    "sys.path.append('/dls_sw/i16/software/python')\n",
    "from dlstools.dataloader import pdnx\n",
    "from dlstools import dataloader\n",
    "dataloader._scandata_field='/entry1/pil100k'\n",
    "%matplotlib inline\n",
    "import matplotlib.pyplot as plt"
   ]
  },
  {
   "cell_type": "code",
   "execution_count": 3,
   "metadata": {
    "collapsed": true
   },
   "outputs": [],
   "source": [
    "p='/dls/i16/data/2018/mt17842-1/%i.nxs'"
   ]
  },
  {
   "cell_type": "code",
   "execution_count": 4,
   "metadata": {},
   "outputs": [
    {
     "name": "stdout",
     "output_type": "stream",
     "text": [
      "=== Failed to create DataFrame from data - create empty DataFrame\n"
     ]
    },
    {
     "name": "stderr",
     "output_type": "stream",
     "text": [
      "/dls_sw/i16/software/python/dlstools/dataloader.py:46: UserWarning: Pandas doesn't allow columns to be created via a new attribute name - see https://pandas.pydata.org/pandas-docs/stable/indexing.html#attribute-access\n",
      "  setattr(self,'nx',_nx)\n"
     ]
    }
   ],
   "source": [
    "n=pdnx(p % 678450)"
   ]
  },
  {
   "cell_type": "code",
   "execution_count": 6,
   "metadata": {},
   "outputs": [
    {
     "data": {
      "text/plain": [
       "NXroot('root')"
      ]
     },
     "execution_count": 6,
     "metadata": {},
     "output_type": "execute_result"
    }
   ],
   "source": [
    "n.nx"
   ]
  },
  {
   "cell_type": "code",
   "execution_count": 5,
   "metadata": {},
   "outputs": [
    {
     "name": "stdout",
     "output_type": "stream",
     "text": [
      "/dls/i16/data/2017/cm16772-2/642326.nxs: scan sgome 0.012 0.052000000000000005 0.001 pil100k 0.5\n"
     ]
    }
   ],
   "source": [
    "print n.scan"
   ]
  },
  {
   "cell_type": "code",
   "execution_count": 6,
   "metadata": {},
   "outputs": [
    {
     "data": {
      "text/plain": [
       "<matplotlib.axes._subplots.AxesSubplot at 0x7f7132e0f1d0>"
      ]
     },
     "execution_count": 6,
     "metadata": {},
     "output_type": "execute_result"
    },
    {
     "data": {
      "image/png": "[encoded data removed]",
      "text/plain": [
       "<matplotlib.figure.Figure at 0x7f715c48ed50>"
      ]
     },
     "metadata": {},
     "output_type": "display_data"
    }
   ],
   "source": [
    "n.plot(x='sgome',y='sum')"
   ]
  },
  {
   "cell_type": "code",
   "execution_count": 7,
   "metadata": {},
   "outputs": [
    {
     "name": "stdout",
     "output_type": "stream",
     "text": [
      "root:NXroot\n",
      "  entry1:NXentry\n",
      "    before_scan:NXcollection\n",
      "      beamline_slits:NXcollection\n",
      "        s1xcentre = -0.000499999999998\n",
      "        s1xgap = 2.497\n",
      "        s1ycentre = 0.0035\n",
      "        s1ygap = 1.001\n",
      "        s2xcentre = -2.49999999999e-05\n",
      "        s2xgap = 20.0015\n",
      "        s2ycentre = -0.000249999999999\n",
      "        s2ygap = 20.0005\n",
      "        s3xcentre = 4.459\n",
      "        s3xgap = 25.0\n",
      "        s3ycentre = -0.1545\n",
      "        s3ygap = 30.0\n",
      "        s4xcentre = -6.00075\n",
      "        s4xgap = 32.9999\n",
      "        s4ycentre = 0.00225\n",
      "        s4ygap = 26.0115\n",
      "        shtr3x = 11.925\n",
      "        shtr3y = 4.335\n",
      "      delta_offset:NXcollection\n",
      "        delta_offset = 0.0\n",
      "      diffractometer_sample:NXcollection\n",
      "        azih = 0.0\n",
      "        azik = -1.0\n",
      "        azil = 0.0\n",
      "        beta = -57.3537107462\n",
      "        chi = 90.439319775\n",
      "        delta = 55.087419057\n",
      "        delta_axis_offset = 8.6\n",
      "        en = 6.39999999701\n",
      "        eta = 22.3349362017\n",
      "        gam = 0.0\n",
      "        h = -0.00943088824545\n",
      "        k = -0.158731604088\n",
      "        kphi = 57.7318008747\n",
      "        l = 2.98877547209\n",
      "        mu = 0.0\n",
      "        phi = 0.0\n",
      "        psi = -176.587083114\n",
      "      dummypd:NXcollection\n",
      "        x = 1.0\n",
      "        y = 0.0\n",
      "        z = 0.0\n",
      "      gains_atten:NXcollection\n",
      "        Atten = 20.0\n",
      "        Transmission = 0.00920605986589\n",
      "        diode_gain = 0.0\n",
      "        ic1_gain = 3.0\n",
      "        ic2_gain = 4.0\n",
      "      jjslits:NXcollection\n",
      "        s5xgap = 0.5\n",
      "        s5xtrans = 0.0\n",
      "        s5ygap = 0.5\n",
      "        s5ytrans = 0.0\n",
      "        s6xgap = 4.0002\n",
      "        s6xtrans = 5.00000000003e-05\n",
      "        s6ygap = 4.0002\n",
      "        s6ytrans = 4.4408920985e-16\n",
      "      lakeshore:NXcollection\n",
      "        Ta = 0.0\n",
      "        Tb = 0.0\n",
      "        Tc = 0.0\n",
      "        Td = 0.0\n",
      "        Tset = 0.0\n",
      "      mirrors:NXcollection\n",
      "        m1piezo = 0.0\n",
      "        m1pitch = 3.83944698634\n",
      "        m1roll = 0.082715344934\n",
      "        m1x = 0.910464500001\n",
      "        m1y = -2.1232\n",
      "        m1yaw = 0.42600228408\n",
      "        m2bender = 364.999\n",
      "        m2pitch = 3.83973465056\n",
      "        m2roll = 0.456490695824\n",
      "        m2x = 14.711075\n",
      "        m2y = -8.4068\n",
      "        m2yaw = 0.0734202275533\n",
      "        m3pitch = -0.0002664\n",
      "        m3x = -4.0002475\n",
      "        m4pitch = -0.0002469\n",
      "        m4x = 4.0006275\n",
      "      mono:NXcollection\n",
      "        T1dcmSi111 = 110.090228944\n",
      "        T2dcmSi111 = 11.7144384733\n",
      "        bragg = -17.722935\n",
      "        dcmfinepitch = -0.0102626721455\n",
      "        dcmlat = 27.9946\n",
      "        dcmpitch = -21.1616878\n",
      "        dcmroll1 = 38.7141356\n",
      "        dcmroll2 = 18.7160688\n",
      "        en = 6.39999999701\n",
      "        perp = 0.4193\n",
      "      mrwolf:NXcollection\n",
      "        Day = 4.0\n",
      "        Hours = 15.0\n",
      "        Minutes = 6.0\n",
      "        Month = 3.0\n",
      "        Seconds = 21.0\n",
      "        Year = 2018.0\n",
      "      offsets:NXcollection\n",
      "        base_z_offset = -13.6262510942\n",
      "        idgap_offset = 0.538808129536\n",
      "        m1y_offset = -15.4587308442\n",
      "        m2_coating_offset = 0.0\n",
      "        m2y_offset = -21.7423683442\n",
      "        ztable_offset = -20.6281058442\n",
      "      p2:NXcollection\n",
      "        p2rot = 91.1979\n",
      "        p2x1 = 65.0\n",
      "        p2y1 = 46.0\n",
      "        p2zbot = 50.000005\n",
      "        p2ztop = -600.0\n",
      "      pa:NXcollection\n",
      "        stoke = 0.0\n",
      "        thp = -0.000267144442169\n",
      "        tthp = 54.3\n",
      "        zp = -5.00000000017e-05\n",
      "      positions:NXcollection\n",
      "        Base_z = -0.290686\n",
      "        Base_z1 = -0.290686\n",
      "        Base_z2 = -0.29067375\n",
      "        Base_z3 = -0.29072\n",
      "        base_y = 9.3475\n",
      "        spara = 0.4338\n",
      "        sperp = 0.2441\n",
      "        sx = 0.4338\n",
      "        sy = 0.2441\n",
      "        sz = 13.04997\n",
      "        table_horiz = 20.47\n",
      "        table_vert = -7.29255\n",
      "      pp:NXcollection\n",
      "        ppchi = -0.01\n",
      "        ppth = 0.03782\n",
      "        ppx = 16.02\n",
      "        ppy = 6.008\n",
      "      source:NXcollection\n",
      "        Uharmonic = 5.0\n",
      "        idgap = 7.8086\n",
      "        rc = 299.55871582\n",
      "      xtalinfo:NXcollection\n",
      "        UB11 = 0.259005788531\n",
      "        UB12 = -0.0153973110853\n",
      "        UB13 = -0.00122015084395\n",
      "        UB21 = 0.0153889196849\n",
      "        UB22 = 0.259011435953\n",
      "        UB23 = -0.00069681630844\n",
      "        UB31 = 0.00205337315982\n",
      "        UB32 = 0.00101613947829\n",
      "        UB33 = 0.159128105919\n",
      "        a = 3.854\n",
      "        alpha1 = 90.0\n",
      "        alpha2 = 90.0\n",
      "        alpha3 = 90.0\n",
      "        b = 3.854\n",
      "        c = 6.284\n",
      "    definition = 'NXmx'\n",
      "    entry_identifier = '0'\n",
      "    experiment_identifier = 'DEFAULT'\n",
      "    features = [                   3                    6 -4539647395532570642]\n",
      "    instrument:NXinstrument\n",
      "      atime:NXpositioner\n",
      "        TimeSec = float64(201)\n",
      "          @local_name = 'atime.TimeSec'\n",
      "          @target = '/entry1/instrument/atime/TimeSec'\n",
      "      attenuator:NXattenuator\n",
      "        attenuator_transmission = 0.00920605986589\n",
      "      eta:NXpositioner\n",
      "        eta = float64(201)\n",
      "          @axis = '1'\n",
      "          @label = '1'\n",
      "          @local_name = 'eta.eta'\n",
      "          @primary = '1'\n",
      "          @target = '/entry1/instrument/eta/eta'\n",
      "        soft_limit_max = 115.0\n",
      "        soft_limit_min = -22.0\n",
      "      ic1monitor:NXpositioner\n",
      "        ic1monitor = float64(201)\n",
      "          @local_name = 'ic1monitor.ic1monitor'\n",
      "          @target = '/entry1/instrument/ic1monitor/ic1monitor'\n",
      "      name = 'i16'\n",
      "      pil100ks:NXdetector\n",
      "        calibration_date = '2015-10-07 13:16:01'\n",
      "        calibration_scan_number = 535376\n",
      "        count_time = float64(201)\n",
      "          @local_name = 'pil100ks.count_time'\n",
      "          @target = '/entry1/instrument/pil100ks/count_time'\n",
      "        depends_on = '/entry1/instrument/pil100ks/transformations/origin_offset'\n",
      "        description = 'DetectorBase'\n",
      "        id = 'detectorbase-1'\n",
      "        maxval = float64(201)\n",
      "          @local_name = 'pil100ks.maxval'\n",
      "          @target = '/entry1/instrument/pil100ks/maxval'\n",
      "        maxx = float64(201)\n",
      "          @local_name = 'pil100ks.maxx'\n",
      "          @target = '/entry1/instrument/pil100ks/maxx'\n",
      "        maxy = float64(201)\n",
      "          @local_name = 'pil100ks.maxy'\n",
      "          @target = '/entry1/instrument/pil100ks/maxy'\n",
      "        module:NXdetector_module\n",
      "          data_origin = [0 0]\n",
      "          data_size = [487 195]\n",
      "          fast_pixel_direction = 0.172\n",
      "            @depends_on = '/entry1/instrument/pil100ks/module/module_offset'\n",
      "            @offset = [ 0.  0.  0.]\n",
      "            @transformation_type = 'translation'\n",
      "            @units = 'mm'\n",
      "            @vector = [ 0.71607318 -0.01356371 -0.69789342]\n",
      "          module_offset = 0.0\n",
      "            @depends_on = '/entry1/instrument/pil100ks/transformations/origin_offset'\n",
      "            @offset = [ 0.  0.  0.]\n",
      "            @transformation_type = 'translation'\n",
      "            @units = 'mm'\n",
      "            @vector = [ 0.  0.  0.]\n",
      "          slow_pixel_direction = 0.172\n",
      "            @depends_on = '/entry1/instrument/pil100ks/module/module_offset'\n",
      "            @offset = [ 0.  0.  0.]\n",
      "            @transformation_type = 'translation'\n",
      "            @units = 'mm'\n",
      "            @vector = [ 0.00904506  0.99990755 -0.01015274]\n",
      "        path = float64(201)\n",
      "          @local_name = 'pil100ks.path'\n",
      "          @target = '/entry1/instrument/pil100ks/path'\n",
      "        saturation_value = 1000000\n",
      "        sensor_material = 'Silicon'\n",
      "        sensor_thickness = 0.32\n",
      "        sum = float64(201)\n",
      "          @local_name = 'pil100ks.sum'\n",
      "          @target = '/entry1/instrument/pil100ks/sum'\n",
      "        transformations:NXtransformations\n",
      "          origin_offset = 1.0\n",
      "            @depends_on = '/entry1/instrument/transformations/offsetdelta'\n",
      "            @offset = [ 0.  0.  0.]\n",
      "            @offset_units = 'mm'\n",
      "            @transformation_type = 'translation'\n",
      "            @units = 'mm'\n",
      "            @vector = [  50.13703609  -19.79829031  522.26632789]\n",
      "        type = 'DetectorBase'\n",
      "      rc:NXpositioner\n",
      "        rc = float64(201)\n",
      "          @axis = '1'\n",
      "          @local_name = 'rc.rc'\n",
      "          @target = '/entry1/instrument/rc/rc'\n",
      "      source:NXsource\n",
      "        current = 299.5605\n",
      "          @units = 'mA'\n",
      "        energy = 3.0009\n",
      "          @units = 'GeV'\n",
      "        name = 'DLS'\n",
      "        probe = 'X-ray'\n",
      "        type = 'Synchrotron X-Ray Source'\n",
      "      transformations:NXtransformations\n",
      "        delta = float64(201)\n",
      "          @axis = '1'\n",
      "          @depends_on = 'entry1/instrument/transformations/gamma'\n",
      "          @local_name = 'kdelta.kdelta'\n",
      "          @target = '/entry1/instrument/transformations/delta'\n",
      "          @transformation_type = 'rotation'\n",
      "          @units = 'deg'\n",
      "          @vector = [ 0.  1.  0.]\n",
      "        gamma = float64(201)\n",
      "          @axis = '1'\n",
      "          @depends_on = '.'\n",
      "          @local_name = 'kgam.kgam'\n",
      "          @target = '/entry1/instrument/transformations/gamma'\n",
      "          @transformation_type = 'rotation'\n",
      "          @units = 'deg'\n",
      "          @vector = [ 1.  0.  0.]\n",
      "        offsetdelta = float64(201)\n",
      "          @axis = '1'\n",
      "          @depends_on = 'entry1/instrument/transformations/delta'\n",
      "          @local_name = 'delta_axis_offset.delta_axis_offset'\n",
      "          @target = '/entry1/instrument/transformations/offsetdelta'\n",
      "          @transformation_type = 'rotation'\n",
      "          @units = 'deg'\n",
      "          @vector = [ 0. -1.  0.]\n",
      "    pil100ks:NXdata\n",
      "      TimeSec -> /entry1/instrument/atime/TimeSec\n",
      "      count_time -> /entry1/instrument/pil100ks/count_time\n",
      "      delta -> /entry1/instrument/transformations/delta\n",
      "      eta -> /entry1/instrument/eta/eta\n",
      "      gamma -> /entry1/instrument/transformations/gamma\n",
      "      ic1monitor -> /entry1/instrument/ic1monitor/ic1monitor\n",
      "      kappa -> /entry1/sample/transformations/kappa\n",
      "      maxval -> /entry1/instrument/pil100ks/maxval\n",
      "      maxx -> /entry1/instrument/pil100ks/maxx\n",
      "      maxy -> /entry1/instrument/pil100ks/maxy\n",
      "      mu -> /entry1/sample/transformations/mu\n",
      "      offsetdelta -> /entry1/instrument/transformations/offsetdelta\n",
      "      path -> /entry1/instrument/pil100ks/path\n",
      "      phi -> /entry1/sample/transformations/phi\n",
      "      rc -> /entry1/instrument/rc/rc\n",
      "      sum -> /entry1/instrument/pil100ks/sum\n",
      "      theta -> /entry1/sample/transformations/theta\n",
      "    program_name = 'GDA 8.64.0'\n",
      "    sample:NXsample\n",
      "      beam:NXbeam\n",
      "        incident_energy = 6.39999999701\n",
      "          @axis = '1'\n",
      "          @local_name = 'en.en'\n",
      "        incident_wavelength = 0.193725300923\n",
      "          @units = 'nm'\n",
      "      depends_on = '/entry1/sample/transformations/phi'\n",
      "      name = 'Default Sample'\n",
      "      orientation_matrix = float64(1x3x3)\n",
      "      transformations:NXtransformations\n",
      "        kappa = float64(201)\n",
      "          @axis = '1'\n",
      "          @depends_on = 'entry1/sample/transformations/theta'\n",
      "          @local_name = 'kap.kap'\n",
      "          @target = '/entry1/sample/transformations/kappa'\n",
      "          @transformation_type = 'rotation'\n",
      "          @units = 'deg'\n",
      "          @vector = [ 0.          0.64278761 -0.76604443]\n",
      "        mu = float64(201)\n",
      "          @axis = '1'\n",
      "          @depends_on = '.'\n",
      "          @local_name = 'kmu.km'\n",
      "          @target = '/entry1/sample/transformations/m'\n",
      "          @transformation_type = 'rotation'\n",
      "          @units = 'deg'\n",
      "          @vector = [ 1.  0.  0.]\n",
      "        phi = float64(201)\n",
      "          @axis = '1'\n",
      "          @depends_on = 'entry1/sample/transformations/kappa'\n",
      "          @local_name = 'kphi.kphi'\n",
      "          @target = '/entry1/sample/transformations/phi'\n",
      "          @transformation_type = 'rotation'\n",
      "          @units = 'deg'\n",
      "          @vector = [ 0.  1.  0.]\n",
      "        theta = float64(201)\n",
      "          @axis = '1'\n",
      "          @depends_on = 'entry1/sample/transformations/m'\n",
      "          @local_name = 'kth.kth'\n",
      "          @target = '/entry1/sample/transformations/theta'\n",
      "          @transformation_type = 'rotation'\n",
      "          @units = 'deg'\n",
      "          @vector = [ 0.  1.  0.]\n",
      "      unit_cell = float64(1x6)\n",
      "        @angle_units = 'deg'\n",
      "        @length_units = 'angstrom'\n",
      "    scan_command = 'scan eta 22.292822329418883 32.29282232941888 0.05 pil10...'\n",
      "    scan_dimensions = 201\n",
      "    scan_identifier = '356add97-ef81-43ed-967b-4df57dd8d2aa'\n",
      "    title = 'Scan of sample with GDA'\n",
      "    user01:NXuser\n",
      "      username = 'i16user'\n"
     ]
    }
   ],
   "source": [
    "print n.nx.tree"
   ]
  },
  {
   "cell_type": "code",
   "execution_count": 10,
   "metadata": {},
   "outputs": [
    {
     "data": {
      "text/plain": [
       "NXfield(array([ 301.34835815,  301.33709717,  301.32537842, ...,  300.84140015,\n",
       "        300.82800293,  300.81668091]))"
      ]
     },
     "execution_count": 10,
     "metadata": {},
     "output_type": "execute_result"
    }
   ],
   "source": [
    "n.nx.entry1.instrument.rc.rc"
   ]
  },
  {
   "cell_type": "code",
   "execution_count": 14,
   "metadata": {},
   "outputs": [
    {
     "data": {
      "text/plain": [
       "0     0.0060\n",
       "1     0.0065\n",
       "2     0.0070\n",
       "3     0.0075\n",
       "       ...  \n",
       "37    0.0245\n",
       "38    0.0250\n",
       "39    0.0255\n",
       "40    0.0260\n",
       "Name: sgome, Length: 41, dtype: float64"
      ]
     },
     "execution_count": 14,
     "metadata": {},
     "output_type": "execute_result"
    }
   ],
   "source": [
    "n.sgome/2"
   ]
  },
  {
   "cell_type": "code",
   "execution_count": 31,
   "metadata": {},
   "outputs": [
    {
     "data": {
      "text/plain": [
       "[<matplotlib.lines.Line2D at 0x7f7125f49f10>]"
      ]
     },
     "execution_count": 31,
     "metadata": {},
     "output_type": "execute_result"
    },
    {
     "data": {
      "image/png": "[encoded data removed]",
      "text/plain": [
       "<matplotlib.figure.Figure at 0x7f712603f610>"
      ]
     },
     "metadata": {},
     "output_type": "display_data"
    }
   ],
   "source": [
    "plt.figure(); \n",
    "plt.subplot(2,2,1); plt.plot(n.sgome, n['sum'])\n",
    "plt.subplot(2,2,2); plt.plot(n.sgome, n.rc)\n",
    "plt.subplot(2,2,3); plt.plot(n.sgome, n['sum'])\n",
    "plt.subplot(2,2,4); plt.plot(n.sgome, n['sum'])"
   ]
  },
  {
   "cell_type": "code",
   "execution_count": 28,
   "metadata": {},
   "outputs": [
    {
     "data": {
      "text/plain": [
       "0     0.012\n",
       "1     0.013\n",
       "2     0.014\n",
       "3     0.015\n",
       "      ...  \n",
       "37    0.049\n",
       "38    0.050\n",
       "39    0.051\n",
       "40    0.052\n",
       "Name: sgome, Length: 41, dtype: float64"
      ]
     },
     "execution_count": 28,
     "metadata": {},
     "output_type": "execute_result"
    }
   ],
   "source": [
    "n.sgome"
   ]
  },
  {
   "cell_type": "code",
   "execution_count": null,
   "metadata": {
    "collapsed": true
   },
   "outputs": [],
   "source": [
    "print '=== quickfit??'"
   ]
  }
 ],
 "metadata": {
  "kernelspec": {
   "display_name": "Python 2",
   "language": "python",
   "name": "python2"
  },
  "language_info": {
   "codemirror_mode": {
    "name": "ipython",
    "version": 2
   },
   "file_extension": ".py",
   "mimetype": "text/x-python",
   "name": "python",
   "nbconvert_exporter": "python",
   "pygments_lexer": "ipython2",
   "version": "2.7.15"
  }
 },
 "nbformat": 4,
 "nbformat_minor": 2
}
