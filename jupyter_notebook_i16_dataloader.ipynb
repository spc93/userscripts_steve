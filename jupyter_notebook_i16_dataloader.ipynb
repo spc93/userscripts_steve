{
 "cells": [
  {
   "cell_type": "code",
   "execution_count": 1,
   "metadata": {},
   "outputs": [
    {
     "name": "stdout",
     "output_type": "stream",
     "text": [
      "=== Importing dlstools package\n",
      "=== Need to obtain specfilewrapper.py and compatible specfile.so from ERSF PyMCA package in order to load spec files\n"
     ]
    },
    {
     "name": "stderr",
     "output_type": "stream",
     "text": [
      "/dls_sw/apps/scisoftpy/2.7/scisoftpy/_external/tifffile.py:284: UserWarning: ImportError: No module named '_tifffile'. Loading of some compressed images will be very slow. Tifffile.c can be obtained at http://www.lfd.uci.edu/~gohlke/\n",
      "  \"ImportError: No module named '_tifffile'. \"\n"
     ]
    }
   ],
   "source": [
    "datadir='/dls/i16/data/2018/cm19668-1/'\n",
    "\n",
    "import sys\n",
    "sys.path\n",
    "sys.path.append('/dls_sw/apps/scisoftpy/2.7')\n",
    "sys.path.append('/dls_sw/i16/software/python')\n",
    "%matplotlib nbagg\n",
    "from matplotlib.pyplot import *\n",
    "from numpy import *\n",
    "#from dlstools.quickfit import *\n",
    "#from dlstools.dirty_fit import fit\n",
    "from dlstools import dataloader\n",
    "d=dataloader.dlsloader(datadir+'%i.dat')\n",
    "p=dataloader.tiffloader(d, lambda obj: datadir+obj.pilatus2m_path_template)\n",
    "psnap=dataloader.tiffloader(datadir+'snapped-data/pilatus2M/'+'%05i.tif')"
   ]
  },
  {
   "cell_type": "code",
   "execution_count": null,
   "metadata": {
    "collapsed": true
   },
   "outputs": [],
   "source": []
  }
 ],
 "metadata": {
  "kernelspec": {
   "display_name": "Python 2",
   "language": "python",
   "name": "python2"
  },
  "language_info": {
   "codemirror_mode": {
    "name": "ipython",
    "version": 2
   },
   "file_extension": ".py",
   "mimetype": "text/x-python",
   "name": "python",
   "nbconvert_exporter": "python",
   "pygments_lexer": "ipython2",
   "version": "2.7.14"
  }
 },
 "nbformat": 4,
 "nbformat_minor": 2
}
