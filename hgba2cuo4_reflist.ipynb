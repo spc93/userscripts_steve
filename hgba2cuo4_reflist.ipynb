{
 "cells": [
  {
   "cell_type": "code",
   "execution_count": 1,
   "metadata": {},
   "outputs": [
    {
     "name": "stdout",
     "output_type": "stream",
     "text": [
      "=== Importing dlstools package\n"
     ]
    },
    {
     "name": "stderr",
     "output_type": "stream",
     "text": [
      "/dls_sw/apps/scisoftpy/2.7/scisoftpy/_external/tifffile.py:284: UserWarning: ImportError: No module named '_tifffile'. Loading of some compressed images will be very slow. Tifffile.c can be obtained at http://www.lfd.uci.edu/~gohlke/\n",
      "  \"ImportError: No module named '_tifffile'. \"\n",
      "Could not import plotting routines\n",
      "No module named py4j.java_gateway\n"
     ]
    },
    {
     "name": "stdout",
     "output_type": "stream",
     "text": [
      "=== Need to obtain specfilewrapper.py and compatible specfile.so from ERSF PyMCA package in order to load spec files\n"
     ]
    },
    {
     "ename": "ImportError",
     "evalue": "No module named iotbx.cif",
     "output_type": "error",
     "traceback": [
      "\u001b[0;31m---------------------------------------------------------------------------\u001b[0m",
      "\u001b[0;31mImportError\u001b[0m                               Traceback (most recent call last)",
      "\u001b[0;32m<ipython-input-1-97df1b169f05>\u001b[0m in \u001b[0;36m<module>\u001b[0;34m()\u001b[0m\n\u001b[1;32m     19\u001b[0m \u001b[0msys\u001b[0m\u001b[0;34m.\u001b[0m\u001b[0mpath\u001b[0m\u001b[0;34m.\u001b[0m\u001b[0mappend\u001b[0m\u001b[0;34m(\u001b[0m\u001b[0;34m'/dls_sw/i16/software/python/crystal/'\u001b[0m\u001b[0;34m)\u001b[0m\u001b[0;34m\u001b[0m\u001b[0m\n\u001b[1;32m     20\u001b[0m \u001b[0;34m\u001b[0m\u001b[0m\n\u001b[0;32m---> 21\u001b[0;31m \u001b[0;32mimport\u001b[0m \u001b[0mCrystal\u001b[0m \u001b[0;32mas\u001b[0m \u001b[0mCr\u001b[0m\u001b[0;34m\u001b[0m\u001b[0m\n\u001b[0m\u001b[1;32m     22\u001b[0m \u001b[0mcifpath\u001b[0m\u001b[0;34m=\u001b[0m\u001b[0;34m'/home/spc93/spc_cifs/'\u001b[0m\u001b[0;34m\u001b[0m\u001b[0m\n\u001b[1;32m     23\u001b[0m \u001b[0mmc\u001b[0m \u001b[0;34m=\u001b[0m \u001b[0mCr\u001b[0m\u001b[0;34m.\u001b[0m\u001b[0mCrystal\u001b[0m\u001b[0;34m(\u001b[0m\u001b[0;34m)\u001b[0m\u001b[0;34m\u001b[0m\u001b[0m\n",
      "\u001b[0;32m/dls_sw/i16/software/python/crystal/Crystal.py\u001b[0m in \u001b[0;36m<module>\u001b[0;34m()\u001b[0m\n\u001b[1;32m      7\u001b[0m \u001b[0;32mimport\u001b[0m \u001b[0msys\u001b[0m\u001b[0;34m\u001b[0m\u001b[0m\n\u001b[1;32m      8\u001b[0m \u001b[0;34m\u001b[0m\u001b[0m\n\u001b[0;32m----> 9\u001b[0;31m \u001b[0;32mimport\u001b[0m \u001b[0miotbx\u001b[0m\u001b[0;34m.\u001b[0m\u001b[0mcif\u001b[0m\u001b[0;34m\u001b[0m\u001b[0m\n\u001b[0m\u001b[1;32m     10\u001b[0m \u001b[0;32mimport\u001b[0m \u001b[0miotbx\u001b[0m\u001b[0;34m.\u001b[0m\u001b[0mcif\u001b[0m\u001b[0;34m.\u001b[0m\u001b[0mbuilders\u001b[0m\u001b[0;34m\u001b[0m\u001b[0m\n\u001b[1;32m     11\u001b[0m \u001b[0;32mfrom\u001b[0m \u001b[0miotbx\u001b[0m\u001b[0;34m.\u001b[0m\u001b[0mcif\u001b[0m\u001b[0;34m.\u001b[0m\u001b[0mbuilders\u001b[0m \u001b[0;32mimport\u001b[0m \u001b[0mCifBuilderError\u001b[0m\u001b[0;34m\u001b[0m\u001b[0m\n",
      "\u001b[0;31mImportError\u001b[0m: No module named iotbx.cif"
     ]
    }
   ],
   "source": [
    "datadir='/dls/i16/data/2018/cm19668-1/'\n",
    "\n",
    "import sys\n",
    "sys.path\n",
    "sys.path.append('/dls_sw/apps/scisoftpy/2.7')\n",
    "sys.path.append('/dls_sw/i16/software/python')\n",
    "%matplotlib nbagg\n",
    "from matplotlib.pyplot import *\n",
    "from numpy import *\n",
    "#from dlstools.quickfit import *\n",
    "#from dlstools.dirty_fit import fit\n",
    "from dlstools import dataloader\n",
    "d=dataloader.dlsloader(datadir+'%i.dat')\n",
    "p=dataloader.tiffloader(d, lambda obj: datadir+obj.pilatus2m_path_template)\n",
    "psnap=dataloader.tiffloader(datadir+'snapped-data/pilatus2M/'+'%05i.tif')\n",
    "\n",
    "\n",
    "import sys\n",
    "sys.path.append('/dls_sw/i16/software/python/crystal/')\n",
    "\n",
    "import Crystal as Cr\n",
    "cifpath='/home/spc93/spc_cifs/'\n",
    "mc = Cr.Crystal()\n",
    "mc.load_cif(cifpath+'MoS2_icsd_49801_cifbib.cif','49801-ICSD')\n",
    "\n",
    "energy=12.4/1.54\n",
    "refs=mc.reflection_list(energy)\n",
    "\n",
    "#(1,0,l)\n",
    "#look at 10l 20l 11l\n",
    "shortlist=[ref for ref in refs if ref[0][0]==0 and ref[0][1]==0]\n",
    "print; print '(h,k,l)\\t\\ttth\\tIrel'; print '-------\\t\\t---\\t---'\n",
    "for ref in shortlist[0:25]:\n",
    "    print ref[0],'\\t%.2f\\t%.2f' % (ref[4], ref[2])\n",
    "\n",
    "\n",
    "#refs=mc.reflection_list(energy)\n",
    "#refs=[ref for ref in refs if ref[0][0]==ref[0][1]==ref[0][2]] #filter refs hhh\n",
    "print; print '(h,k,l)\\t\\ttth\\tIrel\\td\\tE(tth=90)'; print '-------\\t\\t---\\t---'\n",
    "for ref in shortlist[0:25]:\n",
    "    d=ref[5]\n",
    "    E90=12.4/np.sqrt(2)/d\n",
    "    print ref[0],'\\t%.2f\\t%.4g\\t%.3f\\t%.3f' % (ref[4], ref[2], d, E90)\n",
    "\n",
    "\n",
    "\n"
   ]
  },
  {
   "cell_type": "code",
   "execution_count": null,
   "metadata": {
    "collapsed": true
   },
   "outputs": [],
   "source": []
  }
 ],
 "metadata": {
  "kernelspec": {
   "display_name": "Python 2",
   "language": "python",
   "name": "python2"
  },
  "language_info": {
   "codemirror_mode": {
    "name": "ipython",
    "version": 2
   },
   "file_extension": ".py",
   "mimetype": "text/x-python",
   "name": "python",
   "nbconvert_exporter": "python",
   "pygments_lexer": "ipython2",
   "version": "2.7.15"
  }
 },
 "nbformat": 4,
 "nbformat_minor": 2
}
