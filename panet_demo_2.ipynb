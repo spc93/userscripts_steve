{
 "cells": [
  {
   "cell_type": "code",
   "execution_count": null,
   "metadata": {},
   "outputs": [],
   "source": [
    "#api_key = \"0280ec35-b8e0-4ac5-ab24-ded510c9ed0f\"\n",
    "#http://data.bioontology.org/ontologies/PANET/classes\n",
    "\n",
    "#this works    \n",
    "#http://data.bioontology.org/ontologies/PANET/classes?apikey=0280ec35-b8e0-4ac5-ab24-ded510c9ed0f\n"
   ]
  },
  {
   "cell_type": "code",
   "execution_count": 33,
   "metadata": {},
   "outputs": [],
   "source": [
    "#https://github.com/ncbo/ncbo_rest_sample_code/tree/master/python/python3\n",
    "#api_key = \n",
    "\n",
    "import urllib.request, urllib.error, urllib.parse\n",
    "import json\n",
    "import os\n",
    "from pprint import pprint"
   ]
  },
  {
   "cell_type": "code",
   "execution_count": 34,
   "metadata": {},
   "outputs": [
    {
     "name": "stdout",
     "output_type": "stream",
     "text": [
      "ExPaNDS:atomic%20core%20excitation atomic core excitation\n",
      "ExPaNDS:neutron%20probe neutron probe\n",
      "ExPaNDS:versus%20energy versus energy\n",
      "ExPaNDS:UV%20photon%20probe UV photon probe\n",
      "ExPaNDS:micro%20scale%20diffraction micro scale diffraction\n",
      "ExPaNDS:versus%20sample%20magnetic%20field versus sample magnetic field\n",
      "ExPaNDS:atomic%20scale%20diffraction atomic scale diffraction\n",
      "ExPaNDS:elastic%20scattering elastic scattering\n",
      "ExPaNDS:pulsed%20neutron%20TOF%20probe pulsed neutron TOF probe\n",
      "ExPaNDS:verus%20position verus position\n",
      "ExPaNDS:thermal%20neutron%20probe thermal neutron probe\n",
      "ExPaNDS:experimental%20probe experimental probe\n",
      "ExPaNDS:obtain%20local%20coordination obtain local coordination\n",
      "ExPaNDS:fluorescence%20tomography fluorescence tomography\n",
      "ExPaNDS:absorption%20contrast%20imaging absorption contrast imaging\n",
      "ExPaNDS:diffraction diffraction\n",
      "ExPaNDS:versus%20polarization versus polarization\n",
      "ExPaNDS:versus%20emission%20momentum versus emission momentum\n",
      "ExPaNDS:photon%20and%20neutron%20technique photon and neutron technique\n",
      "ExPaNDS:UV%20visible%20photon%20probe UV visible photon probe\n",
      "ExPaNDS:atomic%20scale%20diffraction%203D%20volume atomic scale diffraction 3D volume\n",
      "ExPaNDS:obtain%20atomic%20magnetic%20structure obtain atomic magnetic structure\n",
      "ExPaNDS:versus%20emitted%20energy versus emitted energy\n",
      "ExPaNDS:characterize%20lattice%20excitations characterize lattice excitations\n",
      "ExPaNDS:versus%20photon%20circlar%20polarization versus photon circlar polarization\n",
      "ExPaNDS:versus%20sample%20electric%20field versus sample electric field\n",
      "ExPaNDS:obtain%20magnetic%20density obtain magnetic density\n",
      "ExPaNDS:fluorescence%20luminescence fluorescence luminescence\n",
      "ExPaNDS:technique%20purpose technique purpose\n",
      "ExPaNDS:incoherent%20scattering incoherent scattering\n",
      "ExPaNDS:spin%20echo%20technique spin echo technique\n",
      "ExPaNDS:grazing%20incidence%20diffraction grazing incidence diffraction\n",
      "ExPaNDS:atomic%20scale%20diffraction%203D%20volume%203D%20periodic atomic scale diffraction 3D volume 3D periodic\n",
      "ExPaNDS:visible%20photon%20emission%20technique visible photon emission technique\n",
      "ExPaNDS:dichroism dichroism\n",
      "ExPaNDS:emission%20technique emission technique\n",
      "ExPaNDS:obtain%20electronic%20density%20of%20states obtain electronic density of states\n",
      "ExPaNDS:hard%20x-ray%20probe hard x-ray probe\n",
      "ExPaNDS:powder%20diffraction powder diffraction\n",
      "ExPaNDS:muon%20spin%20resonance muon spin resonance\n",
      "ExPaNDS:obtain%20charge%20quadrupole obtain charge quadrupole\n",
      "ExPaNDS:refraction%20technique refraction technique\n",
      "ExPaNDS:grazing%20incidence%20SAS grazing incidence SAS\n",
      "ExPaNDS:obtain%20electronic%20density%20of%20occupied%20states obtain electronic density of occupied states\n",
      "ExPaNDS:versus%20photon%20linear%20polarization versus photon linear polarization\n",
      "ExPaNDS:atomic%20scale%20diffraction%202D%20surface%20or%20film atomic scale diffraction 2D surface or film\n",
      "ExPaNDS:electronic%20excitation electronic excitation\n",
      "ExPaNDS:obtain%20atomic%20structure obtain atomic structure\n",
      "ExPaNDS:experimental%20physical%20process experimental physical process\n"
     ]
    }
   ],
   "source": [
    "### look at PANET ontology - all classes\n",
    "\n",
    "API_KEY = api_key\n",
    "\n",
    "def get_json(url):\n",
    "    opener = urllib.request.build_opener()\n",
    "    opener.addheaders = [('Authorization', 'apikey token=' + API_KEY)]\n",
    "    return json.loads(opener.open(url).read())\n",
    "\n",
    "# Get the available resources - PANET classes\n",
    "REST_URL = 'http://data.bioontology.org/ontologies/PANET/classes'\n",
    "\n",
    "\n",
    "class_resources = get_json(REST_URL + \"/\")\n",
    "#pprint(class_resources)\n",
    "\n",
    "for i in range(len(class_resources['collection'])):\n",
    "    print(class_resources['collection'][i]['@id'], class_resources['collection'][i]['prefLabel'])\n",
    "\n"
   ]
  },
  {
   "cell_type": "code",
   "execution_count": null,
   "metadata": {},
   "outputs": [],
   "source": []
  },
  {
   "cell_type": "code",
   "execution_count": 35,
   "metadata": {},
   "outputs": [
    {
     "name": "stdout",
     "output_type": "stream",
     "text": [
      "Label: atomic core excitation \t Superclass label: electronic excitation\n",
      "Label: electronic excitation \t Superclass label: resonance phenomenon\n"
     ]
    }
   ],
   "source": [
    "### look at PANET ontology - find subclass labels\n",
    "\n",
    "API_KEY = api_key\n",
    "\n",
    "def get_json(url):\n",
    "    opener = urllib.request.build_opener()\n",
    "    opener.addheaders = [('Authorization', 'apikey token=' + API_KEY)]\n",
    "    return json.loads(opener.open(url).read())\n",
    "\n",
    "# Get the available resources - PANET classes\n",
    "REST_URL = 'http://data.bioontology.org/ontologies/PANET/classes'\n",
    "class_resources = get_json(REST_URL + \"/\")\n",
    "\n",
    "\n",
    "def showParentLabels(label):\n",
    "    for i in range(len(class_resources['collection'])):\n",
    "        #print(class_resources['collection'][i]['prefLabel'])\n",
    "        if label in class_resources['collection'][i]['prefLabel']:\n",
    "            class_url = class_resources['collection'][i]['links']['self']\n",
    "            url_for_parents = get_json(class_url + \"/\")['links']['parents']\n",
    "            res_for_parents = get_json(url_for_parents + \"/\")\n",
    "            for j in range(len(res_for_parents)):\n",
    "                url = res_for_parents[j]['links']['self']\n",
    "                res = get_json(url + \"/\")\n",
    "                print('Label: %s \\t Superclass label: %s' % (label, res['prefLabel']))\n",
    "    \n",
    "showParentLabels('atomic core excitation')\n",
    "showParentLabels('electronic excitation')\n"
   ]
  },
  {
   "cell_type": "code",
   "execution_count": null,
   "metadata": {},
   "outputs": [],
   "source": []
  }
 ],
 "metadata": {
  "kernelspec": {
   "display_name": "Python 3.8 [Conda DLS]",
   "language": "python",
   "name": "conda-env-Conda_DLS-python3.8"
  },
  "language_info": {
   "codemirror_mode": {
    "name": "ipython",
    "version": 3
   },
   "file_extension": ".py",
   "mimetype": "text/x-python",
   "name": "python",
   "nbconvert_exporter": "python",
   "pygments_lexer": "ipython3",
   "version": "3.8.0"
  }
 },
 "nbformat": 4,
 "nbformat_minor": 2
}
