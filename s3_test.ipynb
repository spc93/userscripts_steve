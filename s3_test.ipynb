{
 "cells": [
  {
   "cell_type": "code",
   "execution_count": 2,
   "metadata": {},
   "outputs": [],
   "source": [
    "import boto3"
   ]
  },
  {
   "cell_type": "code",
   "execution_count": 3,
   "metadata": {},
   "outputs": [],
   "source": [
    "boto3?"
   ]
  },
  {
   "cell_type": "code",
   "execution_count": 4,
   "metadata": {},
   "outputs": [],
   "source": [
    "s3_client = boto3.client('s3')"
   ]
  },
  {
   "cell_type": "code",
   "execution_count": 5,
   "metadata": {},
   "outputs": [],
   "source": [
    "#boto3.client('lkfslkfl') UnknownServiceError\n",
    "#S3 URI s3://spc93.s3.bucket.tmp1/data/cm19668-5/724349.nxs"
   ]
  },
  {
   "cell_type": "code",
   "execution_count": null,
   "metadata": {},
   "outputs": [],
   "source": []
  },
  {
   "cell_type": "code",
   "execution_count": 6,
   "metadata": {},
   "outputs": [],
   "source": [
    "s3_resource = boto3.resource('s3')"
   ]
  },
  {
   "cell_type": "code",
   "execution_count": 25,
   "metadata": {},
   "outputs": [],
   "source": [
    "#first_bucket_name = 's3://spc93.s3.bucket.tmp1'\n",
    "bucket = 'spc93.s3.bucket.tmp1'\n",
    "file = 'data/cm19668-5/724349.nxs'\n",
    "\n",
    "#s3_resource.Object(bucket, file).download_file('/home/spc93/tmp/tmp4') # Python 3.6+\n",
    "s3_resource.Object(bucket, file).download_file('/home/spc93/tmp/' + '724349.nxs') "
   ]
  },
  {
   "cell_type": "code",
   "execution_count": 26,
   "metadata": {},
   "outputs": [
    {
     "name": "stdout",
     "output_type": "stream",
     "text": [
      "=== Importing dlstools package\n"
     ]
    }
   ],
   "source": [
    "import sys\n",
    "sys.path.append('/dls_sw/apps/scisoftpy/2.7')\n",
    "sys.path.append('/dls_sw/i16/software/python')\n",
    "from dlstools import *\n",
    "from dlstools.pdnx import *\n",
    "from matplotlib.pyplot import *\n",
    "\n",
    "from dlstools.quickfit import *\n",
    "import matplotlib.pyplot as plt\n",
    "\n",
    "#%matplotlib inline\n",
    "%matplotlib notebook\n",
    "#%matplotlib nbagg\n",
    "\n",
    "#p='/dls/i16/data/2020/cm26473-2/%i.nxs'\n",
    "n = pdnx('/home/spc93/tmp/' + '724349.nxs')"
   ]
  },
  {
   "cell_type": "code",
   "execution_count": 27,
   "metadata": {},
   "outputs": [
    {
     "data": {
      "text/html": [
       "<div>\n",
       "<style scoped>\n",
       "    .dataframe tbody tr th:only-of-type {\n",
       "        vertical-align: middle;\n",
       "    }\n",
       "\n",
       "    .dataframe tbody tr th {\n",
       "        vertical-align: top;\n",
       "    }\n",
       "\n",
       "    .dataframe thead th {\n",
       "        text-align: right;\n",
       "    }\n",
       "</style>\n",
       "<table border=\"1\" class=\"dataframe\">\n",
       "  <thead>\n",
       "    <tr style=\"text-align: right;\">\n",
       "      <th></th>\n",
       "      <th>count_time</th>\n",
       "      <th>kphi</th>\n",
       "      <th>maxval</th>\n",
       "      <th>maxx</th>\n",
       "      <th>maxy</th>\n",
       "      <th>path</th>\n",
       "      <th>roi2_maxval</th>\n",
       "      <th>roi2_maxx</th>\n",
       "      <th>roi2_maxy</th>\n",
       "      <th>roi2_sum</th>\n",
       "      <th>sum</th>\n",
       "    </tr>\n",
       "  </thead>\n",
       "  <tbody>\n",
       "    <tr>\n",
       "      <th>0</th>\n",
       "      <td>0.5</td>\n",
       "      <td>-90.0</td>\n",
       "      <td>44.0</td>\n",
       "      <td>469.0</td>\n",
       "      <td>103.0</td>\n",
       "      <td>1.0</td>\n",
       "      <td>39.0</td>\n",
       "      <td>44.0</td>\n",
       "      <td>23.0</td>\n",
       "      <td>49151.0</td>\n",
       "      <td>1879809.0</td>\n",
       "    </tr>\n",
       "    <tr>\n",
       "      <th>1</th>\n",
       "      <td>0.5</td>\n",
       "      <td>-89.5</td>\n",
       "      <td>44.0</td>\n",
       "      <td>407.0</td>\n",
       "      <td>70.0</td>\n",
       "      <td>2.0</td>\n",
       "      <td>37.0</td>\n",
       "      <td>46.0</td>\n",
       "      <td>40.0</td>\n",
       "      <td>49251.0</td>\n",
       "      <td>1875618.0</td>\n",
       "    </tr>\n",
       "    <tr>\n",
       "      <th>2</th>\n",
       "      <td>0.5</td>\n",
       "      <td>-89.0</td>\n",
       "      <td>47.0</td>\n",
       "      <td>308.0</td>\n",
       "      <td>121.0</td>\n",
       "      <td>3.0</td>\n",
       "      <td>36.0</td>\n",
       "      <td>30.0</td>\n",
       "      <td>43.0</td>\n",
       "      <td>49050.0</td>\n",
       "      <td>1868081.0</td>\n",
       "    </tr>\n",
       "    <tr>\n",
       "      <th>3</th>\n",
       "      <td>0.5</td>\n",
       "      <td>-88.5</td>\n",
       "      <td>45.0</td>\n",
       "      <td>468.0</td>\n",
       "      <td>68.0</td>\n",
       "      <td>4.0</td>\n",
       "      <td>38.0</td>\n",
       "      <td>48.0</td>\n",
       "      <td>15.0</td>\n",
       "      <td>49027.0</td>\n",
       "      <td>1875992.0</td>\n",
       "    </tr>\n",
       "    <tr>\n",
       "      <th>...</th>\n",
       "      <td>...</td>\n",
       "      <td>...</td>\n",
       "      <td>...</td>\n",
       "      <td>...</td>\n",
       "      <td>...</td>\n",
       "      <td>...</td>\n",
       "      <td>...</td>\n",
       "      <td>...</td>\n",
       "      <td>...</td>\n",
       "      <td>...</td>\n",
       "      <td>...</td>\n",
       "    </tr>\n",
       "    <tr>\n",
       "      <th>717</th>\n",
       "      <td>0.5</td>\n",
       "      <td>268.5</td>\n",
       "      <td>45.0</td>\n",
       "      <td>461.0</td>\n",
       "      <td>71.0</td>\n",
       "      <td>718.0</td>\n",
       "      <td>38.0</td>\n",
       "      <td>5.0</td>\n",
       "      <td>4.0</td>\n",
       "      <td>50131.0</td>\n",
       "      <td>1905821.0</td>\n",
       "    </tr>\n",
       "    <tr>\n",
       "      <th>718</th>\n",
       "      <td>0.5</td>\n",
       "      <td>269.0</td>\n",
       "      <td>46.0</td>\n",
       "      <td>458.0</td>\n",
       "      <td>154.0</td>\n",
       "      <td>719.0</td>\n",
       "      <td>37.0</td>\n",
       "      <td>12.0</td>\n",
       "      <td>22.0</td>\n",
       "      <td>49762.0</td>\n",
       "      <td>1897443.0</td>\n",
       "    </tr>\n",
       "    <tr>\n",
       "      <th>719</th>\n",
       "      <td>0.5</td>\n",
       "      <td>269.5</td>\n",
       "      <td>44.0</td>\n",
       "      <td>413.0</td>\n",
       "      <td>63.0</td>\n",
       "      <td>720.0</td>\n",
       "      <td>38.0</td>\n",
       "      <td>11.0</td>\n",
       "      <td>1.0</td>\n",
       "      <td>50072.0</td>\n",
       "      <td>1901823.0</td>\n",
       "    </tr>\n",
       "    <tr>\n",
       "      <th>720</th>\n",
       "      <td>0.5</td>\n",
       "      <td>270.0</td>\n",
       "      <td>44.0</td>\n",
       "      <td>425.0</td>\n",
       "      <td>49.0</td>\n",
       "      <td>721.0</td>\n",
       "      <td>39.0</td>\n",
       "      <td>39.0</td>\n",
       "      <td>48.0</td>\n",
       "      <td>49815.0</td>\n",
       "      <td>1885824.0</td>\n",
       "    </tr>\n",
       "  </tbody>\n",
       "</table>\n",
       "<p>721 rows × 11 columns</p>\n",
       "</div>"
      ],
      "text/plain": [
       "     count_time   kphi  maxval   maxx   maxy   path  roi2_maxval  roi2_maxx  roi2_maxy  roi2_sum        sum\n",
       "0           0.5  -90.0    44.0  469.0  103.0    1.0         39.0       44.0       23.0   49151.0  1879809.0\n",
       "1           0.5  -89.5    44.0  407.0   70.0    2.0         37.0       46.0       40.0   49251.0  1875618.0\n",
       "2           0.5  -89.0    47.0  308.0  121.0    3.0         36.0       30.0       43.0   49050.0  1868081.0\n",
       "3           0.5  -88.5    45.0  468.0   68.0    4.0         38.0       48.0       15.0   49027.0  1875992.0\n",
       "..          ...    ...     ...    ...    ...    ...          ...        ...        ...       ...        ...\n",
       "717         0.5  268.5    45.0  461.0   71.0  718.0         38.0        5.0        4.0   50131.0  1905821.0\n",
       "718         0.5  269.0    46.0  458.0  154.0  719.0         37.0       12.0       22.0   49762.0  1897443.0\n",
       "719         0.5  269.5    44.0  413.0   63.0  720.0         38.0       11.0        1.0   50072.0  1901823.0\n",
       "720         0.5  270.0    44.0  425.0   49.0  721.0         39.0       39.0       48.0   49815.0  1885824.0\n",
       "\n",
       "[721 rows x 11 columns]"
      ]
     },
     "execution_count": 27,
     "metadata": {},
     "output_type": "execute_result"
    }
   ],
   "source": [
    "n"
   ]
  },
  {
   "cell_type": "code",
   "execution_count": 22,
   "metadata": {},
   "outputs": [],
   "source": [
    "s3_resource.Object?"
   ]
  },
  {
   "cell_type": "code",
   "execution_count": null,
   "metadata": {},
   "outputs": [],
   "source": [
    "# set up credentials and config files under .aws on home (via NX)\n",
    "# region is prpbably wrong - need to check format\n",
    "# Invalid endpoint: https://s3.EU (Ireland) eu-west-1.amazonaws.com - fixed now? \n",
    "\n",
    "# test with real bucket. How to specify user?"
   ]
  },
  {
   "cell_type": "code",
   "execution_count": null,
   "metadata": {},
   "outputs": [],
   "source": []
  }
 ],
 "metadata": {
  "kernelspec": {
   "display_name": "Python 3.8 [Conda DLS]",
   "language": "python",
   "name": "conda-env-Conda_DLS-python3.8"
  },
  "language_info": {
   "codemirror_mode": {
    "name": "ipython",
    "version": 3
   },
   "file_extension": ".py",
   "mimetype": "text/x-python",
   "name": "python",
   "nbconvert_exporter": "python",
   "pygments_lexer": "ipython3",
   "version": "3.8.0"
  }
 },
 "nbformat": 4,
 "nbformat_minor": 2
}
