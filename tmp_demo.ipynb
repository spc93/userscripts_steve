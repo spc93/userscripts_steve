{
 "cells": [
  {
   "cell_type": "code",
   "execution_count": 8,
   "metadata": {},
   "outputs": [],
   "source": [
    "## test with specified parameters; try some fixed\n",
    "## add to doc string\n",
    "\n",
    "## upload github when completed (with pdnx)\n",
    "\n"
   ]
  },
  {
   "cell_type": "code",
   "execution_count": 10,
   "metadata": {},
   "outputs": [
    {
     "data": {
      "text/plain": [
       "2.0"
      ]
     },
     "execution_count": 10,
     "metadata": {},
     "output_type": "execute_result"
    }
   ],
   "source": [
    "6/3"
   ]
  },
  {
   "cell_type": "code",
   "execution_count": 2,
   "metadata": {},
   "outputs": [
    {
     "name": "stdout",
     "output_type": "stream",
     "text": [
      "=== Importing dlstools package\n"
     ]
    }
   ],
   "source": [
    "import sys\n",
    "sys.path.append('/dls_sw/apps/scisoftpy/2.7')\n",
    "sys.path.append('/dls_sw/i16/software/python')\n",
    "from dlstools import *\n",
    "from dlstools.pdnx import *\n",
    "from matplotlib.pyplot import *\n",
    "from dlstools.quickfit import *\n",
    "#from dlstools.dirty_fit import fit\n",
    "from mpl_toolkits.mplot3d import Axes3D ########## was not previously required!!\n",
    "%matplotlib notebook\n",
    "p='/dls/i16/data/2019/mm23932-1/%i.nxs'"
   ]
  },
  {
   "cell_type": "code",
   "execution_count": 3,
   "metadata": {},
   "outputs": [
    {
     "name": "stderr",
     "output_type": "stream",
     "text": [
      "/dls_sw/i16/software/python/dlstools/pdnx.py:74: UserWarning: Pandas doesn't allow columns to be created via a new attribute name - see https://pandas.pydata.org/pandas-docs/stable/indexing.html#attribute-access\n",
      "  setattr(self,'nx',_nx)\n",
      "/dls_sw/i16/software/python/dlstools/quickfit.py:106: RuntimeWarning: divide by zero encountered in log10\n",
      "  _n_dec_places = max(0, int(-np.round(np.log10(stderr))) + 1)\n"
     ]
    },
    {
     "name": "stdout",
     "output_type": "stream",
     "text": [
      "(Model(pvoigt) + Model(const))\n",
      "\n",
      "      area:             5614 +/- 179       \n",
      "       cen:         20.35330 +/- 0.00017   \n",
      "      fwhm:           0.0151 +/- 0.0023    \n",
      "     lfrac:             1.65 +/- 0.19      \n",
      "         c:            29198 +/- 904       \n",
      "\n",
      "\n",
      "(Model(pvoigt) + Model(const))\n",
      "\n",
      "      area:              918 +/- 840       \n",
      "       cen:          20.3544 +/- 0.0014    \n",
      "      fwhm:           0.0299 +/- 0.0027    \n",
      "     lfrac:             -1.5 +/- 0.5       \n",
      "         c:       50000.0000 +/- 0.0000    \n",
      "\n",
      "\n"
     ]
    },
    {
     "data": {
      "image/png": "[encoded data removed]",
      "text/plain": [
       "<Figure size 432x288 with 1 Axes>"
      ]
     },
     "metadata": {
      "needs_background": "light"
     },
     "output_type": "display_data"
    }
   ],
   "source": [
    "n = pdnx(p % 803938) #008\n",
    "#n.nx.plot() ################### doesn't work!\n",
    "n.plot('eta','sum')\n",
    "ff = fit(pv_c)\n",
    "#pin = pv_c.make_params()\n",
    "pin = ff.params\n",
    "pin['c'].set(50000, vary = False)\n",
    "ff = fit(pv_c, params = pin)\n"
   ]
  },
  {
   "cell_type": "code",
   "execution_count": 4,
   "metadata": {},
   "outputs": [
    {
     "data": {
      "text/html": [
       "<h2> Model</h2> (Model(pvoigt) + Model(const)) <h2>Fit Statistics</h2><table><tr><td>fitting method</td><td>leastsq</td><td></td></tr><tr><td># function evals</td><td>77</td><td></td></tr><tr><td># data points</td><td>32</td><td></td></tr><tr><td># variables</td><td>4</td><td></td></tr><tr><td>chi-square</td><td> 6.8598e+09</td><td></td></tr><tr><td>reduced chi-square</td><td> 2.4499e+08</td><td></td></tr><tr><td>Akaike info crit.</td><td> 621.862736</td><td></td></tr><tr><td>Bayesian info crit.</td><td> 627.725680</td><td></td></tr></table><h2>Variables</h2><table><tr><th> name </th><th> value </th><th> standard error </th><th> relative error </th><th> initial value </th><th> min </th><th> max </th><th> vary </th></tr><tr><td> area </td><td>  918.118424 </td><td>  840.110360 </td><td> 91.50% </td><td> 4658.951249999821 </td><td>        -inf </td><td>         inf </td><td> True </td></tr><tr><td> cen </td><td>  20.3543856 </td><td>  0.00136668 </td><td> 0.01% </td><td> 20.351283657674475 </td><td>        -inf </td><td>         inf </td><td> True </td></tr><tr><td> fwhm </td><td>  0.02993078 </td><td>  0.00269848 </td><td> 9.02% </td><td> 0.031772506350152684 </td><td>        -inf </td><td>         inf </td><td> True </td></tr><tr><td> lfrac </td><td> -1.53312610 </td><td>  0.50693755 </td><td> -33.07% </td><td> 0 </td><td>        -inf </td><td>         inf </td><td> True </td></tr><tr><td> c </td><td>  50000.0000 </td><td>  0.00000000 </td><td> 0.00% </td><td> 50000 </td><td>        -inf </td><td>         inf </td><td> False </td></tr></table><h2>Correlations (unreported correlations are < 0.100)</h2><table><tr><td>area</td><td>lfrac</td><td>0.9937</td></tr><tr><td>fwhm</td><td>lfrac</td><td>-0.3343</td></tr><tr><td>area</td><td>fwhm</td><td>-0.2878</td></tr></table>"
      ],
      "text/plain": [
       "<lmfit.model.ModelResult at 0x7f02a54bb390>"
      ]
     },
     "execution_count": 4,
     "metadata": {},
     "output_type": "execute_result"
    }
   ],
   "source": [
    "ff.result\n"
   ]
  },
  {
   "cell_type": "code",
   "execution_count": null,
   "metadata": {},
   "outputs": [],
   "source": []
  },
  {
   "cell_type": "code",
   "execution_count": 7,
   "metadata": {},
   "outputs": [
    {
     "name": "stdout",
     "output_type": "stream",
     "text": [
      "(Model(pvoigt) + Model(const))\n",
      "\n",
      "      area:           0.1000 +/- 0.0000    \n",
      "       cen:           0.0000 +/- 0.0000    \n",
      "      fwhm:           0.2000 +/- 0.0000    \n",
      "     lfrac:           0.0000 +/- 0.0000    \n",
      "         c:           1.0000 +/- 0.0000    \n",
      "\n",
      "\n"
     ]
    },
    {
     "data": {
      "image/png": "[encoded data removed]",
      "text/plain": [
       "<Figure size 432x288 with 1 Axes>"
      ]
     },
     "metadata": {
      "needs_background": "light"
     },
     "output_type": "display_data"
    }
   ],
   "source": [
    "x = np.arange(-1,1,.01)\n",
    "y = pvoigt(x, area = .1, cen = 0, fwhm = .2, lfrac = 0.0) + np.ones(x.shape)\n",
    "figure(); plot(x, y); grid(1)\n",
    "#[centre, fwhm_sd, fwhm_area, sumdat, height, area, m, c] = peak(x, y)\n",
    "#print(fwhm_sd, fwhm_area) \n",
    "aa = fit(pv_c)"
   ]
  },
  {
   "cell_type": "code",
   "execution_count": null,
   "metadata": {},
   "outputs": [],
   "source": [
    "aa.result._repr_html_()"
   ]
  },
  {
   "cell_type": "code",
   "execution_count": null,
   "metadata": {},
   "outputs": [],
   "source": []
  },
  {
   "cell_type": "code",
   "execution_count": null,
   "metadata": {},
   "outputs": [],
   "source": []
  },
  {
   "cell_type": "code",
   "execution_count": null,
   "metadata": {},
   "outputs": [],
   "source": []
  }
 ],
 "metadata": {
  "kernelspec": {
   "display_name": "Python 3.7",
   "language": "python",
   "name": "python3"
  },
  "language_info": {
   "codemirror_mode": {
    "name": "ipython",
    "version": 3
   },
   "file_extension": ".py",
   "mimetype": "text/x-python",
   "name": "python",
   "nbconvert_exporter": "python",
   "pygments_lexer": "ipython3",
   "version": "3.7.3"
  }
 },
 "nbformat": 4,
 "nbformat_minor": 2
}
