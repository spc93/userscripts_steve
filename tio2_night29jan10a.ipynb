{
 "cells": [
  {
   "cell_type": "code",
   "execution_count": 1,
   "metadata": {
    "scrolled": true
   },
   "outputs": [
    {
     "name": "stdout",
     "output_type": "stream",
     "text": [
      "=== Importing dlstools package\n"
     ]
    },
    {
     "name": "stderr",
     "output_type": "stream",
     "text": [
      "/dls_sw/apps/scisoftpy/2.7/scisoftpy/_external/tifffile.py:284: UserWarning: ImportError: No module named '_tifffile'. Loading of some compressed images will be very slow. Tifffile.c can be obtained at http://www.lfd.uci.edu/~gohlke/\n",
      "  \"ImportError: No module named '_tifffile'. \"\n",
      "Could not import plotting routines\n",
      "No module named py4j.java_gateway\n"
     ]
    },
    {
     "name": "stdout",
     "output_type": "stream",
     "text": [
      "=== Need to obtain specfilewrapper.py and compatible specfile.so from ERSF PyMCA package in order to load spec files\n"
     ]
    }
   ],
   "source": [
    "datadir='/dls/science/groups/i16/mt0/run1/'\n",
    "\n",
    "import sys\n",
    "sys.path\n",
    "sys.path.append('/dls_sw/apps/scisoftpy/2.7')\n",
    "sys.path.append('/dls_sw/i16/software/python')\n",
    "from matplotlib.pyplot import *\n",
    "%matplotlib nbagg\n",
    "from numpy import *\n",
    "from dlstools import dataloader\n",
    "from dlstools.dataloader import vec2mat\n",
    "from dlstools.quickfit import *\n",
    "from dlstools.dirty_fit import fit\n",
    "\n",
    "d=dataloader.dlsloader(datadir+'%i.dat')\n",
    "p=dataloader.tiffloader(d, lambda obj: datadir+obj.pilatus2m_path_template)"
   ]
  },
  {
   "cell_type": "code",
   "execution_count": 5,
   "metadata": {},
   "outputs": [
    {
     "data": {
      "image/png": "[encoded data removed]",
      "text/plain": [
       "<matplotlib.figure.Figure at 0x7f339a287790>"
      ]
     },
     "metadata": {},
     "output_type": "display_data"
    }
   ],
   "source": [
    "d(126371) # long energy scan after temp dependent dichroism\n",
    "d.plot('Energy','sum')\n",
    "#eta: 10, delta: 20"
   ]
  },
  {
   "cell_type": "code",
   "execution_count": 12,
   "metadata": {},
   "outputs": [
    {
     "name": "stdout",
     "output_type": "stream",
     "text": [
      "#126371  Energy Uenergy DCMenergy beamOK t path maxx maxy maxval sum ic1 rc metadata\n",
      "#126372  Tset Time Ta Tb Tc Td ic1 rc metadata\n",
      "#126373  Tset Ta Tb Tc Td ic1 rc metadata\n",
      "#126374  IDgap Time diode ic1 rc metadata\n",
      "#126375  IDgap Time diode ic1 rc metadata\n",
      "#126376  Energy Uenergy DCMenergy Time diode ic1 rc metadata\n",
      "#126377  Energy Uenergy DCMenergy Time diode ic1 rc metadata\n",
      "#126378  Energy Uenergy DCMenergy Time diode ic1 rc metadata\n",
      "#126379  Energy Uenergy DCMenergy Time diode ic1 rc metadata\n",
      "#126380  Energy Uenergy DCMenergy Time diode ic1 rc metadata\n",
      "#126381  Energy Uenergy DCMenergy t path maxx maxy maxval sum ic1 rc metadata\n",
      "#126382  sample_y Time diode ic1 rc metadata\n",
      "#126383  sample_z diode ic1 rc metadata\n",
      "#126384  sample_z diode ic1 rc metadata\n",
      "#126385  Energy Uenergy DCMenergy Time diode ic1 rc metadata\n",
      "#126386  IDgap Time ic1 rc metadata\n",
      "#126387  IDgap Time ic1 rc metadata\n",
      "#126388  Time ic1_gain ic1 rc metadata\n",
      "#126389  Time ic1_gain ic1 rc metadata\n",
      "#126390  IDgap Time ic1 rc metadata\n",
      "#126391  eta t path maxx maxy maxval sum ic1 rc metadata\n",
      "#126392  eta t path maxx maxy maxval sum ic1 rc metadata\n",
      "#126393  eta t path maxx maxy maxval sum ic1 rc metadata\n",
      "#126394  eta t path maxx maxy maxval sum ic1 rc metadata\n",
      "#126395  eta t path maxx maxy maxval sum ic1 rc metadata\n",
      "#126396  eta t path maxx maxy maxval sum ic1 rc roi2_maxx roi2_maxy roi2_maxval roi2_sum metadata\n",
      "#126397  chi t path maxx maxy maxval sum ic1 rc roi4_maxx roi4_maxy roi4_maxval roi4_sum metadata\n",
      "#126398  chi t path maxx maxy maxval sum ic1 rc roi4_maxx roi4_maxy roi4_maxval roi4_sum metadata\n",
      "#126399  eta t path maxx maxy maxval sum ic1 rc roi2_maxx roi2_maxy roi2_maxval roi2_sum metadata\n",
      "#126400  delta t path maxx maxy maxval sum ic1 rc roi3_maxx roi3_maxy roi3_maxval roi3_sum metadata\n",
      "#126401  kphi t path maxx maxy maxval sum ic1 rc metadata\n",
      "#126402  kphi t path maxx maxy maxval sum ic1 rc metadata\n",
      "#126403  eta t path maxx maxy maxval sum ic1 rc metadata\n",
      "#126404  eta t path maxx maxy maxval sum ic1 rc roi2_maxx roi2_maxy roi2_maxval roi2_sum metadata\n",
      "#126405  chi t path maxx maxy maxval sum ic1 rc roi4_maxx roi4_maxy roi4_maxval roi4_sum metadata\n",
      "#126406  eta t path maxx maxy maxval sum ic1 rc roi2_maxx roi2_maxy roi2_maxval roi2_sum metadata\n",
      "#126407  delta t path maxx maxy maxval sum ic1 rc roi3_maxx roi3_maxy roi3_maxval roi3_sum metadata\n",
      "#126408  psi t path maxx maxy maxval sum ic1 rc metadata\n",
      "#126409  x P100k_threshold time_increment ic1 rc metadata\n",
      "#126410  psi t path maxx maxy maxval sum ic1 rc roi2neg metadata\n",
      "#126411  psi t path maxx maxy maxval sum ic1 rc roi2neg metadata\n",
      "#126412  eta t path maxx maxy maxval sum ic1 rc metadata\n",
      "#126413  eta t path maxx maxy maxval sum ic1 rc metadata\n",
      "#126414  psi t path maxx maxy maxval sum ic1 rc roi2neg metadata\n",
      "#126415  eta t path maxx maxy maxval sum ic1 rc metadata\n",
      "#126416  eta t path maxx maxy maxval sum ic1 rc metadata\n",
      "#126417  psi beamOK t path maxx maxy maxval sum ic1 rc roi2neg metadata\n",
      "#126418  eta beamOK t path maxx maxy maxval sum ic1 rc metadata\n",
      "#126419  eta beamOK t path maxx maxy maxval sum ic1 rc metadata\n",
      "#126420  psi beamOK t path maxx maxy maxval sum ic1 rc roi2neg metadata\n",
      "#126421  eta beamOK t path maxx maxy maxval sum ic1 rc metadata\n",
      "#126422  psi beamOK t path maxx maxy maxval sum ic1 rc roi2neg metadata\n",
      "#126423  psi beamOK t path maxx maxy maxval sum ic1 rc roi2neg metadata\n",
      "#126424  eta beamOK t path maxx maxy maxval sum ic1 rc roi2_maxx roi2_maxy roi2_maxval roi2_sum metadata\n",
      "#126425  eta beamOK t path maxx maxy maxval sum ic1 rc roi2_maxx roi2_maxy roi2_maxval roi2_sum metadata\n",
      "#126426  P100k_threshold Time t path maxx maxy maxval sum ic1 rc metadata\n",
      "#126427  P100k_threshold Time t path maxx maxy maxval sum ic1 rc metadata\n",
      "#126428  psi beamOK t path maxx maxy maxval sum ic1 rc roi2neg metadata\n",
      "#126429  eta beamOK t path maxx maxy maxval sum ic1 rc roi2_maxx roi2_maxy roi2_maxval roi2_sum metadata\n",
      "#126430  eta beamOK t path maxx maxy maxval sum ic1 rc roi2_maxx roi2_maxy roi2_maxval roi2_sum metadata\n",
      "#126431  eta beamOK t path maxx maxy maxval sum ic1 rc roi2_maxx roi2_maxy roi2_maxval roi2_sum metadata\n",
      "#126432  psi beamOK t path maxx maxy maxval sum ic1 rc roi2neg metadata\n",
      "#126433  eta beamOK t path maxx maxy maxval sum ic1 rc roi2_maxx roi2_maxy roi2_maxval roi2_sum metadata\n",
      "#126434  eta beamOK t path maxx maxy maxval sum ic1 rc roi2_maxx roi2_maxy roi2_maxval roi2_sum metadata\n",
      "#126435  eta beamOK t path maxx maxy maxval sum ic1 rc roi2_maxx roi2_maxy roi2_maxval roi2_sum metadata\n",
      "#126436  psi beamOK t path maxx maxy maxval sum ic1 rc roi2neg metadata\n",
      "#126437  eta beamOK t path maxx maxy maxval sum ic1 rc roi2_maxx roi2_maxy roi2_maxval roi2_sum metadata\n",
      "#126438  eta beamOK t path maxx maxy maxval sum ic1 rc roi2_maxx roi2_maxy roi2_maxval roi2_sum metadata\n",
      "#126439  eta beamOK t path maxx maxy maxval sum ic1 rc roi2_maxx roi2_maxy roi2_maxval roi2_sum metadata\n",
      "#126440  psi beamOK t path maxx maxy maxval sum ic1 rc roi2neg metadata\n",
      "#126441  eta beamOK t path maxx maxy maxval sum ic1 rc roi2_maxx roi2_maxy roi2_maxval roi2_sum metadata\n",
      "#126442  eta beamOK t path maxx maxy maxval sum ic1 rc roi2_maxx roi2_maxy roi2_maxval roi2_sum metadata\n",
      "#126443  eta beamOK t path maxx maxy maxval sum ic1 rc roi2_maxx roi2_maxy roi2_maxval roi2_sum metadata\n",
      "#126444  psi beamOK t path maxx maxy maxval sum ic1 rc roi2neg metadata\n",
      "#126445  psi beamOK t path maxx maxy maxval sum ic1 rc roi2neg metadata\n",
      "#126446  eta beamOK t path maxx maxy maxval sum ic1 rc roi2_maxx roi2_maxy roi2_maxval roi2_sum metadata\n",
      "#126447  eta beamOK t path maxx maxy maxval sum ic1 rc roi2_maxx roi2_maxy roi2_maxval roi2_sum metadata\n",
      "#126448  eta beamOK t path maxx maxy maxval sum ic1 rc roi2_maxx roi2_maxy roi2_maxval roi2_sum metadata\n",
      "#126449  psi beamOK t path maxx maxy maxval sum ic1 rc roi2neg metadata\n",
      "#126450  eta beamOK t path maxx maxy maxval sum ic1 rc roi2_maxx roi2_maxy roi2_maxval roi2_sum metadata\n",
      "#126451  eta beamOK t path maxx maxy maxval sum ic1 rc roi2_maxx roi2_maxy roi2_maxval roi2_sum metadata\n",
      "#126452  eta beamOK t path maxx maxy maxval sum ic1 rc roi2_maxx roi2_maxy roi2_maxval roi2_sum metadata\n",
      "#126453  psi beamOK t path maxx maxy maxval sum ic1 rc roi2neg metadata\n",
      "#126454  eta beamOK t path maxx maxy maxval sum ic1 rc roi2_maxx roi2_maxy roi2_maxval roi2_sum metadata\n",
      "#126455  eta beamOK t path maxx maxy maxval sum ic1 rc roi2_maxx roi2_maxy roi2_maxval roi2_sum metadata\n",
      "#126456  eta beamOK t path maxx maxy maxval sum ic1 rc roi2_maxx roi2_maxy roi2_maxval roi2_sum metadata\n",
      "#126457  psi beamOK t path maxx maxy maxval sum ic1 rc roi2neg metadata\n",
      "#126458  eta beamOK t path maxx maxy maxval sum ic1 rc roi2_maxx roi2_maxy roi2_maxval roi2_sum metadata\n",
      "#126459  eta beamOK t path maxx maxy maxval sum ic1 rc roi2_maxx roi2_maxy roi2_maxval roi2_sum metadata\n",
      "#126460  eta beamOK t path maxx maxy maxval sum ic1 rc roi2_maxx roi2_maxy roi2_maxval roi2_sum metadata\n",
      "#126461  psi beamOK t path maxx maxy maxval sum ic1 rc roi2neg metadata\n",
      "#126462  eta beamOK t path maxx maxy maxval sum ic1 rc roi2_maxx roi2_maxy roi2_maxval roi2_sum metadata\n",
      "#126463  eta beamOK t path maxx maxy maxval sum ic1 rc roi2_maxx roi2_maxy roi2_maxval roi2_sum metadata\n",
      "#126464  eta beamOK t path maxx maxy maxval sum ic1 rc roi2_maxx roi2_maxy roi2_maxval roi2_sum metadata\n",
      "#126465  psi beamOK t path maxx maxy maxval sum ic1 rc roi2neg metadata\n",
      "#126466  eta beamOK t path maxx maxy maxval sum ic1 rc roi2_maxx roi2_maxy roi2_maxval roi2_sum metadata\n",
      "#126467  eta beamOK t path maxx maxy maxval sum ic1 rc roi2_maxx roi2_maxy roi2_maxval roi2_sum metadata\n",
      "#126468  eta beamOK t path maxx maxy maxval sum ic1 rc roi2_maxx roi2_maxy roi2_maxval roi2_sum metadata\n",
      "#126469  psi beamOK t path maxx maxy maxval sum ic1 rc roi2neg metadata\n",
      "#126470  eta beamOK t path maxx maxy maxval sum ic1 rc roi2_maxx roi2_maxy roi2_maxval roi2_sum metadata\n",
      "#126471  eta beamOK t path maxx maxy maxval sum ic1 rc roi2_maxx roi2_maxy roi2_maxval roi2_sum metadata\n",
      "#126472  eta beamOK t path maxx maxy maxval sum ic1 rc roi2_maxx roi2_maxy roi2_maxval roi2_sum metadata\n",
      "#126473  psi beamOK t path maxx maxy maxval sum ic1 rc roi2neg metadata\n",
      "#126474  eta beamOK t path maxx maxy maxval sum ic1 rc roi2_maxx roi2_maxy roi2_maxval roi2_sum metadata\n",
      "#126475  eta beamOK t path maxx maxy maxval sum ic1 rc roi2_maxx roi2_maxy roi2_maxval roi2_sum metadata\n",
      "#126476  eta beamOK t path maxx maxy maxval sum ic1 rc roi2_maxx roi2_maxy roi2_maxval roi2_sum metadata\n",
      "#126477  psi beamOK t path maxx maxy maxval sum ic1 rc roi2neg metadata\n",
      "#126478  eta beamOK t path maxx maxy maxval sum ic1 rc roi2_maxx roi2_maxy roi2_maxval roi2_sum metadata\n",
      "#126479  eta beamOK t path maxx maxy maxval sum ic1 rc roi2_maxx roi2_maxy roi2_maxval roi2_sum metadata\n",
      "#126480  eta beamOK t path maxx maxy maxval sum ic1 rc roi2_maxx roi2_maxy roi2_maxval roi2_sum metadata\n"
     ]
    },
    {
     "name": "stdout",
     "output_type": "stream",
     "text": [
      "#126481  psi beamOK t path maxx maxy maxval sum ic1 rc roi2neg metadata\n",
      "#126482  eta beamOK t path maxx maxy maxval sum ic1 rc roi2_maxx roi2_maxy roi2_maxval roi2_sum metadata\n",
      "#126483  eta beamOK t path maxx maxy maxval sum ic1 rc roi2_maxx roi2_maxy roi2_maxval roi2_sum metadata\n",
      "#126484  eta beamOK t path maxx maxy maxval sum ic1 rc roi2_maxx roi2_maxy roi2_maxval roi2_sum metadata\n",
      "#126485  psi beamOK t path maxx maxy maxval sum ic1 rc roi2neg metadata\n",
      "#126486  eta beamOK t path maxx maxy maxval sum ic1 rc roi2_maxx roi2_maxy roi2_maxval roi2_sum metadata\n",
      "#126487  eta beamOK t path maxx maxy maxval sum ic1 rc roi2_maxx roi2_maxy roi2_maxval roi2_sum metadata\n",
      "#126488  eta beamOK t path maxx maxy maxval sum ic1 rc roi2_maxx roi2_maxy roi2_maxval roi2_sum metadata\n",
      "#126489  psi beamOK t path maxx maxy maxval sum ic1 rc roi2neg metadata\n",
      "#126490  eta beamOK t path maxx maxy maxval sum ic1 rc roi2_maxx roi2_maxy roi2_maxval roi2_sum metadata\n",
      "#126491  eta beamOK t path maxx maxy maxval sum ic1 rc roi2_maxx roi2_maxy roi2_maxval roi2_sum metadata\n",
      "#126492  eta beamOK t path maxx maxy maxval sum ic1 rc roi2_maxx roi2_maxy roi2_maxval roi2_sum metadata\n",
      "#126493  psi beamOK t path maxx maxy maxval sum ic1 rc roi2neg metadata\n",
      "#126494  eta beamOK t path maxx maxy maxval sum ic1 rc roi2_maxx roi2_maxy roi2_maxval roi2_sum metadata\n",
      "#126495  eta beamOK t path maxx maxy maxval sum ic1 rc roi2_maxx roi2_maxy roi2_maxval roi2_sum metadata\n",
      "#126496  eta beamOK t path maxx maxy maxval sum ic1 rc roi2_maxx roi2_maxy roi2_maxval roi2_sum metadata\n",
      "#126497  psi beamOK t path maxx maxy maxval sum ic1 rc roi2neg metadata\n",
      "#126498  eta beamOK t path maxx maxy maxval sum ic1 rc roi2_maxx roi2_maxy roi2_maxval roi2_sum metadata\n",
      "#126499  eta beamOK t path maxx maxy maxval sum ic1 rc roi2_maxx roi2_maxy roi2_maxval roi2_sum metadata\n"
     ]
    }
   ],
   "source": [
    "for n in range(126371,126500):\n",
    "    print d(n)\n",
    "    "
   ]
  },
  {
   "cell_type": "code",
   "execution_count": 3,
   "metadata": {},
   "outputs": [
    {
     "data": {
      "text/plain": [
       "9.67244656192323"
      ]
     },
     "execution_count": 3,
     "metadata": {},
     "output_type": "execute_result"
    }
   ],
   "source": [
    "d.eta"
   ]
  },
  {
   "cell_type": "code",
   "execution_count": 4,
   "metadata": {},
   "outputs": [
    {
     "data": {
      "text/plain": [
       "20.029930251760007"
      ]
     },
     "execution_count": 4,
     "metadata": {},
     "output_type": "execute_result"
    }
   ],
   "source": [
    "d.delta"
   ]
  },
  {
   "cell_type": "code",
   "execution_count": 14,
   "metadata": {},
   "outputs": [
    {
     "data": {
      "text/plain": [
       "array([7.695, 7.696, 7.697, ..., 7.728, 7.729, 7.73 ])"
      ]
     },
     "execution_count": 14,
     "metadata": {},
     "output_type": "execute_result"
    }
   ],
   "source": [
    "d.DCMenergy"
   ]
  },
  {
   "cell_type": "code",
   "execution_count": null,
   "metadata": {},
   "outputs": [],
   "source": []
  }
 ],
 "metadata": {
  "kernelspec": {
   "display_name": "Python 3.8 [Conda DLS]",
   "language": "python",
   "name": "conda-env-Conda_DLS-python3.8"
  },
  "language_info": {
   "codemirror_mode": {
    "name": "ipython",
    "version": 3
   },
   "file_extension": ".py",
   "mimetype": "text/x-python",
   "name": "python",
   "nbconvert_exporter": "python",
   "pygments_lexer": "ipython3",
   "version": "3.8.0"
  }
 },
 "nbformat": 4,
 "nbformat_minor": 2
}
