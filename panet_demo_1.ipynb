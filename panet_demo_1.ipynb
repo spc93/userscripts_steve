{
 "cells": [
  {
   "cell_type": "code",
   "execution_count": 7,
   "metadata": {},
   "outputs": [],
   "source": [
    "#https://github.com/ncbo/ncbo_rest_sample_code/tree/master/python/python3\n",
    "api_key = \"0280ec35-b8e0-4ac5-ab24-ded510c9ed0f\"\n",
    "\n",
    "import urllib.request, urllib.error, urllib.parse\n",
    "import json\n",
    "import os\n",
    "from pprint import pprint"
   ]
  },
  {
   "cell_type": "code",
   "execution_count": 8,
   "metadata": {},
   "outputs": [
    {
     "name": "stdout",
     "output_type": "stream",
     "text": [
      "ExPaNDS:VUVphotonProbe VUVphotonProbe\n",
      "ExPaNDS:characterizeExcitations characterizeExcitations\n",
      "ExPaNDS:hotNeutronProbe hotNeutronProbe\n",
      "ExPaNDS:XrayEmissionTechnique XrayEmissionTechnique\n",
      "ExPaNDS:obtainAtomicStructure obtainAtomicStructure\n",
      "ExPaNDS:versusEnergy versusEnergy\n",
      "ExPaNDS:obtainAtomicTensorProperties obtainAtomicTensorProperties\n",
      "ExPaNDS:atomicScaleDiffraction2DSurfaceFilm atomicScaleDiffraction2DSurfaceFilm\n",
      "ExPaNDS:muonProbe muonProbe\n",
      "ExPaNDS:obtainElectronicDensityOfStates obtainElectronicDensityOfStates\n",
      "ExPaNDS:reflectionTechnique reflectionTechnique\n",
      "ExPaNDS:highMomentumTransferScattering highMomentumTransferScattering\n",
      "ExPaNDS:obtainMagneticVector obtainMagneticVector\n",
      "ExPaNDS:characterizeElectronicExcitations characterizeElectronicExcitations\n",
      "ExPaNDS:timeDependentStudy timeDependentStudy\n",
      "ExPaNDS:obtain3DspatialMap obtain3DspatialMap\n",
      "ExPaNDS:absorptionTechnique absorptionTechnique\n",
      "ExPaNDS:obtainHighResolutionSpatialMap obtainHighResolutionSpatialMap\n",
      "ExPaNDS:technique technique\n",
      "ExPaNDS:obtainSpatialMap obtainSpatialMap\n",
      "ExPaNDS:versusPhotonCirclarPolarization versusPhotonCirclarPolarization\n",
      "ExPaNDS:obtainLocalCoordination obtainLocalCoordination\n",
      "ExPaNDS:gammaRayEmissionTechique gammaRayEmissionTechique\n",
      "ExPaNDS:functionalDependence functionalDependence\n",
      "ExPaNDS:coldNeutronProbe coldNeutronProbe\n",
      "ExPaNDS:emissionTechnique emissionTechnique\n",
      "ExPaNDS:incoherentScattering incoherentScattering\n",
      "ExPaNDS:atomicScaleDiffraction atomicScaleDiffraction\n",
      "ExPaNDS:versusIncidentEnergy versusIncidentEnergy\n",
      "ExPaNDS:visiblePhotonProbe visiblePhotonProbe\n",
      "ExPaNDS:inelasticScattering inelasticScattering\n",
      "ExPaNDS:experimentalProbe experimentalProbe\n",
      "ExPaNDS:versusSampleElectricField versusSampleElectricField\n",
      "http://purl.obolibrary.org/obo/CHMO_0000940 vector piezoresponse force microscopy\n",
      "ExPaNDS:versusPolarization versusPolarization\n",
      "ExPaNDS:microScaleDiffraction microScaleDiffraction\n",
      "ExPaNDS:versusSampleState versusSampleState\n",
      "ExPaNDS:versusPhotonLinearPolarization versusPhotonLinearPolarization\n",
      "ExPaNDS:atomicCoreExcitation atomicCoreExcitation\n",
      "ExPaNDS:scatteringTechnique scatteringTechnique\n",
      "ExPaNDS:versusTime versusTime\n",
      "ExPaNDS:UVphotonProbe UVphotonProbe\n",
      "ExPaNDS:characterizeMagneticExcitations characterizeMagneticExcitations\n",
      "ExPaNDS:neutronProbe neutronProbe\n",
      "ExPaNDS:coherentScattering coherentScattering\n",
      "ExPaNDS:obtainElectronicGroundStateProperties obtainElectronicGroundStateProperties\n",
      "ExPaNDS:obtainElectronicDensityOfUnoccupiedStates obtainElectronicDensityOfUnoccupiedStates\n",
      "http://purl.obolibrary.org/obo/CHMO_0000114 piezoresponse force microscopy\n",
      "ExPaNDS:obtainElectronicBandStructure obtainElectronicBandStructure\n",
      "ExPaNDS:powderCrystalDiffraction powderCrystalDiffraction\n"
     ]
    }
   ],
   "source": [
    "### look at PANET ontology - all classes\n",
    "\n",
    "API_KEY = api_key\n",
    "\n",
    "def get_json(url):\n",
    "    opener = urllib.request.build_opener()\n",
    "    opener.addheaders = [('Authorization', 'apikey token=' + API_KEY)]\n",
    "    return json.loads(opener.open(url).read())\n",
    "\n",
    "# Get the available resources - PANET classes\n",
    "REST_URL = 'http://data.bioontology.org/ontologies/PANET/classes'\n",
    "class_resources = get_json(REST_URL + \"/\")\n",
    "#pprint(class_resources)\n",
    "\n",
    "for i in range(len(class_resources['collection'])):\n",
    "    print(class_resources['collection'][i]['@id'], class_resources['collection'][i]['prefLabel'])\n",
    "\n"
   ]
  },
  {
   "cell_type": "code",
   "execution_count": null,
   "metadata": {},
   "outputs": [],
   "source": []
  },
  {
   "cell_type": "code",
   "execution_count": 3,
   "metadata": {},
   "outputs": [
    {
     "name": "stdout",
     "output_type": "stream",
     "text": [
      "Label: inelasticScattering \t Subclass label: incoherentScattering\n"
     ]
    }
   ],
   "source": [
    "### look at PANET ontology - find subclass labels\n",
    "\n",
    "API_KEY = api_key\n",
    "\n",
    "def get_json(url):\n",
    "    opener = urllib.request.build_opener()\n",
    "    opener.addheaders = [('Authorization', 'apikey token=' + API_KEY)]\n",
    "    return json.loads(opener.open(url).read())\n",
    "\n",
    "# Get the available resources - PANET classes\n",
    "REST_URL = 'http://data.bioontology.org/ontologies/PANET/classes'\n",
    "class_resources = get_json(REST_URL + \"/\")\n",
    "\n",
    "\n",
    "def showParentLabels(label):\n",
    "    for i in range(len(class_resources['collection'])):\n",
    "\n",
    "        if label in class_resources['collection'][i]['prefLabel']:\n",
    "            class_url = class_resources['collection'][i]['links']['self']\n",
    "            url_for_parents = get_json(class_url + \"/\")['links']['parents']\n",
    "            res_for_parents = get_json(url_for_parents + \"/\")\n",
    "            for j in range(len(res_for_parents)):\n",
    "                url = res_for_parents[j]['links']['self']\n",
    "                res = get_json(url + \"/\")\n",
    "                print('Label: %s \\t Superclass label: %s' % (label, res['prefLabel']))\n",
    "    \n",
    "showParentLabels('inelasticScattering')\n"
   ]
  },
  {
   "cell_type": "code",
   "execution_count": 4,
   "metadata": {},
   "outputs": [
    {
     "name": "stdout",
     "output_type": "stream",
     "text": [
      "Label: inelasticScattering \t Subclass label: incoherentScattering\n",
      "Label: incoherentScattering \t Subclass label: scatteringTechnique\n",
      "Label: scatteringTechnique \t Subclass label: experimentalPhysicalProcess\n"
     ]
    }
   ],
   "source": [
    "showParentLabels('inelasticScattering')\n",
    "showParentLabels('incoherentScattering')\n",
    "showParentLabels('scatteringTechnique')\n",
    "showParentLabels('experimentalPhysicalProcess')\n",
    "\n"
   ]
  },
  {
   "cell_type": "code",
   "execution_count": null,
   "metadata": {},
   "outputs": [],
   "source": [
    "showParentLabels('xraySingleCrystalDiffraction')"
   ]
  },
  {
   "cell_type": "code",
   "execution_count": null,
   "metadata": {},
   "outputs": [],
   "source": [
    "# experimentalPhysicalProcess has no parents ???\n",
    "# xraySingleCrystalDiffraction has no parents ???\n"
   ]
  }
 ],
 "metadata": {
  "kernelspec": {
   "display_name": "Python 3.8 [Conda DLS]",
   "language": "python",
   "name": "conda-env-Conda_DLS-python3.8"
  },
  "language_info": {
   "codemirror_mode": {
    "name": "ipython",
    "version": 3
   },
   "file_extension": ".py",
   "mimetype": "text/x-python",
   "name": "python",
   "nbconvert_exporter": "python",
   "pygments_lexer": "ipython3",
   "version": "3.8.0"
  }
 },
 "nbformat": 4,
 "nbformat_minor": 2
}
