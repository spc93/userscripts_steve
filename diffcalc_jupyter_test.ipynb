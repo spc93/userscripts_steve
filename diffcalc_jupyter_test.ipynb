{
 "cells": [
  {
   "cell_type": "raw",
   "metadata": {},
   "source": [
    "##To do\n",
    "look at cuts/limits\n",
    "test horizontal scattering"
   ]
  },
  {
   "cell_type": "code",
   "execution_count": 1,
   "metadata": {},
   "outputs": [
    {
     "name": "stdout",
     "output_type": "stream",
     "text": [
      "WARNING: There is no record of the last ub calculation used\n"
     ]
    }
   ],
   "source": [
    "from os import sys\n",
    "#sys.path.append('/home/spc93/diffcalc-master/diffcalc')\n",
    "#sys.path.append('/home/spc93/diffcalc-master/startup')\n",
    "#sys.path.append('/home/spc93/diffcalc-master/diffcmd')\n",
    "sys.path.append('/dls_sw/apps/diffcalc/proto/diffcalc')\n",
    "#sys.path.append('/dls_sw/apps/diffcalc/proto/diffcalc/diffcalc')\n",
    "sys.path.append('/dls_sw/apps/diffcalc/proto/diffcalc/startup')\n",
    "sys.path.append('/dls_sw/apps/diffcalc/proto/diffcalc/diffcmd')\n",
    "from i16 import * #in startup\n",
    "import ipythonmagic"
   ]
  },
  {
   "cell_type": "code",
   "execution_count": 2,
   "metadata": {},
   "outputs": [],
   "source": [
    "newub('tmp')\n",
    "setlat('tmp', 3.5, 3.6, 12.0, 90, 90, 90)"
   ]
  },
  {
   "cell_type": "code",
   "execution_count": 3,
   "metadata": {},
   "outputs": [],
   "source": [
    "wl(1.0)"
   ]
  },
  {
   "cell_type": "code",
   "execution_count": 4,
   "metadata": {},
   "outputs": [
    {
     "name": "stdout",
     "output_type": "stream",
     "text": [
      "sixc:     phi:  0.0000 chi:  90.0000 eta:  50.0000 mu:  0.0000 delta:  100.0000 gam:  0.0000 \n"
     ]
    }
   ],
   "source": [
    "pos(sixc,[0,90,50,0,100,0])\n",
    "addref([2,2,0])"
   ]
  },
  {
   "cell_type": "code",
   "execution_count": 5,
   "metadata": {},
   "outputs": [
    {
     "name": "stdout",
     "output_type": "stream",
     "text": [
      "sixc:     phi:  0.0000 chi:  45.0000 eta:  30.0000 mu:  0.0000 delta:  40.0000 gam:  0.0000 \n",
      "Calculating UB matrix.\n"
     ]
    }
   ],
   "source": [
    "pos(sixc,[0,45,30,0,40,0])\n",
    "addref([1,0,0])"
   ]
  },
  {
   "cell_type": "code",
   "execution_count": 6,
   "metadata": {},
   "outputs": [
    {
     "name": "stdout",
     "output_type": "stream",
     "text": [
      "!   2 more constraints required\n",
      "    mu   : 0.0000\n",
      "!   1 more constraint required\n",
      "    gam  : 0.0000\n",
      "    mu   : 0.0000\n",
      "    gam  : 0.0000\n",
      "    a_eq_b\n",
      "    mu   : 0.0000\n",
      "\u001b[1m    DET   \u001b[0m \u001b[1m    REF   \u001b[0m \u001b[1m    SAMP\u001b[0m\n",
      "    ------     ------     ------\n",
      "    delta  --> a_eq_b --> mu\n",
      "--> gam        alpha      eta\n",
      "    qaz        beta       chi\n",
      "    naz        psi        phi\n",
      "                          mu_is_gam\n",
      "\n",
      "    gam  : 0.0000\n",
      "    a_eq_b\n",
      "    mu   : 0.0000\n",
      "\n",
      "    Type 'help con' for instructions\n"
     ]
    }
   ],
   "source": [
    "con(mu,0)\n",
    "con(gam,0)\n",
    "#con(phi)\n",
    "con(a_eq_b)\n",
    "con()"
   ]
  },
  {
   "cell_type": "code",
   "execution_count": 7,
   "metadata": {},
   "outputs": [],
   "source": [
    "hkl([1,2,0])"
   ]
  },
  {
   "cell_type": "code",
   "execution_count": 8,
   "metadata": {},
   "outputs": [
    {
     "data": {
      "text/plain": [
       " phi: -165.9981"
      ]
     },
     "execution_count": 8,
     "metadata": {},
     "output_type": "execute_result"
    }
   ],
   "source": [
    "phi"
   ]
  },
  {
   "cell_type": "code",
   "execution_count": 9,
   "metadata": {},
   "outputs": [
    {
     "name": "stdout",
     "output_type": "stream",
     "text": [
      "!   1 more constraint required\n",
      "    gam  : 0.0000\n",
      "    mu   : 0.0000\n",
      "    gam  : 0.0000\n",
      "    mu   : 0.0000\n",
      "    phi  : -165.9981\n"
     ]
    }
   ],
   "source": [
    "uncon(a_eq_b)\n",
    "con(phi)"
   ]
  },
  {
   "cell_type": "code",
   "execution_count": 10,
   "metadata": {},
   "outputs": [],
   "source": [
    "hkl([1,2,0])"
   ]
  },
  {
   "cell_type": "code",
   "execution_count": 11,
   "metadata": {},
   "outputs": [
    {
     "data": {
      "text/plain": [
       "sixc:\n",
       "    phi : -165.9981   \n",
       "    chi :   71.4092   \n",
       "    eta :   18.2015   \n",
       "     mu :    0.0000   \n",
       "  delta :   36.4030   \n",
       "    gam :    0.0000   "
      ]
     },
     "execution_count": 11,
     "metadata": {},
     "output_type": "execute_result"
    }
   ],
   "source": [
    "sixc"
   ]
  },
  {
   "cell_type": "code",
   "execution_count": 12,
   "metadata": {},
   "outputs": [],
   "source": [
    "phi(0)\n",
    "hkl([1,2,0])"
   ]
  },
  {
   "cell_type": "code",
   "execution_count": 13,
   "metadata": {},
   "outputs": [
    {
     "data": {
      "text/plain": [
       "sixc:\n",
       "    phi : -165.9981   \n",
       "    chi :   71.4092   \n",
       "    eta :   18.2015   \n",
       "     mu :    0.0000   \n",
       "  delta :   36.4030   \n",
       "    gam :    0.0000   "
      ]
     },
     "execution_count": 13,
     "metadata": {},
     "output_type": "execute_result"
    }
   ],
   "source": [
    "sixc"
   ]
  },
  {
   "cell_type": "code",
   "execution_count": 14,
   "metadata": {},
   "outputs": [
    {
     "name": "stdout",
     "output_type": "stream",
     "text": [
      "    gam  : 0.0000\n",
      "    mu   : 0.0000\n",
      "    phi  : -160.0000\n"
     ]
    }
   ],
   "source": [
    "con(phi,-160)"
   ]
  },
  {
   "cell_type": "code",
   "execution_count": 15,
   "metadata": {},
   "outputs": [],
   "source": [
    "hkl([1,2,0])"
   ]
  },
  {
   "cell_type": "code",
   "execution_count": 16,
   "metadata": {},
   "outputs": [
    {
     "data": {
      "text/plain": [
       "sixc:\n",
       "    phi : -160.0000   \n",
       "    chi :   71.5040   \n",
       "    eta :   16.2924   \n",
       "     mu :    0.0000   \n",
       "  delta :   36.4030   \n",
       "    gam :    0.0000   "
      ]
     },
     "execution_count": 16,
     "metadata": {},
     "output_type": "execute_result"
    }
   ],
   "source": [
    "sixc"
   ]
  },
  {
   "cell_type": "code",
   "execution_count": null,
   "metadata": {},
   "outputs": [],
   "source": []
  }
 ],
 "metadata": {
  "kernelspec": {
   "display_name": "Python 2",
   "language": "python",
   "name": "python2"
  },
  "language_info": {
   "codemirror_mode": {
    "name": "ipython",
    "version": 2
   },
   "file_extension": ".py",
   "mimetype": "text/x-python",
   "name": "python",
   "nbconvert_exporter": "python",
   "pygments_lexer": "ipython2",
   "version": "2.7.15"
  }
 },
 "nbformat": 4,
 "nbformat_minor": 2
}
