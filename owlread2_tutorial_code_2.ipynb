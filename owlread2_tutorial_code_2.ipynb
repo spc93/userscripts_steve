{
 "cells": [
  {
   "cell_type": "code",
   "execution_count": 16,
   "metadata": {},
   "outputs": [
    {
     "name": "stdout",
     "output_type": "stream",
     "text": [
      "4.2\n"
     ]
    }
   ],
   "source": [
    "# this seems to work except my_drug has_for_cost has done into annotations rather than data property assertions\n",
    "# try a new version of owlready2 - no change\n",
    "\n",
    "#pip install owlready2 --upgrade\n",
    "#Successfully installed owlready2-0.26\n",
    "\n",
    "from owlready2 import *\n",
    "\n",
    "#onto = get_ontology(\"http://test.org/onto.owl\")\n",
    "onto = get_ontology('file:///home/spc93/ontology/owlready2_test.owl')\n",
    "\n",
    "with onto:\n",
    "\n",
    "    class Drug(Thing):\n",
    "        pass\n",
    "    \n",
    "    #spc mod: create new class and inherit later\n",
    "    class newDataProperty(DataProperty, FunctionalProperty):\n",
    "        domain    = [Drug]\n",
    "        range     = [float]\n",
    "    \n",
    "   \n",
    "    class Ingredient(Thing):\n",
    "        pass\n",
    "\n",
    "    #class has_for_ingredient(ObjectProperty):\n",
    "    #    domain    = [Drug]\n",
    "    #    range     = [Ingredient]\n",
    "        \n",
    "   \n",
    "\n",
    "    class has_for_cost(newDataProperty): # Each drug has a single cost\n",
    "        range     = [float]\n",
    "\n",
    "    import types\n",
    "    #types.new_class('has_for_cost', (DataProperty,), Drug >> float)\n",
    "    #AttributeError: 'int' object has no attribute 'namespace'\n",
    "    cls = types.new_class('has_for_cost2', (DataProperty,))\n",
    "    cls.domain = [Drug]\n",
    "\n",
    "\n",
    "my_drug = Drug(\"my_drug\")\n",
    "\n",
    "acetaminophen = Ingredient(\"acetaminophen\")\n",
    "\n",
    "my_drug.has_for_ingredient = [acetaminophen]        \n",
    "      \n",
    "        \n",
    "my_drug.has_for_cost = 4.2\n",
    "\n",
    "onto.save()\n",
    "\n",
    "print(my_drug.has_for_cost)\n",
    "\n",
    "\n"
   ]
  },
  {
   "cell_type": "code",
   "execution_count": 2,
   "metadata": {},
   "outputs": [
    {
     "data": {
      "text/plain": [
       "'/home/spc93/.local/lib/python3.8/site-packages/owlready2/__init__.py'"
      ]
     },
     "execution_count": 2,
     "metadata": {},
     "output_type": "execute_result"
    }
   ],
   "source": [
    "owlready2.__file__"
   ]
  },
  {
   "cell_type": "code",
   "execution_count": 3,
   "metadata": {},
   "outputs": [
    {
     "name": "stdout",
     "output_type": "stream",
     "text": [
      "Defaulting to user installation because normal site-packages is not writeable\n",
      "Requirement already up-to-date: owlready2 in /home/spc93/.local/lib/python3.8/site-packages (0.26)\n",
      "Note: you may need to restart the kernel to use updated packages.\n"
     ]
    }
   ],
   "source": [
    "pip install owlready2 --upgrade"
   ]
  },
  {
   "cell_type": "code",
   "execution_count": 4,
   "metadata": {},
   "outputs": [],
   "source": [
    "import types"
   ]
  },
  {
   "cell_type": "code",
   "execution_count": 6,
   "metadata": {},
   "outputs": [
    {
     "ename": "NameError",
     "evalue": "name 'abc' is not defined",
     "output_type": "error",
     "traceback": [
      "\u001b[0;31m---------------------------------------------------------------------------\u001b[0m",
      "\u001b[0;31mNameError\u001b[0m                                 Traceback (most recent call last)",
      "\u001b[0;32m<ipython-input-6-7ebed776e72c>\u001b[0m in \u001b[0;36m<module>\u001b[0;34m\u001b[0m\n\u001b[0;32m----> 1\u001b[0;31m \u001b[0mtypes\u001b[0m\u001b[0;34m.\u001b[0m\u001b[0mnew_class\u001b[0m\u001b[0;34m(\u001b[0m\u001b[0mabc\u001b[0m\u001b[0;34m)\u001b[0m\u001b[0;34m\u001b[0m\u001b[0;34m\u001b[0m\u001b[0m\n\u001b[0m",
      "\u001b[0;31mNameError\u001b[0m: name 'abc' is not defined"
     ]
    }
   ],
   "source": [
    "kwds = { \"namespace\" : my_ontology }"
   ]
  },
  {
   "cell_type": "code",
   "execution_count": null,
   "metadata": {},
   "outputs": [],
   "source": []
  }
 ],
 "metadata": {
  "kernelspec": {
   "display_name": "Python 3.8 [Conda DLS]",
   "language": "python",
   "name": "conda-env-Conda_DLS-python3.8"
  },
  "language_info": {
   "codemirror_mode": {
    "name": "ipython",
    "version": 3
   },
   "file_extension": ".py",
   "mimetype": "text/x-python",
   "name": "python",
   "nbconvert_exporter": "python",
   "pygments_lexer": "ipython3",
   "version": "3.8.0"
  }
 },
 "nbformat": 4,
 "nbformat_minor": 2
}
