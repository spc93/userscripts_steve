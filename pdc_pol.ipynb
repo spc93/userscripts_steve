{
 "cells": [
  {
   "cell_type": "code",
   "execution_count": null,
   "metadata": {},
   "outputs": [],
   "source": [
    "#code from pdc_pol.py"
   ]
  },
  {
   "cell_type": "code",
   "execution_count": 3,
   "metadata": {},
   "outputs": [],
   "source": [
    "from numpy import *"
   ]
  },
  {
   "cell_type": "code",
   "execution_count": 8,
   "metadata": {},
   "outputs": [
    {
     "name": "stdout",
     "output_type": "stream",
     "text": [
      "pol(p)\tpol(s)\tpol(i)\t  J  \n",
      "------\t------\t------\t-----\n",
      "sigma\tsigma\tsigma\t0.00\n",
      "sigma\tsigma\tpi\t0.00\n",
      "sigma\tpi\tsigma\t0.71\n",
      "sigma\tpi\tpi\t0.00\n",
      "pi\tsigma\tsigma\t0.00\n",
      "pi\tsigma\tpi\t0.00\n",
      "pi\tpi\tsigma\t0.00\n",
      "pi\tpi\tpi\t0.00\n",
      "\n",
      "Total intensity (sigma): 0.499\n",
      "Total intensity (   pi): 0.000\n"
     ]
    }
   ],
   "source": [
    "#From Schwartz & Harris\n",
    "\n",
    "#assume XS scales with J <><><><><><> Not at all clear...\n",
    "\n",
    "#0=sigma\n",
    "#1=pi\n",
    "\n",
    "theta=45*pi/180\n",
    "Ei, Es, Ep = 0.999, 0.001, 1.0\n",
    "#Ei, Es, Ep = 0.5, 0.5, 1.0\n",
    "\n",
    "polstr=['sigma','pi']\n",
    "ct=cos(theta)\n",
    "c2t=cos(2*theta)\n",
    "gep, ges, gei=[0,0], [0,0], [0,0]\n",
    "epei, eies, epes=[[0,0],[0,0]], [[0,0],[0,0]], [[0,0],[0,0]]\n",
    "J=[[[0,0],[0,0]], [[0,0],[0,0]]]\n",
    "I=[0,0]\n",
    "\n",
    "#mostly approximate, assuming ks and ki almost parallel\n",
    "\n",
    "gep[0]=0\n",
    "gep[1]=-ct\n",
    "ges[0]=0\n",
    "ges[1]=ct\n",
    "gei[0]=0\n",
    "gei[1]=ct\n",
    "\n",
    "epei[0][0]=1\n",
    "epei[1][1]=c2t\n",
    "epei[0][1]=0\n",
    "epei[1][0]=0\n",
    "\n",
    "epes=epei\n",
    "\n",
    "eies[0][0]=1\n",
    "eies[1][1]=1\n",
    "eies[0][1]=0\n",
    "eies[1][0]=0\n",
    "\n",
    "print '%s\\t%s\\t%s\\t%s' % ('pol(p)','pol(s)','pol(i)', '  J  ')\n",
    "print '%s\\t%s\\t%s\\t%s' % ('------','------','------', '-----')\n",
    "\n",
    "for p in range(2):\n",
    "    for s in range(2):\n",
    "        for i in range(2):\n",
    "                J[p][s][i]=Ei*Ep*ges[s]*epei[p][i] - Es*Ei*gep[p]*eies[i][s] + Es*Ep*gei[i]*epes[p][s]\n",
    "                print '%s\\t%s\\t%s\\t%.2f' % (polstr[p],polstr[s],polstr[i], J[p][s][i])\n",
    "\n",
    "print\n",
    "\n",
    "for p in range(2):\n",
    "    for s in range(2):\n",
    "        for i in range(2):\n",
    "            I[p]+=(J[p][s][i])**2\n",
    "\n",
    "    print 'Total intensity (%5s): %.3f' % (polstr[p], I[p])"
   ]
  },
  {
   "cell_type": "code",
   "execution_count": null,
   "metadata": {},
   "outputs": [],
   "source": []
  }
 ],
 "metadata": {
  "kernelspec": {
   "display_name": "Python 2",
   "language": "python",
   "name": "python2"
  },
  "language_info": {
   "codemirror_mode": {
    "name": "ipython",
    "version": 2
   },
   "file_extension": ".py",
   "mimetype": "text/x-python",
   "name": "python",
   "nbconvert_exporter": "python",
   "pygments_lexer": "ipython2",
   "version": "2.7.15"
  }
 },
 "nbformat": 4,
 "nbformat_minor": 2
}
