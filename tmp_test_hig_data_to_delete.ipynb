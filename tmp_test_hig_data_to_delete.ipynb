{
 "cells": [
  {
   "cell_type": "code",
   "execution_count": 1,
   "metadata": {},
   "outputs": [
    {
     "name": "stdout",
     "output_type": "stream",
     "text": [
      "=== Importing dlstools package\n"
     ]
    }
   ],
   "source": [
    "import sys\n",
    "sys.path.append('/dls_sw/apps/scisoftpy/2.7')\n",
    "sys.path.append('/dls_sw/i16/software/python')\n",
    "from dlstools import *\n",
    "from dlstools.pdnx import *\n",
    "from matplotlib.pyplot import *\n",
    "from dlstools.quickfit import *\n",
    "from dlstools.dirty_fit import fit\n",
    "from mpl_toolkits.mplot3d import Axes3D \n",
    "%matplotlib inline\n",
    "\n",
    "#p='/dls/i16/data/2019/mm21716-1/%i.nxs'\n",
    "p='/dls/staging/dls/i16/data/2019/mm21716-1/%i.nxs'\n",
    "\n",
    "plot_folder = '/dls/science/users/spc93/plots/'\n",
    "plot_type = 'png'"
   ]
  },
  {
   "cell_type": "markdown",
   "metadata": {},
   "source": [
    "## Proposal MM21716\n",
    "\n",
    "Visit Id MM21716-1\n",
    "\n",
    "Title Quadrupolar X-ray Magnetic Circular Dichroism using Superchiral X-rays\n",
    "Summary Superchiral light can retrieve electronic properties of matter that are invisible with traditional, classical spectroscopies. By generating precisely sculpted optical beams, coupling to chiral properties can be enhanced dramatically [1]. Our studies show that the x-ray standing-wave field in diffraction, with circularly polarized light, is an x-ray manifestation of superchiral light [2]. Notably, the corresponding spectroscopy is found to be intimately related to Borrmann spectroscopy, where we have demonstrated very strong enhancement of quadrupole absorption (E2-E2) [3, 4]. Here, we aim to demonstrate an enhancement of E2-E2 contributions to x-ray magnetic circular dichroism (XMCD) in crystals of YIG and HoIG. A successful experiment will yield valuable data to assist the theoretical interpretation of (hard) x-ray XMCD, and provide a stimulating link to classical optics.\n",
    "Start Date 2019-09-15\n",
    "End Date 2019-09-17\n",
    "\n",
    "METATABS.SAMPLE.NAME Holmium iron garnet\n",
    "METATABS.SAMPLE.NAME Yttrium iron garnet\n",
    "\n",
    "Investigator Prof Steve Collins\n",
    "Investigator Dr Jun Kokubun\n",
    "Investigator Prof Stephen Lovesey\n",
    "Investigator Mr Joel Collins"
   ]
  },
  {
   "cell_type": "raw",
   "metadata": {},
   "source": [
    "YIG a=12.376\n",
    "Look for 008 at 8 keV\n",
    "L3=8.071\n",
    "\n"
   ]
  },
  {
   "cell_type": "markdown",
   "metadata": {},
   "source": [
    "saturation field ????????????????????? \n",
    "\n",
    "go to ho l3 8.071\n",
    "\n",
    "energy.si()\n",
    "\n",
    "basic alignment (base_y, z)\n",
    "\n",
    "orientate crystal (008 only - trialub)\n",
    "\n",
    "fluo spectrum\n",
    "\n",
    "standing wave contrast at fluo peak 0016\n",
    "\n",
    " \n",
    "\n",
    "get lam/3 through:\n",
    "\n",
    "0. scan x 1 1 1\n",
    "\n",
    "1. go to 2.7 keV energy.monogap=14 harmonic 3 (single move)\n",
    "\n",
    "2. check beam and align (move qsys table up by increase in base_z value)\n",
    "\n",
    "3. go to 8.071 with 'pos dcmharmonic 3'\n",
    "\n",
    "4. check and align beam\n",
    "\n",
    "5. record reduction in flux fom si 111\n",
    "\n",
    "6. check HoIG 008\n",
    "\n",
    "7. check wave contrast at fluo peak 0016: larger?\n",
    "\n",
    "8. do wide scan to check it's the right peak (night?)\n",
    "\n",
    " \n",
    "\n",
    "decide on Si 111 or Si 333 and set up\n",
    "\n",
    " \n",
    "\n",
    "find phase plate crystal position\n",
    "\n",
    "find phase plate crystal angle\n",
    "\n",
    " \n",
    "\n",
    "scan over sample surface to find best part (night?)\n",
    "\n",
    " \n",
    "\n",
    "re-align and redo UB for eta=90\n",
    "\n",
    " \n",
    "\n",
    "mount magnet and power supply\n",
    "\n",
    " \n",
    "\n",
    "set up V-F and struck for ion chamber\n",
    "\n",
    " \n",
    "\n",
    "set pil3 threshold to remove Fe K fluo (Fe K 7.112 Fe Ka = 6.4; Ho La1=6.72 - try 6.5 keV)\n",
    "\n",
    "test xmcd measurement (flipper or 2d scan?)\n",
    "\n",
    " \n",
    "\n",
    "check synchronized - connect flipper ttl to fast shutter - should see 100% intensity change\n",
    "\n",
    " \n",
    "\n",
    "set up cooler/epics\n",
    "\n",
    "measure xmcd at low temp\n",
    "\n",
    "measure vs temp\n",
    "\n",
    " \n",
    "\n",
    "low temp: measure vs l (hkl l value) across standing wave...\n",
    "\n",
    " "
   ]
  },
  {
   "cell_type": "code",
   "execution_count": 2,
   "metadata": {},
   "outputs": [
    {
     "name": "stdout",
     "output_type": "stream",
     "text": [
      "=== Error loading file /dls/staging/dls/i16/data/2019/mm21716-1/789517.nxs\n"
     ]
    },
    {
     "ename": "RecursionError",
     "evalue": "maximum recursion depth exceeded while calling a Python object",
     "output_type": "error",
     "traceback": [
      "\u001b[0;31m---------------------------------------------------------------------------\u001b[0m",
      "\u001b[0;31mRecursionError\u001b[0m                            Traceback (most recent call last)",
      "\u001b[0;32m<ipython-input-2-0c0fd177ea7d>\u001b[0m in \u001b[0;36m<module>\u001b[0;34m\u001b[0m\n\u001b[1;32m      1\u001b[0m \u001b[0mn\u001b[0m\u001b[0;34m=\u001b[0m\u001b[0mpdnx\u001b[0m\u001b[0;34m(\u001b[0m\u001b[0mp\u001b[0m \u001b[0;34m%\u001b[0m \u001b[0;36m789517\u001b[0m\u001b[0;34m)\u001b[0m \u001b[0;31m#008\u001b[0m\u001b[0;34m\u001b[0m\u001b[0;34m\u001b[0m\u001b[0m\n\u001b[0;32m----> 2\u001b[0;31m \u001b[0mn\u001b[0m\u001b[0;34m.\u001b[0m\u001b[0mnx\u001b[0m\u001b[0;34m.\u001b[0m\u001b[0mplot\u001b[0m\u001b[0;34m(\u001b[0m\u001b[0;34m)\u001b[0m\u001b[0;34m\u001b[0m\u001b[0;34m\u001b[0m\u001b[0m\n\u001b[0m\u001b[1;32m      3\u001b[0m \u001b[0mn\u001b[0m\u001b[0;34m=\u001b[0m\u001b[0mpdnx\u001b[0m\u001b[0;34m(\u001b[0m\u001b[0mp\u001b[0m \u001b[0;34m%\u001b[0m \u001b[0;36m789520\u001b[0m\u001b[0;34m)\u001b[0m \u001b[0;31m#0012\u001b[0m\u001b[0;34m\u001b[0m\u001b[0;34m\u001b[0m\u001b[0m\n\u001b[1;32m      4\u001b[0m \u001b[0mn\u001b[0m\u001b[0;34m.\u001b[0m\u001b[0mnx\u001b[0m\u001b[0;34m.\u001b[0m\u001b[0mplot\u001b[0m\u001b[0;34m(\u001b[0m\u001b[0;34m)\u001b[0m\u001b[0;34m\u001b[0m\u001b[0;34m\u001b[0m\u001b[0m\n",
      "\u001b[0;32m/dls_sw/apps/python/anaconda/4.6.14/64/envs/python3.7/lib/python3.7/site-packages/pandas/core/generic.py\u001b[0m in \u001b[0;36m__getattr__\u001b[0;34m(self, name)\u001b[0m\n\u001b[1;32m   5063\u001b[0m             \u001b[0;32mreturn\u001b[0m \u001b[0mobject\u001b[0m\u001b[0;34m.\u001b[0m\u001b[0m__getattribute__\u001b[0m\u001b[0;34m(\u001b[0m\u001b[0mself\u001b[0m\u001b[0;34m,\u001b[0m \u001b[0mname\u001b[0m\u001b[0;34m)\u001b[0m\u001b[0;34m\u001b[0m\u001b[0;34m\u001b[0m\u001b[0m\n\u001b[1;32m   5064\u001b[0m         \u001b[0;32melse\u001b[0m\u001b[0;34m:\u001b[0m\u001b[0;34m\u001b[0m\u001b[0;34m\u001b[0m\u001b[0m\n\u001b[0;32m-> 5065\u001b[0;31m             \u001b[0;32mif\u001b[0m \u001b[0mself\u001b[0m\u001b[0;34m.\u001b[0m\u001b[0m_info_axis\u001b[0m\u001b[0;34m.\u001b[0m\u001b[0m_can_hold_identifiers_and_holds_name\u001b[0m\u001b[0;34m(\u001b[0m\u001b[0mname\u001b[0m\u001b[0;34m)\u001b[0m\u001b[0;34m:\u001b[0m\u001b[0;34m\u001b[0m\u001b[0;34m\u001b[0m\u001b[0m\n\u001b[0m\u001b[1;32m   5066\u001b[0m                 \u001b[0;32mreturn\u001b[0m \u001b[0mself\u001b[0m\u001b[0;34m[\u001b[0m\u001b[0mname\u001b[0m\u001b[0;34m]\u001b[0m\u001b[0;34m\u001b[0m\u001b[0;34m\u001b[0m\u001b[0m\n\u001b[1;32m   5067\u001b[0m             \u001b[0;32mreturn\u001b[0m \u001b[0mobject\u001b[0m\u001b[0;34m.\u001b[0m\u001b[0m__getattribute__\u001b[0m\u001b[0;34m(\u001b[0m\u001b[0mself\u001b[0m\u001b[0;34m,\u001b[0m \u001b[0mname\u001b[0m\u001b[0;34m)\u001b[0m\u001b[0;34m\u001b[0m\u001b[0;34m\u001b[0m\u001b[0m\n",
      "\u001b[0;32m/dls_sw/apps/python/anaconda/4.6.14/64/envs/python3.7/lib/python3.7/site-packages/pandas/core/generic.py\u001b[0m in \u001b[0;36m__getattr__\u001b[0;34m(self, name)\u001b[0m\n\u001b[1;32m   5063\u001b[0m             \u001b[0;32mreturn\u001b[0m \u001b[0mobject\u001b[0m\u001b[0;34m.\u001b[0m\u001b[0m__getattribute__\u001b[0m\u001b[0;34m(\u001b[0m\u001b[0mself\u001b[0m\u001b[0;34m,\u001b[0m \u001b[0mname\u001b[0m\u001b[0;34m)\u001b[0m\u001b[0;34m\u001b[0m\u001b[0;34m\u001b[0m\u001b[0m\n\u001b[1;32m   5064\u001b[0m         \u001b[0;32melse\u001b[0m\u001b[0;34m:\u001b[0m\u001b[0;34m\u001b[0m\u001b[0;34m\u001b[0m\u001b[0m\n\u001b[0;32m-> 5065\u001b[0;31m             \u001b[0;32mif\u001b[0m \u001b[0mself\u001b[0m\u001b[0;34m.\u001b[0m\u001b[0m_info_axis\u001b[0m\u001b[0;34m.\u001b[0m\u001b[0m_can_hold_identifiers_and_holds_name\u001b[0m\u001b[0;34m(\u001b[0m\u001b[0mname\u001b[0m\u001b[0;34m)\u001b[0m\u001b[0;34m:\u001b[0m\u001b[0;34m\u001b[0m\u001b[0;34m\u001b[0m\u001b[0m\n\u001b[0m\u001b[1;32m   5066\u001b[0m                 \u001b[0;32mreturn\u001b[0m \u001b[0mself\u001b[0m\u001b[0;34m[\u001b[0m\u001b[0mname\u001b[0m\u001b[0;34m]\u001b[0m\u001b[0;34m\u001b[0m\u001b[0;34m\u001b[0m\u001b[0m\n\u001b[1;32m   5067\u001b[0m             \u001b[0;32mreturn\u001b[0m \u001b[0mobject\u001b[0m\u001b[0;34m.\u001b[0m\u001b[0m__getattribute__\u001b[0m\u001b[0;34m(\u001b[0m\u001b[0mself\u001b[0m\u001b[0;34m,\u001b[0m \u001b[0mname\u001b[0m\u001b[0;34m)\u001b[0m\u001b[0;34m\u001b[0m\u001b[0;34m\u001b[0m\u001b[0m\n",
      "... last 2 frames repeated, from the frame below ...\n",
      "\u001b[0;32m/dls_sw/apps/python/anaconda/4.6.14/64/envs/python3.7/lib/python3.7/site-packages/pandas/core/generic.py\u001b[0m in \u001b[0;36m__getattr__\u001b[0;34m(self, name)\u001b[0m\n\u001b[1;32m   5063\u001b[0m             \u001b[0;32mreturn\u001b[0m \u001b[0mobject\u001b[0m\u001b[0;34m.\u001b[0m\u001b[0m__getattribute__\u001b[0m\u001b[0;34m(\u001b[0m\u001b[0mself\u001b[0m\u001b[0;34m,\u001b[0m \u001b[0mname\u001b[0m\u001b[0;34m)\u001b[0m\u001b[0;34m\u001b[0m\u001b[0;34m\u001b[0m\u001b[0m\n\u001b[1;32m   5064\u001b[0m         \u001b[0;32melse\u001b[0m\u001b[0;34m:\u001b[0m\u001b[0;34m\u001b[0m\u001b[0;34m\u001b[0m\u001b[0m\n\u001b[0;32m-> 5065\u001b[0;31m             \u001b[0;32mif\u001b[0m \u001b[0mself\u001b[0m\u001b[0;34m.\u001b[0m\u001b[0m_info_axis\u001b[0m\u001b[0;34m.\u001b[0m\u001b[0m_can_hold_identifiers_and_holds_name\u001b[0m\u001b[0;34m(\u001b[0m\u001b[0mname\u001b[0m\u001b[0;34m)\u001b[0m\u001b[0;34m:\u001b[0m\u001b[0;34m\u001b[0m\u001b[0;34m\u001b[0m\u001b[0m\n\u001b[0m\u001b[1;32m   5066\u001b[0m                 \u001b[0;32mreturn\u001b[0m \u001b[0mself\u001b[0m\u001b[0;34m[\u001b[0m\u001b[0mname\u001b[0m\u001b[0;34m]\u001b[0m\u001b[0;34m\u001b[0m\u001b[0;34m\u001b[0m\u001b[0m\n\u001b[1;32m   5067\u001b[0m             \u001b[0;32mreturn\u001b[0m \u001b[0mobject\u001b[0m\u001b[0;34m.\u001b[0m\u001b[0m__getattribute__\u001b[0m\u001b[0;34m(\u001b[0m\u001b[0mself\u001b[0m\u001b[0;34m,\u001b[0m \u001b[0mname\u001b[0m\u001b[0;34m)\u001b[0m\u001b[0;34m\u001b[0m\u001b[0;34m\u001b[0m\u001b[0m\n",
      "\u001b[0;31mRecursionError\u001b[0m: maximum recursion depth exceeded while calling a Python object"
     ]
    }
   ],
   "source": [
    "n=pdnx(p % 789517) #008\n",
    "n.nx.plot()\n",
    "n=pdnx(p % 789520) #0012\n",
    "n.nx.plot()"
   ]
  },
  {
   "cell_type": "code",
   "execution_count": null,
   "metadata": {},
   "outputs": [],
   "source": [
    "figure()\n",
    "for scan in [789521, 789522, 789524, 789525]:\n",
    "    n=pdnx(p % scan)\n",
    "    plot(n.energy2, n['sum'])\n",
    "grid(1)\n",
    "title('Ho fluo pil3_thresh = 4.0, 6.5, 6.6, 7.0')\n",
    "#use 6.5 keV"
   ]
  },
  {
   "cell_type": "code",
   "execution_count": null,
   "metadata": {},
   "outputs": [],
   "source": [
    "figure()\n",
    "n=pdnx(p % 789526)\n",
    "n['norm']=n['sum']/n.ic1monitor\n",
    "plot(n.energy2, n.norm)\n",
    "grid(1)\n",
    "\n"
   ]
  },
  {
   "cell_type": "code",
   "execution_count": null,
   "metadata": {},
   "outputs": [],
   "source": [
    "figure()\n",
    "for scan in [789552, 789569]:\n",
    "#for scan in [789569]:\n",
    "    n=pdnx(p % scan)\n",
    "    plot(n.eta, n['sum'])\n",
    "grid(1)\n",
    "yscale('log')\n",
    "title('0012 lam/3 vs lam')\n"
   ]
  },
  {
   "cell_type": "code",
   "execution_count": null,
   "metadata": {},
   "outputs": [],
   "source": [
    "figure()\n",
    "for scan in [789530, 789572]:\n",
    "    n=pdnx(p % scan)\n",
    "    plot(n.eta, n['sum']/max(n['sum']))\n",
    "grid(1)\n",
    "xlabel('Eta (deg.)')\n",
    "ylabel('Normalized fluoresence')\n",
    "title('0016 standing wave lam/3 vs lam')\n",
    "plot_name = 'standing_wave_lam_lam_3'\n",
    "savefig(plot_folder+plot_name+'.'+plot_type, bbox_inches='tight')"
   ]
  },
  {
   "cell_type": "code",
   "execution_count": null,
   "metadata": {},
   "outputs": [],
   "source": [
    "figure()\n",
    "for scan in range(789579, 789629+1):\n",
    "    n=pdnx(p % scan)\n",
    "    n['energy']=float(n.nx.entry1.sample.beam.incident_energy)\n",
    "    gca(projection='3d').plot(n.energy, n.h, n['sum'])\n",
    "#xlabel('sy'); ylabel('eta'); title('eta scans vs sy')\n",
    "#n.nx.entry1.instrument.energy.DCMenergy"
   ]
  },
  {
   "cell_type": "code",
   "execution_count": null,
   "metadata": {},
   "outputs": [],
   "source": [
    "figure()\n",
    "for scan in range(789579, 789629+1):\n",
    "    n=pdnx(p % scan)\n",
    "    n['energy']=float(n.nx.entry1.sample.beam.incident_energy)\n",
    "    norm_cts = (n['sum']/n.ic1monitor)/max(n['sum']/n.ic1monitor)\n",
    "    gca(projection='3d').plot(n.energy, n.h, n['sum']/max(n['sum']))\n",
    "gca().set_zlim(0,1)\n",
    "#xlabel('sy'); ylabel('eta'); title('eta scans vs sy')\n",
    "#n.nx.entry1.instrument.energy.DCMenergy"
   ]
  },
  {
   "cell_type": "code",
   "execution_count": null,
   "metadata": {},
   "outputs": [],
   "source": [
    "figure()\n",
    "for scan in range(789646, 789661+1):\n",
    "    n=pdnx(p % scan)\n",
    "    n['sz']=float(n.nx.entry1.before_scan.positions.sz)\n",
    "    #norm_cts = (n['sum']/n.ic1monitor)/max(n['sum']/n.ic1monitor)\n",
    "    gca(projection='3d').plot(n.sz, n.eta, n['sum'])\n",
    "#gca().set_zlim(0,1)\n",
    "xlabel('sz'); ylabel('eta'); title('eta scans vs sz')"
   ]
  },
  {
   "cell_type": "code",
   "execution_count": null,
   "metadata": {},
   "outputs": [],
   "source": [
    "def norm01(x):\n",
    "    return  (x-max(x)) / (max(x)-min(x)) + 1\n",
    "\n",
    "figure()\n",
    "n=pdnx(p % 789686) \n",
    "plot(n.eta, norm01(n['sum']),label='bragg 8.2 keV')\n",
    "n=pdnx(p % 789687) \n",
    "plot(n.eta, norm01(n['sum']),label='fluo  do 20')\n",
    "n=pdnx(p % 789688) \n",
    "plot(n.eta, norm01(n['sum']),label='fluo do 40')\n",
    "n=pdnx(p % 789689)\n",
    "plot(n.eta, norm01(n['sum']),label='repeat')\n",
    "n=pdnx(p % 789694) \n",
    "plot(n.eta, norm01(n['sum']),label='fluo do 40 thresh = 4')\n",
    "n=pdnx(p % 789695) \n",
    "plot(n.eta, norm01(n['sum']),label='repeat')\n",
    "n=pdnx(p % 789696) \n",
    "plot(n.eta, norm01(n['sum']),label='repeat with Pb shielding')\n",
    "grid(1); legend()\n",
    "\n"
   ]
  },
  {
   "cell_type": "code",
   "execution_count": null,
   "metadata": {},
   "outputs": [],
   "source": [
    "def norm01(x):\n",
    "    return  (x-max(x)) / (max(x)-min(x)) + 1\n",
    "\n",
    "figure()\n",
    "n=pdnx(p % 789703) \n",
    "plot(n.eta, norm01(n['sum']),label='Bragg')\n",
    "n=pdnx(p % 789704)\n",
    "#do = 40\n",
    "plot(n.eta, norm01(n['sum']),label='Fluorescence')\n",
    "\n",
    "grid(1); legend()\n",
    "title('Standing wave and Bragg peak (0,0,16) 8.2 keV')\n",
    "xlabel('Eta (deg.)')\n",
    "ylabel('Intensity (rescaled)')\n",
    "plot_name = 'standing_wave_and_bragg_8p2keV'\n",
    "savefig(plot_folder+plot_name+'.'+plot_type, bbox_inches='tight')"
   ]
  },
  {
   "cell_type": "code",
   "execution_count": null,
   "metadata": {
    "scrolled": true
   },
   "outputs": [],
   "source": [
    "def norm01(x):\n",
    "    return  (x-max(x)) / (max(x)-min(x)) + 1\n",
    "\n",
    "def norm1(x):\n",
    "    return  x / max(x)\n",
    "\n",
    "figure()\n",
    "#for scan in range(789704,789709+1):\n",
    "for scan in [789704, 789705, 789707, 789708]:   \n",
    "    n=pdnx(p % scan)\n",
    "    plot(n.eta-np.mean(n.eta), norm1(n['sum']),label='%.3f keV' % n.nx.entry1.sample.beam.incident_energy)\n",
    "legend(); title('Renormalized standing wave vs energy')\n",
    "xlabel('theta (relative)'); ylabel('Fluorescence'); grid(1)\n",
    "plot_name = 'standing_wave_vs_energy'\n",
    "savefig(plot_folder+plot_name+'.'+plot_type, bbox_inches='tight')"
   ]
  },
  {
   "cell_type": "code",
   "execution_count": null,
   "metadata": {},
   "outputs": [],
   "source": [
    "#print n.nx.tree\n",
    "#n.find('incident_energy')\n",
    "print('%.3f keV' % n.nx.entry1.sample.beam.incident_energy)"
   ]
  },
  {
   "cell_type": "code",
   "execution_count": null,
   "metadata": {},
   "outputs": [],
   "source": [
    "def norm01(x):\n",
    "    return  (x-max(x)) / (max(x)-min(x)) + 1\n",
    "\n",
    "figure()\n",
    "n=pdnx(p % 789718) \n",
    "plot(n.ppp_offset, norm01(n.C1))\n",
    "plot(n.ppp_offset, norm01(n.C2))\n",
    "plot(n.ppp_offset, norm01(n.C3))\n",
    "plot(n.ppp_offset, norm01(n.C4))\n",
    "grid(1)\n",
    "title(n.nx.entry1.title)"
   ]
  },
  {
   "cell_type": "code",
   "execution_count": null,
   "metadata": {
    "scrolled": true
   },
   "outputs": [],
   "source": [
    "figure()\n",
    "n=pdnx(p % 789722) \n",
    "plot(n.k, n['sum'], label='8.075 keV linear')\n",
    "n=pdnx(p % 789723) \n",
    "plot(n.k, n['sum'], label='8.075 keV circular')\n",
    "#title(n.nx.entry1.title)\n",
    "title('Standing wave contrast for circular and linear polarization')\n",
    "grid(1); legend()\n",
    "xlabel('Eta (deg.)')\n",
    "ylabel('Fluorescence intensity')\n",
    "plot_name = 'standing_wave_circ_lin'\n",
    "savefig(plot_folder+plot_name+'.'+plot_type, bbox_inches='tight')"
   ]
  },
  {
   "cell_type": "code",
   "execution_count": null,
   "metadata": {},
   "outputs": [],
   "source": [
    "n.find('title')"
   ]
  },
  {
   "cell_type": "code",
   "execution_count": null,
   "metadata": {},
   "outputs": [],
   "source": [
    "figure()\n",
    "for scan in range(789722, 789801+1, 2):\n",
    "    n=pdnx(p % scan)\n",
    "    n['energy']=float(n.nx.entry1.sample.beam.incident_energy)\n",
    "    norm_cts = (n['sum']/n.ic1monitor)/max(n['sum']/n.ic1monitor)\n",
    "    #gca(projection='3d').plot(n.energy,n['sum']/n.ic1monitor)\n",
    "    gca(projection='3d').plot(n.energy, n.k, n['sum']/max(n['sum']))\n",
    "    \n",
    "gca().set_zlim(.8,1)\n",
    "#xlabel('sy'); ylabel('eta'); title('eta scans vs sy')\n",
    "#n.nx.entry1.instrument.energy.DCMenergy"
   ]
  },
  {
   "cell_type": "code",
   "execution_count": null,
   "metadata": {},
   "outputs": [],
   "source": [
    "def norm01(x):\n",
    "    return  (x-max(x)) / (max(x)-min(x)) + 1\n",
    "\n",
    "figure()\n",
    "n=pdnx(p % 789845) \n",
    "plot(n.ppp_offset, norm01(n.C1))\n",
    "plot(n.ppp_offset, norm01(n.C2))\n",
    "plot(n.ppp_offset, norm01(n.C3))\n",
    "plot(n.ppp_offset, norm01(n.C4))\n",
    "grid(1)\n",
    "title(n.nx.entry1.title)"
   ]
  },
  {
   "cell_type": "code",
   "execution_count": null,
   "metadata": {},
   "outputs": [],
   "source": [
    "#logbook p -5V = +1.5 A = 0.54 T\n",
    "#B ~ 0.54/5 * V\n",
    "\n",
    "figure()\n",
    "n=pdnx(p % 789846) \n",
    "plot(n.magvolts, n.fracdiff,'o-')\n",
    "print(n.nx.entry1.title)\n",
    "f1 = n.fracdiff\n",
    "n=pdnx(p % 789857)\n",
    "plot(n.magvolts, n.fracdiff,'o-')\n",
    "print(n.nx.entry1.title)\n",
    "f2 = n.fracdiff\n",
    "xlabel('MagV')\n",
    "ylabel('FracDiff')\n",
    "grid(1)\n",
    "\n",
    "B, Fracdiff = [], []\n",
    "for i in range(len(f1)):\n",
    "    if abs(f1[i] - f2[i]) < 0.0005: #ignore data points that are very different\n",
    "        B += [n.magvolts[i] * 0.54/5]\n",
    "        Fracdiff += [(f1[i] + f2[i])/2]\n",
    "figure()\n",
    "plot(B, Fracdiff,'o-')\n",
    "title('Fractional intensity change vs magnetic field amplitide')\n",
    "xlabel('Field (T)')\n",
    "ylabel('FracDiff')\n",
    "grid(1)\n",
    "\n",
    "plot_name = 'B_dep'\n",
    "savefig(plot_folder+plot_name+'.'+plot_type, bbox_inches='tight')\n"
   ]
  },
  {
   "cell_type": "code",
   "execution_count": null,
   "metadata": {},
   "outputs": [],
   "source": [
    "print(n.find('Ta'))\n",
    "print(n.find('en'))\n",
    "\n"
   ]
  },
  {
   "cell_type": "code",
   "execution_count": null,
   "metadata": {},
   "outputs": [],
   "source": [
    "#%matplotlib inline\n",
    "#%matplotlib nbagg\n",
    "figure()\n",
    "n=pdnx(p % 789859) \n",
    "plot(n.Ta, n.fracdiff,'o')\n",
    "grid(1)\n",
    "xlabel('T(K)', FontSize=14); ylabel('XMCD fractional difference', FontSize=14); ylim([-.0012, 0.0008])\n",
    "title('Ho XMCD temperature dependence at L3 resonance')\n",
    "\n",
    "plot_name = 'tcomp'\n",
    "savefig(plot_folder+plot_name+'.'+plot_type, bbox_inches='tight')\n"
   ]
  },
  {
   "cell_type": "code",
   "execution_count": null,
   "metadata": {},
   "outputs": [],
   "source": [
    "print(n.find('en'))\n",
    "#print(n.nx.tree)"
   ]
  },
  {
   "cell_type": "code",
   "execution_count": null,
   "metadata": {},
   "outputs": [],
   "source": [
    "n"
   ]
  },
  {
   "cell_type": "code",
   "execution_count": null,
   "metadata": {},
   "outputs": [],
   "source": [
    "n.plot('Tset', 'Ta')"
   ]
  },
  {
   "cell_type": "code",
   "execution_count": null,
   "metadata": {},
   "outputs": [],
   "source": [
    "def norm01(x):\n",
    "    return  (x-max(x)) / (max(x)-min(x)) + 1\n",
    "\n",
    "figure()\n",
    "n=pdnx(p % 789868) \n",
    "plot(n.ppp_offset, norm01(n.C1))\n",
    "plot(n.ppp_offset, norm01(n.C2))\n",
    "plot(n.ppp_offset, norm01(n.C3))\n",
    "plot(n.ppp_offset, norm01(n.C4))\n",
    "grid(1)\n",
    "title(n.nx.entry1.title)\n",
    "title('Mystery diamond reflection A')"
   ]
  },
  {
   "cell_type": "code",
   "execution_count": null,
   "metadata": {},
   "outputs": [],
   "source": [
    "def norm01(x):\n",
    "    return  (x-max(x)) / (max(x)-min(x)) + 1\n",
    "\n",
    "figure()\n",
    "n=pdnx(p % 789873) \n",
    "plot(n.ppp_offset, norm01(n.C1))\n",
    "plot(n.ppp_offset, norm01(n.C2))\n",
    "plot(n.ppp_offset, norm01(n.C3))\n",
    "plot(n.ppp_offset, norm01(n.C4))\n",
    "grid(1)\n",
    "title(n.nx.entry1.title)\n",
    "title('Diamond reflection B cal 8.12 keV')"
   ]
  },
  {
   "cell_type": "code",
   "execution_count": null,
   "metadata": {},
   "outputs": [],
   "source": [
    "def norm01(x):\n",
    "    return  (x-max(x)) / (max(x)-min(x)) + 1\n",
    "\n",
    "figure()\n",
    "\n",
    "plot(n.ppp_offset, norm01(n.C1))\n",
    "plot(n.ppp_offset, norm01(n.C2))\n",
    "plot(n.ppp_offset, norm01(n.C3))\n",
    "plot(n.ppp_offset, norm01(n.C4))\n",
    "grid(1)\n",
    "title(n.nx.entry1.title)\n",
    "title('Diamond reflection B cal 8.12 keV')"
   ]
  },
  {
   "cell_type": "code",
   "execution_count": null,
   "metadata": {},
   "outputs": [],
   "source": [
    "n=pdnx(p % 789816)\n",
    "#subplot(2,1,1)\n",
    "figure()\n",
    "plot(n['DCMenergy'],n['sum']); grid(1); xlabel('DCMenergy'); ylabel('sum')\n",
    "n['Frac_Ho'] = (n['sum']-min(n['sum']))/n['sum']\n",
    "#subplot(2,1,2)\n",
    "figure()\n",
    "plot(n['DCMenergy'],n['Frac_Ho']); grid(1); xlabel('DCMenergy'); ylabel('Frac_Ho');title('Fraction of signal from Ho L3 fluorescence')\n",
    "plot_name = 'FracHoL3'\n",
    "savefig(plot_folder+plot_name+'.'+plot_type, bbox_inches='tight')"
   ]
  },
  {
   "cell_type": "code",
   "execution_count": null,
   "metadata": {},
   "outputs": [],
   "source": [
    ".033/.15"
   ]
  },
  {
   "cell_type": "code",
   "execution_count": null,
   "metadata": {},
   "outputs": [],
   "source": [
    "figure()\n",
    "\n",
    "for scan in [789888]+list(range(789891,789908)):\n",
    "    n=pdnx(p % scan)\n",
    "    print(n.ppp_offset[0], n.ppp_offset[0]>0)\n",
    "    if n.ppp_offset[0] > 0:\n",
    "        plot(n.energy2, n.fracdiff,'ro')\n",
    "    else:\n",
    "        plot(n.energy2, n.fracdiff,'ko')\n",
    "\n",
    "\n",
    "n=pdnx(p % 789526)\n",
    "n['norm']=n['sum']/n.ic1monitor/1e8\n",
    "plot(n.energy2, n.norm)\n",
    "    \n",
    "        \n",
    "grid(1)\n",
    "xlabel('Energy (keV)'); ylabel('FracDiff'); ylim([-.002, 0.002])\n",
    "title('Ho L3 XMXD')\n",
    "xlim([8.047, 8.102])\n",
    "ylim([-0.001, 0.0025 ])\n",
    "plot_name = 'XMCD'\n",
    "savefig(plot_folder+plot_name+'.'+plot_type, bbox_inches='tight')"
   ]
  },
  {
   "cell_type": "code",
   "execution_count": null,
   "metadata": {},
   "outputs": [],
   "source": [
    "print(n.find('Ta'))\n",
    "#print(n.nx.tree)\n",
    "n = pdnx(p % 789891)\n",
    "n"
   ]
  },
  {
   "cell_type": "code",
   "execution_count": null,
   "metadata": {},
   "outputs": [],
   "source": [
    "\n",
    "#check some raw images to see if the xmcd is really small\n",
    "\n",
    "#for scan in [789888]+range(789891,789908):\n",
    "#p='/dls/i16/data/2019/mm21716-1/%i.nxs'\n",
    "#/dls/i16/data/2019/mm21716-1/snapped-data/pilatus3_100k\n",
    "\n",
    "n=pdnx(p % 789888)\n",
    "n\n",
    "print(n.nx.entry1.before_scan.mrwolf.tree)\n",
    "#find first tiff after this time\n",
    "#load tiffs\n",
    "\n",
    "\n",
    "import sys\n",
    "sys.path.append('/dls_sw/i16/software/python')\n",
    "sys.path.append('/dls_sw/apps/scisoftpy/2.7')\n",
    "from dlstools.pdnx import *\n",
    "from matplotlib.pyplot import *\n",
    "from dlstools.quickfit import *\n",
    "#%matplotlib notebook \n",
    "#datadir='/dls/i16/data/2019/mt18003-4/'\n",
    "\n",
    "datadir='/dls/i16/data/2019/mm21716-1/snapped-data/pilatus3_100k/%i.tif'\n",
    "\n",
    "from dlstools import dataloader\n",
    "from dlstools.dataloader import vec2mat\n",
    "#d=dataloader.dlsloader(datadir+'%i.dat')\n",
    "#pil=dataloader.tiffloader(d, lambda obj: datadir+obj.pilatus3_100k_path_template)\n",
    "pil=dataloader.tiffloader(datadir)\n",
    "\n"
   ]
  },
  {
   "cell_type": "raw",
   "metadata": {},
   "source": [
    "x = range(64217, 67217)\n",
    "sdat = []\n",
    "for imno in x:\n",
    "    sdat += [pil(imno).image_01.sum()]\n",
    "\n",
    "figure()\n",
    "plot(x, sdat)\n",
    "\n",
    "\n",
    "#xmcd half way up white line (~max xmcd)\n",
    "figure()\n",
    "errorbar(x, sdat, yerr=np.sqrt(sdat)); xlim([64853, 64870]); ylim([1.856e8, 1.864e8])\n",
    "\n",
    "#xmcd is small. Oscillations have large systematic errors of same order as xmcd. much larger than statistical errors."
   ]
  },
  {
   "cell_type": "code",
   "execution_count": null,
   "metadata": {},
   "outputs": [],
   "source": []
  },
  {
   "cell_type": "code",
   "execution_count": null,
   "metadata": {},
   "outputs": [],
   "source": []
  }
 ],
 "metadata": {
  "kernelspec": {
   "display_name": "Python 3.7 [Conda DLS]",
   "language": "python",
   "name": "conda-env-Conda_DLS-python3.7"
  },
  "language_info": {
   "codemirror_mode": {
    "name": "ipython",
    "version": 3
   },
   "file_extension": ".py",
   "mimetype": "text/x-python",
   "name": "python",
   "nbconvert_exporter": "python",
   "pygments_lexer": "ipython3",
   "version": "3.7.3"
  }
 },
 "nbformat": 4,
 "nbformat_minor": 2
}
