{
 "cells": [
  {
   "cell_type": "code",
   "execution_count": 4,
   "metadata": {},
   "outputs": [
    {
     "name": "stdout",
     "output_type": "stream",
     "text": [
      "\n",
      "Crystal properties\n",
      "\n",
      "                    CIF file:  /home/spc93/spc_cifs/mnsi_icsd_673224.cif\n",
      "                     Lattice:  4.560 4.560 4.560 90.00 90.00 90.00\n",
      "                   All sites:  Mn1, Si1\n",
      "               Site selected:  Mn1\n",
      "                 Site vector:  0.137 0.137 0.137\n",
      "       No. of spacegroup ops:  12\n",
      "      No. of sym ops at site:  3\n",
      " No. of equiv. sites in cell:  4\n",
      "   No. of pg ops for crystal:  12\n",
      "\n",
      "Tensor properties\n",
      "\n",
      "             Required parity:  Even\n",
      "          Required time sym.:  Even\n",
      "                         hkl:  [2.0, 2.0, 2.0]\n",
      "                Site allowed:  Yes\n",
      "   Structure factor for site:  -0.01+-3.87i\n",
      "          Spacegroup allowed:  Yes\n",
      "              Tensor allowed:  Yes\n",
      "                      Parity:  Either\n",
      "                        Time:  Either\n",
      "                          PT:  Either\n",
      "\n",
      "Tensor components\n",
      "\n",
      "         Crystal (spherical):   [-0.+0.j  0.+0.j -0.+0.j -0.+0.j -0.+0.j] \n",
      "            Atom (spherical):   [ 0.5-0.5j  1.0+0.j   0.0+0.j   0.0-1.j  -0.5+0.5j] \n",
      "  Struct. factor (spherical):   [ 0.5-0.5j  1.0-0.j  -0.0+0.j  -0.0-1.j  -0.5+0.5j] \n",
      "\n",
      "Crystal (Cartesian):\n",
      "\n",
      "[[ 0.+0.j  0.+0.j  0.+0.j]\n",
      " [ 0.+0.j  0.+0.j -0.+0.j]\n",
      " [ 0.+0.j -0.+0.j -0.+0.j]] \n",
      "\n",
      "Atom (Cartesian):\n",
      "\n",
      "[[ 0.000+0.j  0.197+0.j  0.197+0.j]\n",
      " [ 0.197+0.j  0.000+0.j  0.197+0.j]\n",
      " [ 0.197+0.j  0.197+0.j  0.000+0.j]] \n",
      "\n",
      "Struct. factor (Cartesian):\n",
      "\n",
      "[[-0.-0.j  1.+0.j  1.-0.j]\n",
      " [ 1.+0.j -0.-0.j  1.-0.j]\n",
      " [ 1.-0.j  1.-0.j  0.-0.j]] \n",
      "\n"
     ]
    },
    {
     "data": {
      "image/png": "[encoded data removed]",
      "text/plain": [
       "<matplotlib.figure.Figure at 0x7f472bac2ad0>"
      ]
     },
     "metadata": {},
     "output_type": "display_data"
    }
   ],
   "source": [
    "import TensorScatteringClass as ten\n",
    "import numpy as np\n",
    "\n",
    "#t=ten.TensorScatteringClass(CIFfile='/home/spc93/spc_cifs/nchem.2848-s6.cif', Site='Cu1');\n",
    "t=ten.TensorScatteringClass(CIFfile='/home/spc93/spc_cifs/mnsi_icsd_673224.cif', Site='Mn1');\n",
    "\n",
    "t.PlotIntensityInPolarizationChannels('E1E1', lam=1, hkl=np.array([2,2,2]), hkln=np.array([1,0,0]), K=2, Time=1, Parity=1, mk=None, lk=None, sk=None, sigmapi='sigma')\n",
    "t.print_tensors()"
   ]
  },
  {
   "cell_type": "code",
   "execution_count": 7,
   "metadata": {},
   "outputs": [],
   "source": [
    "import numpy as np\n",
    "import iotbx.cif\n",
    "def loadcif(ciffile,energy):\n",
    "    wavelength=12.3984187/energy\n",
    "    d_min_val = (wavelength/(2*np.sin(np.radians(180)/2)))\n",
    "    cf = iotbx.cif.reader(file_path=ciffile).model()\n",
    "    cif_block = cf.values()[0]\n",
    "    c = iotbx.cif.reader(file_path = ciffile).build_crystal_structures().values()[0]\n",
    "    s = c.scatterers()\n",
    "    for _s in s:\n",
    "        _s.scattering_type = _s.scattering_type.replace('0+', '')\n",
    "    sg=c.crystal_symmetry().space_group()\n",
    "    c=c.expand_to_p1(append_number_to_labels=False, sites_mod_positive=True)\n",
    "    lattice=list(c.crystal_symmetry().unit_cell().parameters())\n",
    "    sf = c.structure_factors(True,algorithm='direct',d_min=wavelength/2).f_calc()\n",
    "    sfc = list(sf.data())\n",
    "    reflist = list(sf.indices())\n",
    "    SF=abs(np.array(sfc))**2\n",
    "    return SF, np.array(reflist), lattice, c, np.array(sfc)"
   ]
  },
  {
   "cell_type": "code",
   "execution_count": 12,
   "metadata": {},
   "outputs": [],
   "source": [
    "SF, reflist, lattice, c, sfc=loadcif('/home/spc93/spc_cifs/mnsi_icsd_673224.cif', 5.5)"
   ]
  },
  {
   "cell_type": "code",
   "execution_count": 27,
   "metadata": {},
   "outputs": [
    {
     "data": {
      "text/plain": [
       "array([[ -3.00000000e+00,  -2.00000000e+00,   1.00000000e+00,\n",
       "          3.15678282e+02],\n",
       "       [  3.00000000e+00,   2.00000000e+00,  -1.00000000e+00,\n",
       "          3.15678282e+02],\n",
       "       [ -3.00000000e+00,  -1.00000000e+00,   1.00000000e+00,\n",
       "          7.88174822e+02],\n",
       "       ..., \n",
       "       [ -3.00000000e+00,  -2.00000000e+00,  -1.00000000e+00,\n",
       "          3.15678282e+02],\n",
       "       [  4.00000000e+00,   0.00000000e+00,   0.00000000e+00,\n",
       "          2.98272622e+03],\n",
       "       [ -4.00000000e+00,   0.00000000e+00,   0.00000000e+00,\n",
       "          2.98272622e+03]])"
      ]
     },
     "execution_count": 27,
     "metadata": {},
     "output_type": "execute_result"
    }
   ],
   "source": [
    "np.concatenate((reflist, np.array([SF]).T), 1)\n",
    "\n"
   ]
  },
  {
   "cell_type": "code",
   "execution_count": 21,
   "metadata": {},
   "outputs": [
    {
     "data": {
      "text/plain": [
       "(256,)"
      ]
     },
     "execution_count": 21,
     "metadata": {},
     "output_type": "execute_result"
    }
   ],
   "source": [
    "reflist.shape\n",
    "SF.shape"
   ]
  },
  {
   "cell_type": "code",
   "execution_count": null,
   "metadata": {},
   "outputs": [],
   "source": []
  }
 ],
 "metadata": {
  "kernelspec": {
   "display_name": "Python 2",
   "language": "python",
   "name": "python2"
  },
  "language_info": {
   "codemirror_mode": {
    "name": "ipython",
    "version": 2
   },
   "file_extension": ".py",
   "mimetype": "text/x-python",
   "name": "python",
   "nbconvert_exporter": "python",
   "pygments_lexer": "ipython2",
   "version": "2.7.15"
  }
 },
 "nbformat": 4,
 "nbformat_minor": 2
}
