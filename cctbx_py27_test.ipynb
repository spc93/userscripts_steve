{
 "cells": [
  {
   "cell_type": "markdown",
   "metadata": {},
   "source": [
    "Write alternative to CIF loader for tensor calcs (sg number and wyckoff letter)"
   ]
  },
  {
   "cell_type": "code",
   "execution_count": 40,
   "metadata": {},
   "outputs": [
    {
     "name": "stdout",
     "output_type": "stream",
     "text": [
      "\n",
      "Space group P m m 2 (No. 25) \n",
      "\n",
      "x,y,z\n",
      "-x,-y,z\n",
      "-x,y,z\n",
      "x,-y,z\n",
      "\n",
      "Space group P m m 2 (No. 25) Number of special sites 9\n",
      "\n",
      "4 i x,y,z\n",
      "2 h 1/2,y,z\n",
      "2 g 0,y,z\n",
      "2 f x,1/2,z\n",
      "2 e x,0,z\n",
      "1 d 1/2,1/2,z\n",
      "1 c 1/2,0,z\n",
      "1 b 0,1/2,z\n",
      "1 a 0,0,z\n"
     ]
    }
   ],
   "source": [
    "import cctbx.sgtbx as sg\n",
    "\n",
    "sgi = sg.space_group_info(25)\n",
    "sg = sgi.group()\n",
    "sn = sgi.symbol_and_number()\n",
    "\n",
    "print('\\nSpace group %s \\n' % sn)\n",
    "\n",
    "for s in sg.all_ops():\n",
    "    print(str(s.as_xyz()))\n",
    "\n",
    "w = sgi.wyckoff_table()\n",
    "\n",
    "print('\\nSpace group %s Number of special sites %i\\n' % (sn, w.size()))\n",
    "\n",
    "for i in range(w.size()):\n",
    "    posn = str(w.position(i).special_op())\n",
    "    Wyckoff_sym = w.position(i).letter()\n",
    "    multiplicity = w.position(i).multiplicity()\n",
    "    print('%i %s %s' % (multiplicity, Wyckoff_sym, posn))"
   ]
  },
  {
   "cell_type": "code",
   "execution_count": 115,
   "metadata": {},
   "outputs": [],
   "source": []
  }
 ],
 "metadata": {
  "kernelspec": {
   "display_name": "Python 2.7 + CCTBX [Conda DLS]",
   "language": "python",
   "name": "conda-env-Conda_DLS-python2.7cctbx"
  },
  "language_info": {
   "codemirror_mode": {
    "name": "ipython",
    "version": 2
   },
   "file_extension": ".py",
   "mimetype": "text/x-python",
   "name": "python",
   "nbconvert_exporter": "python",
   "pygments_lexer": "ipython2",
   "version": "2.7.15"
  }
 },
 "nbformat": 4,
 "nbformat_minor": 2
}
