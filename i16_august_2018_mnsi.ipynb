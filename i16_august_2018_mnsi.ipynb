{
 "cells": [
  {
   "cell_type": "code",
   "execution_count": 1,
   "metadata": {},
   "outputs": [
    {
     "name": "stdout",
     "output_type": "stream",
     "text": [
      "=== Importing dlstools package\n",
      "=== Need to obtain specfilewrapper.py and compatible specfile.so from ERSF PyMCA package in order to load spec files\n"
     ]
    },
    {
     "name": "stderr",
     "output_type": "stream",
     "text": [
      "/dls_sw/apps/scisoftpy/2.7/scisoftpy/_external/tifffile.py:284: UserWarning: ImportError: No module named '_tifffile'. Loading of some compressed images will be very slow. Tifffile.c can be obtained at http://www.lfd.uci.edu/~gohlke/\n",
      "  \"ImportError: No module named '_tifffile'. \"\n",
      "Could not import plotting routines\n",
      "No module named py4j.java_gateway\n"
     ]
    }
   ],
   "source": [
    "datadir='/dls/i16/data/2018/mt17676-1/'\n",
    "\n",
    "import sys\n",
    "sys.path\n",
    "sys.path.append('/dls_sw/apps/scisoftpy/2.7')\n",
    "sys.path.append('/dls_sw/i16/software/python')\n",
    "%matplotlib nbagg\n",
    "from matplotlib.pyplot import *\n",
    "from numpy import *\n",
    "#from dlstools.quickfit import *\n",
    "#from dlstools.dirty_fit import fit\n",
    "from dlstools import dataloader\n",
    "d=dataloader.dlsloader(datadir+'%i.dat')\n",
    "#p=dataloader.tiffloader(d, lambda obj: datadir+obj.pilatus2m_path_template)\n"
   ]
  },
  {
   "cell_type": "code",
   "execution_count": 10,
   "metadata": {},
   "outputs": [
    {
     "name": "stdout",
     "output_type": "stream",
     "text": [
      "2.019 1.977 -1.975 48.56057 96.58628 6.3 35.5271 71.438\n"
     ]
    }
   ],
   "source": [
    "d(668921)\n",
    "print d.h[0], d.k[0], d.l[0], d.mu, d.en, d.thp, d.tthp\n"
   ]
  },
  {
   "cell_type": "code",
   "execution_count": 25,
   "metadata": {},
   "outputs": [
    {
     "data": {
      "text/plain": [
       "26.56505117707799"
      ]
     },
     "execution_count": 25,
     "metadata": {},
     "output_type": "execute_result"
    }
   ],
   "source": [
    "np.arccos(2./np.sqrt(5))*180/np.pi"
   ]
  },
  {
   "cell_type": "code",
   "execution_count": null,
   "metadata": {},
   "outputs": [],
   "source": []
  }
 ],
 "metadata": {
  "kernelspec": {
   "display_name": "Python 2",
   "language": "python",
   "name": "python2"
  },
  "language_info": {
   "codemirror_mode": {
    "name": "ipython",
    "version": 2
   },
   "file_extension": ".py",
   "mimetype": "text/x-python",
   "name": "python",
   "nbconvert_exporter": "python",
   "pygments_lexer": "ipython2",
   "version": "2.7.15"
  }
 },
 "nbformat": 4,
 "nbformat_minor": 2
}
