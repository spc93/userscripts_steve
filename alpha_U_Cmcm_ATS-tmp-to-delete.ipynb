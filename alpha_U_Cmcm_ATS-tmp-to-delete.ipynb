{
 "cells": [
  {
   "cell_type": "code",
   "execution_count": 1,
   "metadata": {},
   "outputs": [],
   "source": [
    "#%run TensorScatteringClass"
   ]
  },
  {
   "cell_type": "code",
   "execution_count": 3,
   "metadata": {},
   "outputs": [
    {
     "name": "stdout",
     "output_type": "stream",
     "text": [
      "\n",
      "Crystal properties\n",
      "\n",
      "                    CIF file:  /home/spc93/spc_cifs/alpha U Cmcm icsd_653368_cifbib.cif\n",
      "                     Lattice:  2.854 5.868 4.955 90.00 90.00 90.00\n",
      "                   All sites:  U1\n",
      "               Site selected:  U1\n",
      "                 Site vector:  0.000 0.102 0.250\n",
      "       No. of spacegroup ops:  16\n",
      "      No. of sym ops at site:  4\n",
      " No. of equiv. sites in cell:  4\n",
      "   No. of pg ops for crystal:  8\n",
      "\n",
      "Tensor properties\n",
      "\n",
      "             Required parity:  Even\n",
      "          Required time sym.:  Even\n",
      "                         hkl:  [0.0, 0.0, 0.0]\n",
      "                Site allowed:  Yes\n",
      "   Structure factor for site:  4.00+0.00i\n",
      "          Spacegroup allowed:  Yes\n",
      "              Tensor allowed:  Yes\n",
      "                      Parity:  Even\n",
      "                        Time:  Either\n",
      "                          PT:  Either\n",
      "=== Warning: the phase sum for first (identity) operator is close to zero. This was not expected\n",
      "\n",
      "Tensor properties\n",
      "\n",
      "             Required parity:  Even\n",
      "          Required time sym.:  Even\n",
      "                         hkl:  [1.0, 0.0, 0.0]\n",
      "                Site allowed:  No\n",
      "   Structure factor for site:  0.00+0.00i\n",
      "          Spacegroup allowed:  No\n",
      "              Tensor allowed:  No\n",
      "                      Parity:  Either\n",
      "                        Time:  Either\n",
      "                          PT:  Either\n",
      "\n",
      "Tensor properties\n",
      "\n",
      "             Required parity:  Even\n",
      "          Required time sym.:  Even\n",
      "                         hkl:  [2.0, 0.0, 0.0]\n",
      "                Site allowed:  Yes\n",
      "   Structure factor for site:  4.00+-0.00i\n",
      "          Spacegroup allowed:  Yes\n",
      "              Tensor allowed:  Yes\n",
      "                      Parity:  Even\n",
      "                        Time:  Either\n",
      "                          PT:  Either\n",
      "=== Warning: the phase sum for first (identity) operator is close to zero. This was not expected\n",
      "\n",
      "Tensor properties\n",
      "\n",
      "             Required parity:  Even\n",
      "          Required time sym.:  Even\n",
      "                         hkl:  [3.0, 0.0, 0.0]\n",
      "                Site allowed:  No\n",
      "   Structure factor for site:  0.00+0.00i\n",
      "          Spacegroup allowed:  No\n",
      "              Tensor allowed:  No\n",
      "                      Parity:  Either\n",
      "                        Time:  Either\n",
      "                          PT:  Either\n",
      "\n",
      "Tensor properties\n",
      "\n",
      "             Required parity:  Even\n",
      "          Required time sym.:  Even\n",
      "                         hkl:  [4.0, 0.0, 0.0]\n",
      "                Site allowed:  Yes\n",
      "   Structure factor for site:  4.00+-0.00i\n",
      "          Spacegroup allowed:  Yes\n",
      "              Tensor allowed:  Yes\n",
      "                      Parity:  Even\n",
      "                        Time:  Either\n",
      "                          PT:  Either\n",
      "([0, 0, 0], 1)\n",
      "([1, 0, 0], 0)\n",
      "([2, 0, 0], 1)\n",
      "([3, 0, 0], 0)\n",
      "([4, 0, 0], 1)\n"
     ]
    }
   ],
   "source": [
    "import TensorScatteringClass as ten\n",
    "import numpy as np\n",
    "%matplotlib inline\n",
    "\n",
    "#Here is the cif file for U2N3. The reflections we measured were the [002], [0,1,3], [0,2,2] \n",
    "#and the azimuthal reference is [1,0,0].\n",
    "\n",
    "E_UM5 = 3.552\n",
    "\n",
    "t=ten.TensorScatteringClass(CIFfile='/home/spc93/spc_cifs/alpha U Cmcm icsd_653368_cifbib.cif', Site='U1');\n",
    "#t.PlotIntensityInPolarizationChannels('E1E2', lam=12.4/E_UM5, hkl=np.array(ref), hkln=np.array([1,0,0]), K=3, Time=1, Parity=-1, mk=None, lk=None, sk=None, sigmapi='sigma')\n",
    "\n",
    "refs = [ [0,0,0], [1,0,0], [2,0,0], [3,0,0], [4,0,0] ] \n",
    "allowed = []\n",
    "\n",
    "for ref in refs:\n",
    "    t.TensorCalc(hkl=np.array(ref), K=2, Parity=1, Time=1)\n",
    "    allowed += [t.gen_scalar_allowed]\n",
    "\n",
    "for i in range(len(refs)):\n",
    "    print(refs[i], allowed[i])\n",
    "\n",
    "\n",
    "\n"
   ]
  },
  {
   "cell_type": "code",
   "execution_count": 6,
   "metadata": {},
   "outputs": [
    {
     "data": {
      "text/plain": [
       "<CifFile.CifFile_module.CifFile at 0x7f2262b2ef10>"
      ]
     },
     "execution_count": 6,
     "metadata": {},
     "output_type": "execute_result"
    }
   ],
   "source": [
    "t.cif_obj"
   ]
  },
  {
   "cell_type": "code",
   "execution_count": 8,
   "metadata": {},
   "outputs": [],
   "source": [
    "firstkey = t.cif_obj.keys()[0]; cb = t.cifblock=t.cif_obj[firstkey]"
   ]
  },
  {
   "cell_type": "code",
   "execution_count": 11,
   "metadata": {},
   "outputs": [
    {
     "data": {
      "text/plain": [
       "u'653368-icsd'"
      ]
     },
     "execution_count": 11,
     "metadata": {},
     "output_type": "execute_result"
    }
   ],
   "source": [
    "firstkey"
   ]
  },
  {
   "cell_type": "code",
   "execution_count": null,
   "metadata": {},
   "outputs": [],
   "source": []
  }
 ],
 "metadata": {
  "kernelspec": {
   "display_name": "Python 2.7 + CCTBX [Conda DLS]",
   "language": "python",
   "name": "conda-env-Conda_DLS-python2.7cctbx"
  },
  "language_info": {
   "codemirror_mode": {
    "name": "ipython",
    "version": 2
   },
   "file_extension": ".py",
   "mimetype": "text/x-python",
   "name": "python",
   "nbconvert_exporter": "python",
   "pygments_lexer": "ipython2",
   "version": "2.7.15"
  }
 },
 "nbformat": 4,
 "nbformat_minor": 2
}
